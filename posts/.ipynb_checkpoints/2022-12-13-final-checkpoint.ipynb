{
 "cells": [
  {
   "cell_type": "raw",
   "id": "c1cc3ed2-0748-494d-99e2-00c0e8802a76",
   "metadata": {},
   "source": [
    "---\n",
    "title: \"final (ver 0.9) \"\n",
    "author: \"최규빈\"\n",
    "date: \"12/13/2022\"\n",
    "---"
   ]
  },
  {
   "cell_type": "markdown",
   "id": "5f690c33-7910-4e57-b51c-4625a7472cc1",
   "metadata": {},
   "source": [
    "> 기말고사"
   ]
  },
  {
   "cell_type": "code",
   "execution_count": 3,
   "id": "e318419b-5f89-413d-863e-c760ad77321e",
   "metadata": {},
   "outputs": [],
   "source": [
    "import torch \n",
    "from fastai.text.all import *"
   ]
  },
  {
   "cell_type": "markdown",
   "id": "76aa332c-6553-4dce-ad72-e6a4f6a3f934",
   "metadata": {},
   "source": [
    "## `1`. COVID19 tweets $\\to$ 텍스트생성 (30점)"
   ]
  },
  {
   "cell_type": "markdown",
   "id": "72118825-9a24-46fb-ad75-538179af9a2a",
   "metadata": {},
   "source": [
    "아래의 코드를 이용하여 자료를 다운로드 하라. "
   ]
  },
  {
   "cell_type": "code",
   "execution_count": 79,
   "id": "4cd6aea4-e2aa-4379-8957-75be81a3466a",
   "metadata": {},
   "outputs": [
    {
     "data": {
      "text/html": [
       "<div>\n",
       "<style scoped>\n",
       "    .dataframe tbody tr th:only-of-type {\n",
       "        vertical-align: middle;\n",
       "    }\n",
       "\n",
       "    .dataframe tbody tr th {\n",
       "        vertical-align: top;\n",
       "    }\n",
       "\n",
       "    .dataframe thead th {\n",
       "        text-align: right;\n",
       "    }\n",
       "</style>\n",
       "<table border=\"1\" class=\"dataframe\">\n",
       "  <thead>\n",
       "    <tr style=\"text-align: right;\">\n",
       "      <th></th>\n",
       "      <th>UserName</th>\n",
       "      <th>ScreenName</th>\n",
       "      <th>Location</th>\n",
       "      <th>TweetAt</th>\n",
       "      <th>OriginalTweet</th>\n",
       "      <th>Sentiment</th>\n",
       "    </tr>\n",
       "  </thead>\n",
       "  <tbody>\n",
       "    <tr>\n",
       "      <th>0</th>\n",
       "      <td>3799</td>\n",
       "      <td>48751</td>\n",
       "      <td>London</td>\n",
       "      <td>16-03-2020</td>\n",
       "      <td>@MeNyrbie @Phil_Gahan @Chrisitv https://t.co/iFz9FAn2Pa and https://t.co/xX6ghGFzCC and https://t.co/I2NlzdxNo8</td>\n",
       "      <td>Neutral</td>\n",
       "    </tr>\n",
       "    <tr>\n",
       "      <th>1</th>\n",
       "      <td>3800</td>\n",
       "      <td>48752</td>\n",
       "      <td>UK</td>\n",
       "      <td>16-03-2020</td>\n",
       "      <td>advice Talk to your neighbours family to exchange phone numbers create contact list with phone numbers of neighbours schools employer chemist GP set up online shopping accounts if poss adequate supplies of regular meds but not over order</td>\n",
       "      <td>Positive</td>\n",
       "    </tr>\n",
       "    <tr>\n",
       "      <th>2</th>\n",
       "      <td>3801</td>\n",
       "      <td>48753</td>\n",
       "      <td>Vagabonds</td>\n",
       "      <td>16-03-2020</td>\n",
       "      <td>Coronavirus Australia: Woolworths to give elderly, disabled dedicated shopping hours amid COVID-19 outbreak https://t.co/bInCA9Vp8P</td>\n",
       "      <td>Positive</td>\n",
       "    </tr>\n",
       "    <tr>\n",
       "      <th>3</th>\n",
       "      <td>3802</td>\n",
       "      <td>48754</td>\n",
       "      <td>NaN</td>\n",
       "      <td>16-03-2020</td>\n",
       "      <td>My food stock is not the only one which is empty...\\r\\r\\n\\r\\r\\nPLEASE, don't panic, THERE WILL BE ENOUGH FOOD FOR EVERYONE if you do not take more than you need. \\r\\r\\nStay calm, stay safe.\\r\\r\\n\\r\\r\\n#COVID19france #COVID_19 #COVID19 #coronavirus #confinement #Confinementotal #ConfinementGeneral https://t.co/zrlG0Z520j</td>\n",
       "      <td>Positive</td>\n",
       "    </tr>\n",
       "    <tr>\n",
       "      <th>4</th>\n",
       "      <td>3803</td>\n",
       "      <td>48755</td>\n",
       "      <td>NaN</td>\n",
       "      <td>16-03-2020</td>\n",
       "      <td>Me, ready to go at supermarket during the #COVID19 outbreak.\\r\\r\\n\\r\\r\\nNot because I'm paranoid, but because my food stock is litteraly empty. The #coronavirus is a serious thing, but please, don't panic. It causes shortage...\\r\\r\\n\\r\\r\\n#CoronavirusFrance #restezchezvous #StayAtHome #confinement https://t.co/usmuaLq72n</td>\n",
       "      <td>Extremely Negative</td>\n",
       "    </tr>\n",
       "    <tr>\n",
       "      <th>...</th>\n",
       "      <td>...</td>\n",
       "      <td>...</td>\n",
       "      <td>...</td>\n",
       "      <td>...</td>\n",
       "      <td>...</td>\n",
       "      <td>...</td>\n",
       "    </tr>\n",
       "    <tr>\n",
       "      <th>41152</th>\n",
       "      <td>44951</td>\n",
       "      <td>89903</td>\n",
       "      <td>Wellington City, New Zealand</td>\n",
       "      <td>14-04-2020</td>\n",
       "      <td>Airline pilots offering to stock supermarket shelves in #NZ lockdown #COVID-19 https://t.co/cz89uA0HNp</td>\n",
       "      <td>Neutral</td>\n",
       "    </tr>\n",
       "    <tr>\n",
       "      <th>41153</th>\n",
       "      <td>44952</td>\n",
       "      <td>89904</td>\n",
       "      <td>NaN</td>\n",
       "      <td>14-04-2020</td>\n",
       "      <td>Response to complaint not provided citing COVID-19 related delays. Yet prompt in rejecting policy before consumer TAT is over. Way to go ?</td>\n",
       "      <td>Extremely Negative</td>\n",
       "    </tr>\n",
       "    <tr>\n",
       "      <th>41154</th>\n",
       "      <td>44953</td>\n",
       "      <td>89905</td>\n",
       "      <td>NaN</td>\n",
       "      <td>14-04-2020</td>\n",
       "      <td>You know itÂs getting tough when @KameronWilds  is rationing toilet paper #coronavirus #toiletpaper @kroger martinsville, help us out!!</td>\n",
       "      <td>Positive</td>\n",
       "    </tr>\n",
       "    <tr>\n",
       "      <th>41155</th>\n",
       "      <td>44954</td>\n",
       "      <td>89906</td>\n",
       "      <td>NaN</td>\n",
       "      <td>14-04-2020</td>\n",
       "      <td>Is it wrong that the smell of hand sanitizer is starting to turn me on?\\r\\r\\n\\r\\r\\n#coronavirus #COVID19 #coronavirus</td>\n",
       "      <td>Neutral</td>\n",
       "    </tr>\n",
       "    <tr>\n",
       "      <th>41156</th>\n",
       "      <td>44955</td>\n",
       "      <td>89907</td>\n",
       "      <td>i love you so much || he/him</td>\n",
       "      <td>14-04-2020</td>\n",
       "      <td>@TartiiCat Well new/used Rift S are going for $700.00 on Amazon rn although the normal market price is usually $400.00 . Prices are really crazy right now for vr headsets since HL Alex was announced and it's only been worse with COVID-19. Up to you whethe</td>\n",
       "      <td>Negative</td>\n",
       "    </tr>\n",
       "  </tbody>\n",
       "</table>\n",
       "<p>41157 rows × 6 columns</p>\n",
       "</div>"
      ],
      "text/plain": [
       "       UserName  ScreenName                      Location     TweetAt  \\\n",
       "0          3799       48751                        London  16-03-2020   \n",
       "1          3800       48752                            UK  16-03-2020   \n",
       "2          3801       48753                     Vagabonds  16-03-2020   \n",
       "3          3802       48754                           NaN  16-03-2020   \n",
       "4          3803       48755                           NaN  16-03-2020   \n",
       "...         ...         ...                           ...         ...   \n",
       "41152     44951       89903  Wellington City, New Zealand  14-04-2020   \n",
       "41153     44952       89904                           NaN  14-04-2020   \n",
       "41154     44953       89905                           NaN  14-04-2020   \n",
       "41155     44954       89906                           NaN  14-04-2020   \n",
       "41156     44955       89907  i love you so much || he/him  14-04-2020   \n",
       "\n",
       "                                                                                                                                                                                                                                                                                                                            OriginalTweet  \\\n",
       "0                                                                                                                                                                                                                         @MeNyrbie @Phil_Gahan @Chrisitv https://t.co/iFz9FAn2Pa and https://t.co/xX6ghGFzCC and https://t.co/I2NlzdxNo8   \n",
       "1                                                                                           advice Talk to your neighbours family to exchange phone numbers create contact list with phone numbers of neighbours schools employer chemist GP set up online shopping accounts if poss adequate supplies of regular meds but not over order   \n",
       "2                                                                                                                                                                                                     Coronavirus Australia: Woolworths to give elderly, disabled dedicated shopping hours amid COVID-19 outbreak https://t.co/bInCA9Vp8P   \n",
       "3       My food stock is not the only one which is empty...\\r\\r\\n\\r\\r\\nPLEASE, don't panic, THERE WILL BE ENOUGH FOOD FOR EVERYONE if you do not take more than you need. \\r\\r\\nStay calm, stay safe.\\r\\r\\n\\r\\r\\n#COVID19france #COVID_19 #COVID19 #coronavirus #confinement #Confinementotal #ConfinementGeneral https://t.co/zrlG0Z520j   \n",
       "4      Me, ready to go at supermarket during the #COVID19 outbreak.\\r\\r\\n\\r\\r\\nNot because I'm paranoid, but because my food stock is litteraly empty. The #coronavirus is a serious thing, but please, don't panic. It causes shortage...\\r\\r\\n\\r\\r\\n#CoronavirusFrance #restezchezvous #StayAtHome #confinement https://t.co/usmuaLq72n   \n",
       "...                                                                                                                                                                                                                                                                                                                                   ...   \n",
       "41152                                                                                                                                                                                                                              Airline pilots offering to stock supermarket shelves in #NZ lockdown #COVID-19 https://t.co/cz89uA0HNp   \n",
       "41153                                                                                                                                                                                          Response to complaint not provided citing COVID-19 related delays. Yet prompt in rejecting policy before consumer TAT is over. Way to go ?   \n",
       "41154                                                                                                                                                                                            You know itÂs getting tough when @KameronWilds  is rationing toilet paper #coronavirus #toiletpaper @kroger martinsville, help us out!!   \n",
       "41155                                                                                                                                                                                                               Is it wrong that the smell of hand sanitizer is starting to turn me on?\\r\\r\\n\\r\\r\\n#coronavirus #COVID19 #coronavirus   \n",
       "41156                                                                     @TartiiCat Well new/used Rift S are going for $700.00 on Amazon rn although the normal market price is usually $400.00 . Prices are really crazy right now for vr headsets since HL Alex was announced and it's only been worse with COVID-19. Up to you whethe   \n",
       "\n",
       "                Sentiment  \n",
       "0                 Neutral  \n",
       "1                Positive  \n",
       "2                Positive  \n",
       "3                Positive  \n",
       "4      Extremely Negative  \n",
       "...                   ...  \n",
       "41152             Neutral  \n",
       "41153  Extremely Negative  \n",
       "41154            Positive  \n",
       "41155             Neutral  \n",
       "41156            Negative  \n",
       "\n",
       "[41157 rows x 6 columns]"
      ]
     },
     "execution_count": 79,
     "metadata": {},
     "output_type": "execute_result"
    }
   ],
   "source": [
    "df = pd.read_csv('Corona_NLP_train.csv',encoding=\"ISO-8859-1\")\n",
    "df"
   ]
  },
  {
   "cell_type": "markdown",
   "id": "0ea33f13-edd3-4cc5-a7f7-d67b699bd448",
   "metadata": {},
   "source": [
    "`(1)` `TextDataLoaders.from_df`을 이용하여 dls오브젝트를 만들어라. \n",
    "\n",
    "- text_col='OriginalTweet' 로 설정 \n",
    "- is_lm=True 로 설정\n",
    "- seq_len=64 로 설정"
   ]
  },
  {
   "cell_type": "code",
   "execution_count": null,
   "id": "3fc977fd-55d8-4762-aba7-e9aed0200bc4",
   "metadata": {},
   "outputs": [
    {
     "data": {
      "text/html": [
       "\n",
       "<style>\n",
       "    /* Turns off some styling */\n",
       "    progress {\n",
       "        /* gets rid of default border in Firefox and Opera. */\n",
       "        border: none;\n",
       "        /* Needs to be in here for Safari polyfill so background images work as expected. */\n",
       "        background-size: auto;\n",
       "    }\n",
       "    progress:not([value]), progress:not([value])::-webkit-progress-bar {\n",
       "        background: repeating-linear-gradient(45deg, #7e7e7e, #7e7e7e 10px, #5c5c5c 10px, #5c5c5c 20px);\n",
       "    }\n",
       "    .progress-bar-interrupted, .progress-bar-interrupted::-webkit-progress-bar {\n",
       "        background: #F44336;\n",
       "    }\n",
       "</style>\n"
      ],
      "text/plain": [
       "<IPython.core.display.HTML object>"
      ]
     },
     "metadata": {},
     "output_type": "display_data"
    },
    {
     "data": {
      "text/html": [],
      "text/plain": [
       "<IPython.core.display.HTML object>"
      ]
     },
     "metadata": {},
     "output_type": "display_data"
    },
    {
     "data": {
      "text/html": [
       "<table border=\"1\" class=\"dataframe\">\n",
       "  <thead>\n",
       "    <tr style=\"text-align: right;\">\n",
       "      <th></th>\n",
       "      <th>text</th>\n",
       "      <th>text_</th>\n",
       "    </tr>\n",
       "  </thead>\n",
       "  <tbody>\n",
       "    <tr>\n",
       "      <th>0</th>\n",
       "      <td>xxbos xxmaj and xxmaj iâm not even talking about the xxunk alone . \\r\\r\\n\\r\\r\\n xxmaj iâm just saying everybody is about to be arguing with everybody cause a lot of folks have more time to be arguing with everybody and idle hands are the xxunk xxunk and i just … . https : / / t.co / xxunk xxbos xxmaj stop being so selfish</td>\n",
       "      <td>xxmaj and xxmaj iâm not even talking about the xxunk alone . \\r\\r\\n\\r\\r\\n xxmaj iâm just saying everybody is about to be arguing with everybody cause a lot of folks have more time to be arguing with everybody and idle hands are the xxunk xxunk and i just … . https : / / t.co / xxunk xxbos xxmaj stop being so selfish when</td>\n",
       "    </tr>\n",
       "    <tr>\n",
       "      <th>1</th>\n",
       "      <td>is the big problem . \\r\\r\\n\\r\\r\\n xxmaj richa xxmaj arora of xxmaj tata xxmaj consumer xxmaj products says that xxunk of govt notifications have been a xxunk . \\r\\r\\n\\r\\r\\n▁ # xxmaj covid_19 # coronavirus https : / / t.co / xxunk xxbos xxmaj hey @borisjohnson \\r\\r\\n xxmaj if you donât put a measure in place for people to stop panic buying / hoarding food</td>\n",
       "      <td>the big problem . \\r\\r\\n\\r\\r\\n xxmaj richa xxmaj arora of xxmaj tata xxmaj consumer xxmaj products says that xxunk of govt notifications have been a xxunk . \\r\\r\\n\\r\\r\\n▁ # xxmaj covid_19 # coronavirus https : / / t.co / xxunk xxbos xxmaj hey @borisjohnson \\r\\r\\n xxmaj if you donât put a measure in place for people to stop panic buying / hoarding food and</td>\n",
       "    </tr>\n",
       "    <tr>\n",
       "      <th>2</th>\n",
       "      <td>sold my bags gon na pick up when the prices drop . # coronavirus # cryptocurrency # btc # quarentinelife # xxmaj crypto # xxup hodl xxbos xxmaj online grocery shopping services have ground to a virtual halt in stricken xxmaj italy it xxbos xxmaj so @instacart is canceling orders without rescheduling them due to high demand despite putting in the orders a week</td>\n",
       "      <td>my bags gon na pick up when the prices drop . # coronavirus # cryptocurrency # btc # quarentinelife # xxmaj crypto # xxup hodl xxbos xxmaj online grocery shopping services have ground to a virtual halt in stricken xxmaj italy it xxbos xxmaj so @instacart is canceling orders without rescheduling them due to high demand despite putting in the orders a week or</td>\n",
       "    </tr>\n",
       "    <tr>\n",
       "      <th>3</th>\n",
       "      <td>xxunk through the grocery store to get my share . xxmaj and i forgot xxup tp . xxmaj ugh . xxbos xxmaj epic fail alert . xxmaj person waiting in line at supermarket with mask to avoid # coronavirusuk but taking it off to puff on a cigarette . xxup wtf ? \\r\\r\\n\\r\\r\\n▁ # coronavirus , bad for lungs so wear mask . xxmaj</td>\n",
       "      <td>through the grocery store to get my share . xxmaj and i forgot xxup tp . xxmaj ugh . xxbos xxmaj epic fail alert . xxmaj person waiting in line at supermarket with mask to avoid # coronavirusuk but taking it off to puff on a cigarette . xxup wtf ? \\r\\r\\n\\r\\r\\n▁ # coronavirus , bad for lungs so wear mask . xxmaj take</td>\n",
       "    </tr>\n",
       "    <tr>\n",
       "      <th>4</th>\n",
       "      <td>xxmaj where is that ? \" # socialdistancing xxbos xxmaj just managed to get a slot for an online shopping delivery , the absolute xxunk rush of it , felt like i was watching my lottery numbers come up # xxmaj covid_19 # selfisolating https : / / t.co / xxunk xxbos xxunk xxmaj you are right . xxup covid-19 is xxunk attacking older</td>\n",
       "      <td>where is that ? \" # socialdistancing xxbos xxmaj just managed to get a slot for an online shopping delivery , the absolute xxunk rush of it , felt like i was watching my lottery numbers come up # xxmaj covid_19 # selfisolating https : / / t.co / xxunk xxbos xxunk xxmaj you are right . xxup covid-19 is xxunk attacking older people</td>\n",
       "    </tr>\n",
       "    <tr>\n",
       "      <th>5</th>\n",
       "      <td>social distancing . # xxmaj rant 1 / 2 xxbos xxup covid-19 xxmaj xxunk : xxmaj frankie 's xxmaj supermarket is stocked up on supplies , only shortage is chicken supply xxmaj frankie 's xxmaj supermarket chain one of the largest in the country informed xxmaj xxunk xxmaj xxunk at this stage they are stocked up with foodstuffs . \\r\\r\\n xxmaj the only shortage</td>\n",
       "      <td>distancing . # xxmaj rant 1 / 2 xxbos xxup covid-19 xxmaj xxunk : xxmaj frankie 's xxmaj supermarket is stocked up on supplies , only shortage is chicken supply xxmaj frankie 's xxmaj supermarket chain one of the largest in the country informed xxmaj xxunk xxmaj xxunk at this stage they are stocked up with foodstuffs . \\r\\r\\n xxmaj the only shortage they</td>\n",
       "    </tr>\n",
       "    <tr>\n",
       "      <th>6</th>\n",
       "      <td>greed , stupidity , ignorance of older generations . \\r\\r\\n xxmaj now , # coronavirus restricts their lives , to protect the old \\r\\r\\n 1 ( 3 ) xxbos xxmaj best xxmaj online xxmaj shopping xxmaj sites for xxmaj womenâs xxmaj clothing and xxmaj accessories xxmaj that xxmaj are xxmaj giving xxmaj back xxmaj during xxup covid-19 # onlineshopping # xxmaj ecommerce [ video</td>\n",
       "      <td>, stupidity , ignorance of older generations . \\r\\r\\n xxmaj now , # coronavirus restricts their lives , to protect the old \\r\\r\\n 1 ( 3 ) xxbos xxmaj best xxmaj online xxmaj shopping xxmaj sites for xxmaj womenâs xxmaj clothing and xxmaj accessories xxmaj that xxmaj are xxmaj giving xxmaj back xxmaj during xxup covid-19 # onlineshopping # xxmaj ecommerce [ video ]</td>\n",
       "    </tr>\n",
       "    <tr>\n",
       "      <th>7</th>\n",
       "      <td>xxmaj world in xxup covid-19 xxmaj deaths , xxmaj trump xxmaj pushes to re - open xxmaj country in xxmaj early xxmaj may https : / / t.co / xxunk # mondaythoughts # coronavirus # xxup covid2019 xxbos xxmaj in the wake of xxup covid 19 , xxmaj lets xxmaj share xxmaj burden . \\r\\r\\n\\r\\r\\n xxmaj enjoy xxmaj flat 10 % xxmaj off +</td>\n",
       "      <td>world in xxup covid-19 xxmaj deaths , xxmaj trump xxmaj pushes to re - open xxmaj country in xxmaj early xxmaj may https : / / t.co / xxunk # mondaythoughts # coronavirus # xxup covid2019 xxbos xxmaj in the wake of xxup covid 19 , xxmaj lets xxmaj share xxmaj burden . \\r\\r\\n\\r\\r\\n xxmaj enjoy xxmaj flat 10 % xxmaj off + xxmaj</td>\n",
       "    </tr>\n",
       "    <tr>\n",
       "      <th>8</th>\n",
       "      <td>paper is being purchased online \\r\\r\\n https : / / t.co / xxunk # covid19 # supplychain # ecommerce xxbos # coronavirus xxmaj do n't forget that with any deliveries you receive make sure that you wipe them down with sanitizer wipes or disinfectant . xxmaj outer packaging gets xxunk straight away . xxmaj wipe down door handles and keep washing hands . xxbos</td>\n",
       "      <td>is being purchased online \\r\\r\\n https : / / t.co / xxunk # covid19 # supplychain # ecommerce xxbos # coronavirus xxmaj do n't forget that with any deliveries you receive make sure that you wipe them down with sanitizer wipes or disinfectant . xxmaj outer packaging gets xxunk straight away . xxmaj wipe down door handles and keep washing hands . xxbos #</td>\n",
       "    </tr>\n",
       "  </tbody>\n",
       "</table>"
      ],
      "text/plain": [
       "<IPython.core.display.HTML object>"
      ]
     },
     "metadata": {},
     "output_type": "display_data"
    }
   ],
   "source": [
    "## 올바르게 dls를 생성하였을 경우 dls.show_batch()의 결과는 아래와 같음. "
   ]
  },
  {
   "cell_type": "markdown",
   "id": "ca22c14b-0621-4a09-902e-d9268c2b1148",
   "metadata": {},
   "source": [
    "`(2)` language_model_learner를 이용하여 오브젝트를 생성하라. `lrnr.fine_tune(3,1e-1)`을 이용하여 학습하라. \n",
    "\n",
    "- arch= AWD_LSTM 이용\n",
    "- metrics = [accuracy,perplexity] "
   ]
  },
  {
   "cell_type": "markdown",
   "id": "20719ca3-ccf4-443d-b13c-00cc4e9f4239",
   "metadata": {},
   "source": [
    "`(3)` \"the price of\" 이후에 이어질 단어들을 생성하라. (`n_words=20` 으로 설정할 것)"
   ]
  },
  {
   "cell_type": "code",
   "execution_count": 94,
   "id": "abbd606d-3248-4601-9d6b-08caa25e0458",
   "metadata": {},
   "outputs": [
    {
     "data": {
      "text/html": [
       "\n",
       "<style>\n",
       "    /* Turns off some styling */\n",
       "    progress {\n",
       "        /* gets rid of default border in Firefox and Opera. */\n",
       "        border: none;\n",
       "        /* Needs to be in here for Safari polyfill so background images work as expected. */\n",
       "        background-size: auto;\n",
       "    }\n",
       "    progress:not([value]), progress:not([value])::-webkit-progress-bar {\n",
       "        background: repeating-linear-gradient(45deg, #7e7e7e, #7e7e7e 10px, #5c5c5c 10px, #5c5c5c 20px);\n",
       "    }\n",
       "    .progress-bar-interrupted, .progress-bar-interrupted::-webkit-progress-bar {\n",
       "        background: #F44336;\n",
       "    }\n",
       "</style>\n"
      ],
      "text/plain": [
       "<IPython.core.display.HTML object>"
      ]
     },
     "metadata": {},
     "output_type": "display_data"
    },
    {
     "data": {
      "text/html": [],
      "text/plain": [
       "<IPython.core.display.HTML object>"
      ]
     },
     "metadata": {},
     "output_type": "display_data"
    },
    {
     "data": {
      "text/plain": [
       "'the price of stuff increases in other states as a result of the # coronavirus pandemic . So it makes alternatives .'"
      ]
     },
     "execution_count": 94,
     "metadata": {},
     "output_type": "execute_result"
    }
   ],
   "source": [
    "## 생성예시"
   ]
  },
  {
   "cell_type": "markdown",
   "id": "9f515445-3105-494a-9807-8e130dd755c3",
   "metadata": {
    "tags": []
   },
   "source": [
    "## `2`. COVID19 tweets $\\to$ 분류 (30점)"
   ]
  },
  {
   "cell_type": "markdown",
   "id": "12858b2c-50b4-4e85-bdc0-1fb06a28e2a5",
   "metadata": {},
   "source": [
    "아래의 코드를 이용하여 자료를 다운로드 하라. "
   ]
  },
  {
   "cell_type": "code",
   "execution_count": 79,
   "id": "bfc68570-5e4f-432a-b44d-a5b9a835f9bb",
   "metadata": {},
   "outputs": [
    {
     "data": {
      "text/html": [
       "<div>\n",
       "<style scoped>\n",
       "    .dataframe tbody tr th:only-of-type {\n",
       "        vertical-align: middle;\n",
       "    }\n",
       "\n",
       "    .dataframe tbody tr th {\n",
       "        vertical-align: top;\n",
       "    }\n",
       "\n",
       "    .dataframe thead th {\n",
       "        text-align: right;\n",
       "    }\n",
       "</style>\n",
       "<table border=\"1\" class=\"dataframe\">\n",
       "  <thead>\n",
       "    <tr style=\"text-align: right;\">\n",
       "      <th></th>\n",
       "      <th>UserName</th>\n",
       "      <th>ScreenName</th>\n",
       "      <th>Location</th>\n",
       "      <th>TweetAt</th>\n",
       "      <th>OriginalTweet</th>\n",
       "      <th>Sentiment</th>\n",
       "    </tr>\n",
       "  </thead>\n",
       "  <tbody>\n",
       "    <tr>\n",
       "      <th>0</th>\n",
       "      <td>3799</td>\n",
       "      <td>48751</td>\n",
       "      <td>London</td>\n",
       "      <td>16-03-2020</td>\n",
       "      <td>@MeNyrbie @Phil_Gahan @Chrisitv https://t.co/iFz9FAn2Pa and https://t.co/xX6ghGFzCC and https://t.co/I2NlzdxNo8</td>\n",
       "      <td>Neutral</td>\n",
       "    </tr>\n",
       "    <tr>\n",
       "      <th>1</th>\n",
       "      <td>3800</td>\n",
       "      <td>48752</td>\n",
       "      <td>UK</td>\n",
       "      <td>16-03-2020</td>\n",
       "      <td>advice Talk to your neighbours family to exchange phone numbers create contact list with phone numbers of neighbours schools employer chemist GP set up online shopping accounts if poss adequate supplies of regular meds but not over order</td>\n",
       "      <td>Positive</td>\n",
       "    </tr>\n",
       "    <tr>\n",
       "      <th>2</th>\n",
       "      <td>3801</td>\n",
       "      <td>48753</td>\n",
       "      <td>Vagabonds</td>\n",
       "      <td>16-03-2020</td>\n",
       "      <td>Coronavirus Australia: Woolworths to give elderly, disabled dedicated shopping hours amid COVID-19 outbreak https://t.co/bInCA9Vp8P</td>\n",
       "      <td>Positive</td>\n",
       "    </tr>\n",
       "    <tr>\n",
       "      <th>3</th>\n",
       "      <td>3802</td>\n",
       "      <td>48754</td>\n",
       "      <td>NaN</td>\n",
       "      <td>16-03-2020</td>\n",
       "      <td>My food stock is not the only one which is empty...\\r\\r\\n\\r\\r\\nPLEASE, don't panic, THERE WILL BE ENOUGH FOOD FOR EVERYONE if you do not take more than you need. \\r\\r\\nStay calm, stay safe.\\r\\r\\n\\r\\r\\n#COVID19france #COVID_19 #COVID19 #coronavirus #confinement #Confinementotal #ConfinementGeneral https://t.co/zrlG0Z520j</td>\n",
       "      <td>Positive</td>\n",
       "    </tr>\n",
       "    <tr>\n",
       "      <th>4</th>\n",
       "      <td>3803</td>\n",
       "      <td>48755</td>\n",
       "      <td>NaN</td>\n",
       "      <td>16-03-2020</td>\n",
       "      <td>Me, ready to go at supermarket during the #COVID19 outbreak.\\r\\r\\n\\r\\r\\nNot because I'm paranoid, but because my food stock is litteraly empty. The #coronavirus is a serious thing, but please, don't panic. It causes shortage...\\r\\r\\n\\r\\r\\n#CoronavirusFrance #restezchezvous #StayAtHome #confinement https://t.co/usmuaLq72n</td>\n",
       "      <td>Extremely Negative</td>\n",
       "    </tr>\n",
       "    <tr>\n",
       "      <th>...</th>\n",
       "      <td>...</td>\n",
       "      <td>...</td>\n",
       "      <td>...</td>\n",
       "      <td>...</td>\n",
       "      <td>...</td>\n",
       "      <td>...</td>\n",
       "    </tr>\n",
       "    <tr>\n",
       "      <th>41152</th>\n",
       "      <td>44951</td>\n",
       "      <td>89903</td>\n",
       "      <td>Wellington City, New Zealand</td>\n",
       "      <td>14-04-2020</td>\n",
       "      <td>Airline pilots offering to stock supermarket shelves in #NZ lockdown #COVID-19 https://t.co/cz89uA0HNp</td>\n",
       "      <td>Neutral</td>\n",
       "    </tr>\n",
       "    <tr>\n",
       "      <th>41153</th>\n",
       "      <td>44952</td>\n",
       "      <td>89904</td>\n",
       "      <td>NaN</td>\n",
       "      <td>14-04-2020</td>\n",
       "      <td>Response to complaint not provided citing COVID-19 related delays. Yet prompt in rejecting policy before consumer TAT is over. Way to go ?</td>\n",
       "      <td>Extremely Negative</td>\n",
       "    </tr>\n",
       "    <tr>\n",
       "      <th>41154</th>\n",
       "      <td>44953</td>\n",
       "      <td>89905</td>\n",
       "      <td>NaN</td>\n",
       "      <td>14-04-2020</td>\n",
       "      <td>You know itÂs getting tough when @KameronWilds  is rationing toilet paper #coronavirus #toiletpaper @kroger martinsville, help us out!!</td>\n",
       "      <td>Positive</td>\n",
       "    </tr>\n",
       "    <tr>\n",
       "      <th>41155</th>\n",
       "      <td>44954</td>\n",
       "      <td>89906</td>\n",
       "      <td>NaN</td>\n",
       "      <td>14-04-2020</td>\n",
       "      <td>Is it wrong that the smell of hand sanitizer is starting to turn me on?\\r\\r\\n\\r\\r\\n#coronavirus #COVID19 #coronavirus</td>\n",
       "      <td>Neutral</td>\n",
       "    </tr>\n",
       "    <tr>\n",
       "      <th>41156</th>\n",
       "      <td>44955</td>\n",
       "      <td>89907</td>\n",
       "      <td>i love you so much || he/him</td>\n",
       "      <td>14-04-2020</td>\n",
       "      <td>@TartiiCat Well new/used Rift S are going for $700.00 on Amazon rn although the normal market price is usually $400.00 . Prices are really crazy right now for vr headsets since HL Alex was announced and it's only been worse with COVID-19. Up to you whethe</td>\n",
       "      <td>Negative</td>\n",
       "    </tr>\n",
       "  </tbody>\n",
       "</table>\n",
       "<p>41157 rows × 6 columns</p>\n",
       "</div>"
      ],
      "text/plain": [
       "       UserName  ScreenName                      Location     TweetAt  \\\n",
       "0          3799       48751                        London  16-03-2020   \n",
       "1          3800       48752                            UK  16-03-2020   \n",
       "2          3801       48753                     Vagabonds  16-03-2020   \n",
       "3          3802       48754                           NaN  16-03-2020   \n",
       "4          3803       48755                           NaN  16-03-2020   \n",
       "...         ...         ...                           ...         ...   \n",
       "41152     44951       89903  Wellington City, New Zealand  14-04-2020   \n",
       "41153     44952       89904                           NaN  14-04-2020   \n",
       "41154     44953       89905                           NaN  14-04-2020   \n",
       "41155     44954       89906                           NaN  14-04-2020   \n",
       "41156     44955       89907  i love you so much || he/him  14-04-2020   \n",
       "\n",
       "                                                                                                                                                                                                                                                                                                                            OriginalTweet  \\\n",
       "0                                                                                                                                                                                                                         @MeNyrbie @Phil_Gahan @Chrisitv https://t.co/iFz9FAn2Pa and https://t.co/xX6ghGFzCC and https://t.co/I2NlzdxNo8   \n",
       "1                                                                                           advice Talk to your neighbours family to exchange phone numbers create contact list with phone numbers of neighbours schools employer chemist GP set up online shopping accounts if poss adequate supplies of regular meds but not over order   \n",
       "2                                                                                                                                                                                                     Coronavirus Australia: Woolworths to give elderly, disabled dedicated shopping hours amid COVID-19 outbreak https://t.co/bInCA9Vp8P   \n",
       "3       My food stock is not the only one which is empty...\\r\\r\\n\\r\\r\\nPLEASE, don't panic, THERE WILL BE ENOUGH FOOD FOR EVERYONE if you do not take more than you need. \\r\\r\\nStay calm, stay safe.\\r\\r\\n\\r\\r\\n#COVID19france #COVID_19 #COVID19 #coronavirus #confinement #Confinementotal #ConfinementGeneral https://t.co/zrlG0Z520j   \n",
       "4      Me, ready to go at supermarket during the #COVID19 outbreak.\\r\\r\\n\\r\\r\\nNot because I'm paranoid, but because my food stock is litteraly empty. The #coronavirus is a serious thing, but please, don't panic. It causes shortage...\\r\\r\\n\\r\\r\\n#CoronavirusFrance #restezchezvous #StayAtHome #confinement https://t.co/usmuaLq72n   \n",
       "...                                                                                                                                                                                                                                                                                                                                   ...   \n",
       "41152                                                                                                                                                                                                                              Airline pilots offering to stock supermarket shelves in #NZ lockdown #COVID-19 https://t.co/cz89uA0HNp   \n",
       "41153                                                                                                                                                                                          Response to complaint not provided citing COVID-19 related delays. Yet prompt in rejecting policy before consumer TAT is over. Way to go ?   \n",
       "41154                                                                                                                                                                                            You know itÂs getting tough when @KameronWilds  is rationing toilet paper #coronavirus #toiletpaper @kroger martinsville, help us out!!   \n",
       "41155                                                                                                                                                                                                               Is it wrong that the smell of hand sanitizer is starting to turn me on?\\r\\r\\n\\r\\r\\n#coronavirus #COVID19 #coronavirus   \n",
       "41156                                                                     @TartiiCat Well new/used Rift S are going for $700.00 on Amazon rn although the normal market price is usually $400.00 . Prices are really crazy right now for vr headsets since HL Alex was announced and it's only been worse with COVID-19. Up to you whethe   \n",
       "\n",
       "                Sentiment  \n",
       "0                 Neutral  \n",
       "1                Positive  \n",
       "2                Positive  \n",
       "3                Positive  \n",
       "4      Extremely Negative  \n",
       "...                   ...  \n",
       "41152             Neutral  \n",
       "41153  Extremely Negative  \n",
       "41154            Positive  \n",
       "41155             Neutral  \n",
       "41156            Negative  \n",
       "\n",
       "[41157 rows x 6 columns]"
      ]
     },
     "execution_count": 79,
     "metadata": {},
     "output_type": "execute_result"
    }
   ],
   "source": [
    "df = pd.read_csv('Corona_NLP_train.csv',encoding=\"ISO-8859-1\")\n",
    "df"
   ]
  },
  {
   "cell_type": "markdown",
   "id": "700a7cc8-a960-453c-8fc6-916e2d1b0790",
   "metadata": {},
   "source": [
    "`(1)` `TextDataLoaders.from_df`을 이용하여 dls오브젝트를 만들어라. \n",
    "\n",
    "- text_col='OriginalTweet'로 설정 \n",
    "- label_col='Sentiment'로 설정 \n",
    "- seq_len=64 로 설정\n"
   ]
  },
  {
   "cell_type": "code",
   "execution_count": 95,
   "id": "50ee1aea-8f42-41d1-abfc-fc4257f282b7",
   "metadata": {},
   "outputs": [
    {
     "data": {
      "text/html": [
       "\n",
       "<style>\n",
       "    /* Turns off some styling */\n",
       "    progress {\n",
       "        /* gets rid of default border in Firefox and Opera. */\n",
       "        border: none;\n",
       "        /* Needs to be in here for Safari polyfill so background images work as expected. */\n",
       "        background-size: auto;\n",
       "    }\n",
       "    progress:not([value]), progress:not([value])::-webkit-progress-bar {\n",
       "        background: repeating-linear-gradient(45deg, #7e7e7e, #7e7e7e 10px, #5c5c5c 10px, #5c5c5c 20px);\n",
       "    }\n",
       "    .progress-bar-interrupted, .progress-bar-interrupted::-webkit-progress-bar {\n",
       "        background: #F44336;\n",
       "    }\n",
       "</style>\n"
      ],
      "text/plain": [
       "<IPython.core.display.HTML object>"
      ]
     },
     "metadata": {},
     "output_type": "display_data"
    },
    {
     "data": {
      "text/html": [],
      "text/plain": [
       "<IPython.core.display.HTML object>"
      ]
     },
     "metadata": {},
     "output_type": "display_data"
    },
    {
     "data": {
      "text/html": [
       "<table border=\"1\" class=\"dataframe\">\n",
       "  <thead>\n",
       "    <tr style=\"text-align: right;\">\n",
       "      <th></th>\n",
       "      <th>text</th>\n",
       "      <th>category</th>\n",
       "    </tr>\n",
       "  </thead>\n",
       "  <tbody>\n",
       "    <tr>\n",
       "      <th>0</th>\n",
       "      <td>xxbos xxrep 5 ? ? ? xxrep 7 ? ? ? xxrep 7 ? xxrep 4 ? xxrep 4 ? xxrep 11 ? ? ? xxrep 6 ? xxrep 4 ? , xxrep 3 ? xxrep 3 ? ? ? xxrep 3 ? xxrep 4 ? xxrep 3 ? ? ? ? ? xxrep 4 ? ? ? xxrep 3 ? , xxrep 4 ? ? ? ? ? xxrep 6 ? xxrep 3 ? xxrep 3 ? xxrep 3 ? ? ? xxrep 3 ? \\r\\r\\n▁ xxrep 5 ? xxrep 6 ? ? ? xxrep 3 ? xxrep 4 ? xxrep 4 ? ? ? xxrep 4 ? xxrep 6 ? xxrep 4 ? xxrep 8 ? ? ? xxrep 6 ? ? ? xxrep 5 ? ? ? xxrep 3 ? xxrep 4 ? ? ? xxrep 7 ? xxrep 5 ? - xxrep 8 ? xxrep 5</td>\n",
       "      <td>Neutral</td>\n",
       "    </tr>\n",
       "    <tr>\n",
       "      <th>1</th>\n",
       "      <td>xxbos xxrep 5 ? xxrep 5 ? ? ? xxrep 6 ? xxrep 5 ? xxrep 3 ? ? ? xxrep 3 ? ? ? xxrep 4 ? xxrep 3 ? xxrep 3 ? xxrep 5 ? xxrep 10 ? xxrep 5 ? xxrep 5 ? xxrep 3 ? xxrep 5 ? ? ? xxrep 4 ? xxrep 7 ? xxrep 3 ? xxrep 3 ? \\r\\r\\n▁ # sindh government spokesman @murtazawahab1 terms # xxmaj quarantine facilities at # xxmaj xxunk border a joke . xxmaj watch the exclusive visuals of criminal negligence ? ? https : / / t.co / xxunk</td>\n",
       "      <td>Negative</td>\n",
       "    </tr>\n",
       "    <tr>\n",
       "      <th>2</th>\n",
       "      <td>xxbos xxunk xxup very xxup soon xxup the xxup food xxup will xxup be xxup their xxup leverage xxup to xxup control xxup people . xxup hungry xxup people xxup are xxup easy xxup to xxup lead xxup if xxup you xxup promise xxup them xxup food . xxup they xxup are xxup not xxup just xxup killing xxup people xxup with xxup this xxup covid-19 , xxup but xxup the xxup big xxup farmers , xxup processors , xxup and xxup the xxup endless xxup chain xxup of xxup supply xxup and xxup dema</td>\n",
       "      <td>Extremely Positive</td>\n",
       "    </tr>\n",
       "    <tr>\n",
       "      <th>3</th>\n",
       "      <td>xxbos xxmaj when xxmaj disneyland xxup reopens it will xxup feature a xxup harrowing xxup new xxup death - defying xxup xxunk -- xxup going to the xxup grocery xxup store &amp; &amp; xxup interacting w / xxup people w / in 6 ' when your xxup facemask xxup suddenly xxup slips , your xxup gloves xxup fall xxup off &amp; &amp; xxup you xxup forgot your xxup hand xxup sanitizer ! ! # xxmaj disneyland # xxunk # xxmaj covid_19 # xxup covid https : / / t.co / xxunk</td>\n",
       "      <td>Positive</td>\n",
       "    </tr>\n",
       "    <tr>\n",
       "      <th>4</th>\n",
       "      <td>xxbos @gavinnewsom @govmurphy https : / / t.co / xxunk \\r\\r\\n xxup this xxup is xxup why xxup the # xxup coronavirus xxup is xxup so xxup contagious , a xxup single xxup cough xxup can xxup spread xxup across a xxup supermarket xxup aisle xxup right xxup over xxup the xxup aisle xxup and xxup into xxup the xxup next xxup aisle , xxup gross xxrep 4 ! xxup what xxup took xxup you xxup so xxup long xxup to xxup sign xxup an xxup eo xxup making xxup people</td>\n",
       "      <td>Extremely Negative</td>\n",
       "    </tr>\n",
       "    <tr>\n",
       "      <th>5</th>\n",
       "      <td>xxbos # xxup xxunk : # xxup worldwide , xxup y' all xxup alright xxup out xxup there ? xxup the # xxup xxunk xxup is xxup indoors xxup xxunk ' xxup care xxup of # xxup xxunk xxup behind xxup the xxup scenes , xxup xxunk ' xxup this # xxup coronavirus xxup outbreak … supermarket xxup xxunk ' xxup daily : xxup xxunk ' xxup like # xxup xxunk xxup out xxup here … . xxup bought 20 xxup xxunk ",
       " https : / / t.co / xxunk</td>\n",
       "      <td>Extremely Positive</td>\n",
       "    </tr>\n",
       "    <tr>\n",
       "      <th>6</th>\n",
       "      <td>xxbos # xxunk ? \\r\\r\\n\\r\\r\\n xxup with xxup no xxup sports xxup in xxup our xxup lives i xxup wanna xxup provide xxup y all xxup with xxup quality xxup xxunk xxup with xxup lower xxup prices xxup than xxup retail xxup all xxup xxunk xxup now xxup are 40 $ xxup each xxup until xxup sports xxup returns xxup due xxup to # xxmaj covid_19 \\r\\r\\n\\r\\r\\n xxup dms xxup are xxup always xxup open xxrep 4 ! xxup hmu xxrep 3 ! https : / / t.co / xxunk</td>\n",
       "      <td>Extremely Negative</td>\n",
       "    </tr>\n",
       "    <tr>\n",
       "      <th>7</th>\n",
       "      <td>xxbos # xxup cbd xxup can not xxup cure xxup the # xxup coronavirus xxup but xxup it xxup can \\r\\r\\n▁ ? xxup cure xxup coronavirus xxup symptoms \\r\\r\\n▁ ? xxup ease xxup your xxup anxiety \\r\\r\\n▁ ? xxup boost xxup immune xxup system \\r\\r\\n▁ ? xxup act xxup as a xxup natural xxup painkiller ! \\r\\r\\n * prices have been reduced at this difficult time to help everyone ? ? \\r\\r\\n https : / / t.co / wrlhyzizaa # keep safe https : / / t.co / xxunk</td>\n",
       "      <td>Extremely Positive</td>\n",
       "    </tr>\n",
       "    <tr>\n",
       "      <th>8</th>\n",
       "      <td>xxbos xxmaj what # coronavirus taught us : \\r\\r\\n 1 . xxmaj to stay at home and be with family . \\r\\r\\n 2 . xxmaj to eat home made , healthy , food . \\r\\r\\n 3 . xxmaj to maintain hygiene . \\r\\r\\n 4 . xxmaj to meditate . \\r\\r\\n 5 . xxmaj to give up junk food . \\r\\r\\n 6 . xxmaj to avoid unnecessary travel . \\r\\r\\n 7 . xxmaj to stockup groceries on time . \\r\\r\\n 8 . xxmaj help your spouse in daily xxunk .</td>\n",
       "      <td>Positive</td>\n",
       "    </tr>\n",
       "  </tbody>\n",
       "</table>"
      ],
      "text/plain": [
       "<IPython.core.display.HTML object>"
      ]
     },
     "metadata": {},
     "output_type": "display_data"
    }
   ],
   "source": [
    "## 올바르게 dls를 생성하였을 경우 dls.show_batch()의 결과는 아래와 같음. "
   ]
  },
  {
   "cell_type": "markdown",
   "id": "1c3b12a2-6915-4a14-9e47-8757cd3c6397",
   "metadata": {},
   "source": [
    "`(2)` text_classifier_learner를 이용하여 오브젝트를 생성하라. `lrnr.fine_tune(5,1e-2)`을 이용하여 학습하라. \n",
    "\n",
    "- arch= AWD_LSTM 이용\n",
    "- metrics = accuracy 이용"
   ]
  },
  {
   "cell_type": "markdown",
   "id": "9206e433-4343-42cf-aae3-1c06ec1429b6",
   "metadata": {},
   "source": [
    "`(3)` 아래의 텍스트에 대한 분류결과를 확인하라. \n",
    "\n",
    "- \"the government's approach to the pendemic has been a complete disaster\"\n",
    "- \"the new vaccines hold the promise of a quick return to economic growth\""
   ]
  },
  {
   "cell_type": "markdown",
   "id": "6654cd57-2f80-4f02-a95b-0500d1b03c50",
   "metadata": {},
   "source": [
    "**hint** \"the government's approach to the pendemic has been a complete disaster\" 에 대하여서는 부정으로, \"the new vaccines hold the promise of a quick return to economic growth\"에 대하여서는 긍정으로 예측되어야 적절하다. "
   ]
  },
  {
   "cell_type": "markdown",
   "id": "09b209e0-ea0f-4365-947a-7345fcd2f90d",
   "metadata": {},
   "source": [
    "## `3`. human numbers 5 (40점)"
   ]
  },
  {
   "cell_type": "markdown",
   "id": "ab7b9d91-9abc-4ad8-a3f5-874ae9a8055f",
   "metadata": {},
   "source": [
    "아래와 같은 데이터가 있다고 하자. "
   ]
  },
  {
   "cell_type": "code",
   "execution_count": 100,
   "id": "9585575e-a662-465f-85a4-318afa96ffc3",
   "metadata": {},
   "outputs": [],
   "source": [
    "txt = (['one',',','two',',','three',',','four',',','five',',']*100)[:-1]\n",
    "mapping = {',':0, 'one':1, 'two':2, 'three':3, 'four':4, 'five':5} \n",
    "txt_x = txt[:-1]\n",
    "txt_y = txt[1:] "
   ]
  },
  {
   "cell_type": "code",
   "execution_count": 101,
   "id": "91fb22e3-b18d-4e90-85cd-1c5f6457fcf4",
   "metadata": {},
   "outputs": [
    {
     "data": {
      "text/plain": [
       "(['one', ',', 'two', ',', 'three'], [',', 'two', ',', 'three', ','])"
      ]
     },
     "execution_count": 101,
     "metadata": {},
     "output_type": "execute_result"
    }
   ],
   "source": [
    "txt_x[:5], txt_y[:5]"
   ]
  },
  {
   "cell_type": "markdown",
   "id": "da83db09-3ab2-44d4-8693-b6ad572659ac",
   "metadata": {},
   "source": [
    "`(1)` `torch.nn.RNNCell()`을 이용하여 다음단어를 예측하는 신경망을 설계하고 학습하라. "
   ]
  },
  {
   "cell_type": "markdown",
   "id": "5fac9c2f-163a-4059-8488-1502ca62c0bd",
   "metadata": {},
   "source": [
    "`(2)` `torch.nn.RNN()`을 이용하여 다음단어를 예측하는 신경망을 설계하고 학습하라. "
   ]
  },
  {
   "cell_type": "markdown",
   "id": "d76d106c-7277-45f1-8b0c-a6ab1fea4696",
   "metadata": {},
   "source": [
    "`(3)` `torch.nn.LSTMCell()`을 이용하여 다음단어를 예측하는 신경망을 설계하고 학습하라. "
   ]
  },
  {
   "cell_type": "markdown",
   "id": "4beffc80-21f9-4249-8389-7e2df7efbc19",
   "metadata": {},
   "source": [
    "`(4)` `torch.nn.LSTM()`을 이용하여 다음단어를 예측하는 신경망을 설계하고 학습하라. "
   ]
  },
  {
   "cell_type": "markdown",
   "id": "5821c522-b89b-4aad-8b3b-4b062a44d83a",
   "metadata": {},
   "source": [
    "> 참고: <https://guebin.github.io/DL2022/posts/2022-11-29-13wk-2-final.html> 의 1번풀이를 참고하세요"
   ]
  },
  {
   "cell_type": "markdown",
   "id": "a6a5efe1-9c3c-4cf7-a70c-2353d8dbaa79",
   "metadata": {},
   "source": [
    "# ref"
   ]
  },
  {
   "cell_type": "markdown",
   "id": "239f3d74-93c4-4eaa-b775-72b5ee36b58d",
   "metadata": {},
   "source": [
    "https://www.kaggle.com/datasets/datatattle/covid-19-nlp-text-classification"
   ]
  }
 ],
 "metadata": {
  "kernelspec": {
   "display_name": "Python 3",
   "language": "python",
   "name": "python3"
  },
  "language_info": {
   "codemirror_mode": {
    "name": "ipython",
    "version": 3
   },
   "file_extension": ".py",
   "mimetype": "text/x-python",
   "name": "python",
   "nbconvert_exporter": "python",
   "pygments_lexer": "ipython3",
   "version": "3.7.15"
  }
 },
 "nbformat": 4,
 "nbformat_minor": 5
}
