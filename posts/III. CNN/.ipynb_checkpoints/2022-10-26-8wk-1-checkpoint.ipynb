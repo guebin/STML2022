{
 "cells": [
  {
   "cell_type": "raw",
   "id": "df826288-1690-4899-b1cd-5ff3d6fe340f",
   "metadata": {},
   "source": [
    "---\n",
    "title: \"08wk-1: 이미지분석 (2)\"\n",
    "author: \"최규빈\"\n",
    "date: \"10/26/2022\"\n",
    "categories:\n",
    "  - 이미지분석\n",
    "---"
   ]
  },
  {
   "cell_type": "markdown",
   "id": "98b32325-604a-4905-bfdb-0ba6403f0ed1",
   "metadata": {
    "tags": []
   },
   "source": [
    "> Minor topics in CNN -- 다중클래스 분류, fastai metric 사용"
   ]
  },
  {
   "cell_type": "markdown",
   "id": "17f72f24-1006-4a07-ae81-d44409c5fef6",
   "metadata": {},
   "source": [
    "# 강의영상 "
   ]
  },
  {
   "cell_type": "markdown",
   "id": "abd34d70-6bc0-42eb-bc61-e94b4269ca15",
   "metadata": {},
   "source": [
    "<https://youtube.com/playlist?list=PLQqh36zP38-wVdrvMFFtAcAM2QC7ZpnN3>"
   ]
  },
  {
   "cell_type": "markdown",
   "id": "21027106-77ab-4c50-8fce-215942d5f32b",
   "metadata": {},
   "source": [
    "# imports "
   ]
  },
  {
   "cell_type": "code",
   "execution_count": 3,
   "id": "2bcc3320-8bfa-4696-b964-b348d83bd325",
   "metadata": {},
   "outputs": [],
   "source": [
    "import torch \n",
    "import torchvision\n",
    "import numpy as np\n",
    "from fastai.vision.all import * "
   ]
  },
  {
   "cell_type": "code",
   "execution_count": 4,
   "id": "a8c4db6d-99af-41bc-8f25-26dc24ba825d",
   "metadata": {},
   "outputs": [],
   "source": [
    "import graphviz\n",
    "def gv(s): return graphviz.Source('digraph G{ rankdir=\"LR\"'+s + '; }');"
   ]
  },
  {
   "cell_type": "markdown",
   "id": "fff5054c-f124-4685-915c-d84b54e33a77",
   "metadata": {},
   "source": [
    "# CNN 다중클래스 분류"
   ]
  },
  {
   "cell_type": "markdown",
   "id": "70081d6b-b8d4-4dad-bd9a-6cd2d9ed2a96",
   "metadata": {},
   "source": [
    "## 결론 (그냥 외우세요)"
   ]
  },
  {
   "cell_type": "markdown",
   "id": "3061c859-a39c-4f34-b05e-90618e5bdf79",
   "metadata": {},
   "source": [
    "`-` 2개의 class를 구분하는 문제가 아니라 $k$개의 class를 구분해야 한다면? \n",
    "\n",
    "***일반적인 개념*** \n",
    "\n",
    "- 손실함수: BCE loss $\\to$ Cross Entropy loss \n",
    "- 마지막층의 선형변환: torch.nn.Linear(?,1) $\\to$ torch.nn.Linear(?,k) \n",
    "- 마지막층의 활성화: sig $\\to$ softmax \n",
    "\n",
    "***파이토치 한정*** \n",
    "\n",
    "- **y의형태: (n,) vector + int형 // (n,k) one-hot encoded vector + float형**\n",
    "- 손실함수: torch.nn.BCEWithLogitsLoss,  $\\to$ torch.nn.CrossEntropyLoss\n",
    "- 마지막층의 선형변환: torch.nn.Linear(?,1) $\\to$ torch.nn.Linear(?,k) \n",
    "- 마지막층의 활성화: None $\\to$ None (손실함수에 이미 마지막층의 활성화가 포함) "
   ]
  },
  {
   "cell_type": "markdown",
   "id": "9192f045-7f8a-4e01-9487-bc7b047344c3",
   "metadata": {},
   "source": [
    "## 실습: 3개의 클래스를 구분 "
   ]
  },
  {
   "cell_type": "code",
   "execution_count": 5,
   "id": "5d9d64c1-44d5-4033-8027-5f7674b503a6",
   "metadata": {},
   "outputs": [],
   "source": [
    "path = untar_data(URLs.MNIST)"
   ]
  },
  {
   "cell_type": "markdown",
   "id": "8b79a52e-de05-41e1-aa53-caabb55a0bcd",
   "metadata": {},
   "source": [
    "training set "
   ]
  },
  {
   "cell_type": "code",
   "execution_count": 6,
   "id": "9075cc8f-75e9-40d7-92ac-fe2b81e17fc4",
   "metadata": {},
   "outputs": [],
   "source": [
    "X0 = torch.stack([torchvision.io.read_image(str(fname)) for fname in (path/'training/0').ls()])\n",
    "X1 = torch.stack([torchvision.io.read_image(str(fname)) for fname in (path/'training/1').ls()])\n",
    "X2 = torch.stack([torchvision.io.read_image(str(fname)) for fname in (path/'training/2').ls()])\n",
    "X = torch.concat([X0,X1,X2])/255\n",
    "y = torch.tensor([0]*len(X0) + [1]*len(X1)+ [2]*len(X2))#.reshape(-1,1)"
   ]
  },
  {
   "cell_type": "markdown",
   "id": "9cd3a56f-0e2d-4b20-9263-8ed23cb4cf85",
   "metadata": {},
   "source": [
    "test set "
   ]
  },
  {
   "cell_type": "code",
   "execution_count": 7,
   "id": "1c1c704d-192b-4e2a-be27-76a6f47785e1",
   "metadata": {},
   "outputs": [],
   "source": [
    "X0 = torch.stack([torchvision.io.read_image(str(fname)) for fname in (path/'testing/0').ls()])\n",
    "X1 = torch.stack([torchvision.io.read_image(str(fname)) for fname in (path/'testing/1').ls()])\n",
    "X2 = torch.stack([torchvision.io.read_image(str(fname)) for fname in (path/'testing/2').ls()])\n",
    "XX = torch.concat([X0,X1,X2])/255\n",
    "yy = torch.tensor([0]*len(X0) + [1]*len(X1)+ [2]*len(X2))#.reshape(-1,1)"
   ]
  },
  {
   "cell_type": "markdown",
   "id": "ad96d2c9-fde8-4f9b-8b06-a35341af775c",
   "metadata": {},
   "source": [
    "`(1)` dls "
   ]
  },
  {
   "cell_type": "code",
   "execution_count": 8,
   "id": "fb8607d3-cbb2-4a65-8348-f1fce0515afc",
   "metadata": {},
   "outputs": [
    {
     "data": {
      "text/plain": [
       "18623"
      ]
     },
     "execution_count": 8,
     "metadata": {},
     "output_type": "execute_result"
    }
   ],
   "source": [
    "len(X)"
   ]
  },
  {
   "cell_type": "code",
   "execution_count": 9,
   "id": "59b1004a-ca4b-41c5-93c6-53965e81f26c",
   "metadata": {},
   "outputs": [],
   "source": [
    "ds1 = torch.utils.data.TensorDataset(X,y) \n",
    "ds2 = torch.utils.data.TensorDataset(XX,yy) \n",
    "dl1 = torch.utils.data.DataLoader(ds1,batch_size=1862) # 에폭당 11번 iter\n",
    "dl2 = torch.utils.data.DataLoader(ds2,batch_size=3147) # \n",
    "dls = DataLoaders(dl1,dl2) "
   ]
  },
  {
   "cell_type": "markdown",
   "id": "f8d0f683-052a-4fd9-85b9-1635c1c97832",
   "metadata": {},
   "source": [
    "`(2)` lrnr "
   ]
  },
  {
   "cell_type": "code",
   "execution_count": 10,
   "id": "8a06cf51-7057-4be3-89be-26cea6ecb3f2",
   "metadata": {},
   "outputs": [],
   "source": [
    "net1 = torch.nn.Sequential(\n",
    "    torch.nn.Conv2d(1,16,(5,5)),\n",
    "    torch.nn.ReLU(),\n",
    "    torch.nn.MaxPool2d((2,2)),\n",
    "    torch.nn.Flatten()\n",
    ")"
   ]
  },
  {
   "cell_type": "code",
   "execution_count": 11,
   "id": "5a1cb5f3-2f9c-407e-96c4-b6e0cef07abc",
   "metadata": {},
   "outputs": [
    {
     "data": {
      "text/plain": [
       "torch.Size([18623, 2304])"
      ]
     },
     "execution_count": 11,
     "metadata": {},
     "output_type": "execute_result"
    }
   ],
   "source": [
    "net1(X).shape"
   ]
  },
  {
   "cell_type": "code",
   "execution_count": 33,
   "id": "2f6c35e9-c3f5-40f0-9e73-e889b65cd163",
   "metadata": {},
   "outputs": [],
   "source": [
    "net = torch.nn.Sequential(\n",
    "    net1,\n",
    "    torch.nn.Linear(2304,3) # 0,1,2 3개를 구분하는 문제이므로 out_features=3 \n",
    ")\n",
    "loss_fn = torch.nn.CrossEntropyLoss() "
   ]
  },
  {
   "cell_type": "code",
   "execution_count": 38,
   "id": "5ca3a152-c2e5-4497-ac0b-18a1933d0084",
   "metadata": {},
   "outputs": [],
   "source": [
    "lrnr = Learner(dls,net,loss_fn) "
   ]
  },
  {
   "cell_type": "markdown",
   "id": "b716cbcd-def6-40bb-9273-d2d789f4c82a",
   "metadata": {},
   "source": [
    "`(3)` 학습"
   ]
  },
  {
   "cell_type": "code",
   "execution_count": 39,
   "id": "6b97c6a5-1f2e-4467-ad9f-a44277363792",
   "metadata": {},
   "outputs": [
    {
     "data": {
      "text/html": [
       "\n",
       "<style>\n",
       "    /* Turns off some styling */\n",
       "    progress {\n",
       "        /* gets rid of default border in Firefox and Opera. */\n",
       "        border: none;\n",
       "        /* Needs to be in here for Safari polyfill so background images work as expected. */\n",
       "        background-size: auto;\n",
       "    }\n",
       "    progress:not([value]), progress:not([value])::-webkit-progress-bar {\n",
       "        background: repeating-linear-gradient(45deg, #7e7e7e, #7e7e7e 10px, #5c5c5c 10px, #5c5c5c 20px);\n",
       "    }\n",
       "    .progress-bar-interrupted, .progress-bar-interrupted::-webkit-progress-bar {\n",
       "        background: #F44336;\n",
       "    }\n",
       "</style>\n"
      ],
      "text/plain": [
       "<IPython.core.display.HTML object>"
      ]
     },
     "metadata": {},
     "output_type": "display_data"
    },
    {
     "data": {
      "text/html": [
       "<table border=\"1\" class=\"dataframe\">\n",
       "  <thead>\n",
       "    <tr style=\"text-align: left;\">\n",
       "      <th>epoch</th>\n",
       "      <th>train_loss</th>\n",
       "      <th>valid_loss</th>\n",
       "      <th>time</th>\n",
       "    </tr>\n",
       "  </thead>\n",
       "  <tbody>\n",
       "    <tr>\n",
       "      <td>0</td>\n",
       "      <td>0.155762</td>\n",
       "      <td>0.045966</td>\n",
       "      <td>00:00</td>\n",
       "    </tr>\n",
       "    <tr>\n",
       "      <td>1</td>\n",
       "      <td>0.087853</td>\n",
       "      <td>0.093116</td>\n",
       "      <td>00:00</td>\n",
       "    </tr>\n",
       "    <tr>\n",
       "      <td>2</td>\n",
       "      <td>0.089215</td>\n",
       "      <td>0.033146</td>\n",
       "      <td>00:00</td>\n",
       "    </tr>\n",
       "    <tr>\n",
       "      <td>3</td>\n",
       "      <td>0.075707</td>\n",
       "      <td>0.039687</td>\n",
       "      <td>00:00</td>\n",
       "    </tr>\n",
       "    <tr>\n",
       "      <td>4</td>\n",
       "      <td>0.063615</td>\n",
       "      <td>0.031188</td>\n",
       "      <td>00:00</td>\n",
       "    </tr>\n",
       "    <tr>\n",
       "      <td>5</td>\n",
       "      <td>0.055850</td>\n",
       "      <td>0.029167</td>\n",
       "      <td>00:00</td>\n",
       "    </tr>\n",
       "    <tr>\n",
       "      <td>6</td>\n",
       "      <td>0.050883</td>\n",
       "      <td>0.028610</td>\n",
       "      <td>00:00</td>\n",
       "    </tr>\n",
       "    <tr>\n",
       "      <td>7</td>\n",
       "      <td>0.047144</td>\n",
       "      <td>0.028127</td>\n",
       "      <td>00:00</td>\n",
       "    </tr>\n",
       "    <tr>\n",
       "      <td>8</td>\n",
       "      <td>0.044129</td>\n",
       "      <td>0.027425</td>\n",
       "      <td>00:00</td>\n",
       "    </tr>\n",
       "    <tr>\n",
       "      <td>9</td>\n",
       "      <td>0.041849</td>\n",
       "      <td>0.026887</td>\n",
       "      <td>00:00</td>\n",
       "    </tr>\n",
       "  </tbody>\n",
       "</table>"
      ],
      "text/plain": [
       "<IPython.core.display.HTML object>"
      ]
     },
     "metadata": {},
     "output_type": "display_data"
    }
   ],
   "source": [
    "lrnr.fit(10) "
   ]
  },
  {
   "cell_type": "markdown",
   "id": "21a90e6c-cf53-4d50-8653-90102b406b7f",
   "metadata": {},
   "source": [
    "`(4)` 예측"
   ]
  },
  {
   "cell_type": "code",
   "execution_count": 41,
   "id": "b6a9a62e-14bb-4424-aab2-edd55aa4d73a",
   "metadata": {},
   "outputs": [
    {
     "data": {
      "text/plain": [
       "Sequential(\n",
       "  (0): Sequential(\n",
       "    (0): Conv2d(1, 16, kernel_size=(5, 5), stride=(1, 1))\n",
       "    (1): ReLU()\n",
       "    (2): MaxPool2d(kernel_size=(2, 2), stride=(2, 2), padding=0, dilation=1, ceil_mode=False)\n",
       "    (3): Flatten(start_dim=1, end_dim=-1)\n",
       "  )\n",
       "  (1): Linear(in_features=2304, out_features=3, bias=True)\n",
       ")"
      ]
     },
     "execution_count": 41,
     "metadata": {},
     "output_type": "execute_result"
    }
   ],
   "source": [
    "lrnr.model.to(\"cpu\")"
   ]
  },
  {
   "cell_type": "code",
   "execution_count": 50,
   "id": "5a373c87-ae50-4026-8fdc-cc6f84179c06",
   "metadata": {},
   "outputs": [
    {
     "data": {
      "text/html": [
       "<div>\n",
       "<style scoped>\n",
       "    .dataframe tbody tr th:only-of-type {\n",
       "        vertical-align: middle;\n",
       "    }\n",
       "\n",
       "    .dataframe tbody tr th {\n",
       "        vertical-align: top;\n",
       "    }\n",
       "\n",
       "    .dataframe thead th {\n",
       "        text-align: right;\n",
       "    }\n",
       "</style>\n",
       "<table border=\"1\" class=\"dataframe\">\n",
       "  <thead>\n",
       "    <tr style=\"text-align: right;\">\n",
       "      <th></th>\n",
       "      <th>0</th>\n",
       "      <th>1</th>\n",
       "      <th>2</th>\n",
       "      <th>y</th>\n",
       "    </tr>\n",
       "  </thead>\n",
       "  <tbody>\n",
       "    <tr>\n",
       "      <th>0</th>\n",
       "      <td>2.025615</td>\n",
       "      <td>-17.453382</td>\n",
       "      <td>-2.335629</td>\n",
       "      <td>0</td>\n",
       "    </tr>\n",
       "    <tr>\n",
       "      <th>1</th>\n",
       "      <td>2.531184</td>\n",
       "      <td>-9.890347</td>\n",
       "      <td>-3.949971</td>\n",
       "      <td>0</td>\n",
       "    </tr>\n",
       "    <tr>\n",
       "      <th>2</th>\n",
       "      <td>1.587324</td>\n",
       "      <td>-13.035635</td>\n",
       "      <td>-3.257438</td>\n",
       "      <td>0</td>\n",
       "    </tr>\n",
       "    <tr>\n",
       "      <th>3</th>\n",
       "      <td>2.749664</td>\n",
       "      <td>-9.918694</td>\n",
       "      <td>-6.867003</td>\n",
       "      <td>0</td>\n",
       "    </tr>\n",
       "    <tr>\n",
       "      <th>4</th>\n",
       "      <td>2.155442</td>\n",
       "      <td>-15.885134</td>\n",
       "      <td>-3.019295</td>\n",
       "      <td>0</td>\n",
       "    </tr>\n",
       "    <tr>\n",
       "      <th>...</th>\n",
       "      <td>...</td>\n",
       "      <td>...</td>\n",
       "      <td>...</td>\n",
       "      <td>...</td>\n",
       "    </tr>\n",
       "    <tr>\n",
       "      <th>3142</th>\n",
       "      <td>-9.030737</td>\n",
       "      <td>-8.673495</td>\n",
       "      <td>1.204605</td>\n",
       "      <td>2</td>\n",
       "    </tr>\n",
       "    <tr>\n",
       "      <th>3143</th>\n",
       "      <td>-3.569304</td>\n",
       "      <td>-10.748278</td>\n",
       "      <td>-0.645055</td>\n",
       "      <td>2</td>\n",
       "    </tr>\n",
       "    <tr>\n",
       "      <th>3144</th>\n",
       "      <td>-3.627095</td>\n",
       "      <td>-12.919289</td>\n",
       "      <td>1.046083</td>\n",
       "      <td>2</td>\n",
       "    </tr>\n",
       "    <tr>\n",
       "      <th>3145</th>\n",
       "      <td>-5.151307</td>\n",
       "      <td>-9.524368</td>\n",
       "      <td>0.068864</td>\n",
       "      <td>2</td>\n",
       "    </tr>\n",
       "    <tr>\n",
       "      <th>3146</th>\n",
       "      <td>-8.014889</td>\n",
       "      <td>-14.518770</td>\n",
       "      <td>2.732226</td>\n",
       "      <td>2</td>\n",
       "    </tr>\n",
       "  </tbody>\n",
       "</table>\n",
       "<p>3147 rows × 4 columns</p>\n",
       "</div>"
      ],
      "text/plain": [
       "             0          1         2  y\n",
       "0     2.025615 -17.453382 -2.335629  0\n",
       "1     2.531184  -9.890347 -3.949971  0\n",
       "2     1.587324 -13.035635 -3.257438  0\n",
       "3     2.749664  -9.918694 -6.867003  0\n",
       "4     2.155442 -15.885134 -3.019295  0\n",
       "...        ...        ...       ... ..\n",
       "3142 -9.030737  -8.673495  1.204605  2\n",
       "3143 -3.569304 -10.748278 -0.645055  2\n",
       "3144 -3.627095 -12.919289  1.046083  2\n",
       "3145 -5.151307  -9.524368  0.068864  2\n",
       "3146 -8.014889 -14.518770  2.732226  2\n",
       "\n",
       "[3147 rows x 4 columns]"
      ]
     },
     "execution_count": 50,
     "metadata": {},
     "output_type": "execute_result"
    }
   ],
   "source": [
    "pd.DataFrame(lrnr.model(XX)).assign(y=yy) "
   ]
  },
  {
   "cell_type": "code",
   "execution_count": 51,
   "id": "2d10b166-f338-441b-87cf-a16b085c060f",
   "metadata": {},
   "outputs": [
    {
     "data": {
      "text/html": [
       "<div>\n",
       "<style scoped>\n",
       "    .dataframe tbody tr th:only-of-type {\n",
       "        vertical-align: middle;\n",
       "    }\n",
       "\n",
       "    .dataframe tbody tr th {\n",
       "        vertical-align: top;\n",
       "    }\n",
       "\n",
       "    .dataframe thead th {\n",
       "        text-align: right;\n",
       "    }\n",
       "</style>\n",
       "<table border=\"1\" class=\"dataframe\">\n",
       "  <thead>\n",
       "    <tr style=\"text-align: right;\">\n",
       "      <th></th>\n",
       "      <th>0</th>\n",
       "      <th>1</th>\n",
       "      <th>2</th>\n",
       "      <th>y</th>\n",
       "    </tr>\n",
       "  </thead>\n",
       "  <tbody>\n",
       "    <tr>\n",
       "      <th>0</th>\n",
       "      <td>2.025615</td>\n",
       "      <td>-17.453382</td>\n",
       "      <td>-2.335629</td>\n",
       "      <td>0</td>\n",
       "    </tr>\n",
       "    <tr>\n",
       "      <th>1</th>\n",
       "      <td>2.531184</td>\n",
       "      <td>-9.890347</td>\n",
       "      <td>-3.949971</td>\n",
       "      <td>0</td>\n",
       "    </tr>\n",
       "    <tr>\n",
       "      <th>2</th>\n",
       "      <td>1.587324</td>\n",
       "      <td>-13.035635</td>\n",
       "      <td>-3.257438</td>\n",
       "      <td>0</td>\n",
       "    </tr>\n",
       "    <tr>\n",
       "      <th>3</th>\n",
       "      <td>2.749664</td>\n",
       "      <td>-9.918694</td>\n",
       "      <td>-6.867003</td>\n",
       "      <td>0</td>\n",
       "    </tr>\n",
       "    <tr>\n",
       "      <th>4</th>\n",
       "      <td>2.155442</td>\n",
       "      <td>-15.885134</td>\n",
       "      <td>-3.019295</td>\n",
       "      <td>0</td>\n",
       "    </tr>\n",
       "    <tr>\n",
       "      <th>...</th>\n",
       "      <td>...</td>\n",
       "      <td>...</td>\n",
       "      <td>...</td>\n",
       "      <td>...</td>\n",
       "    </tr>\n",
       "    <tr>\n",
       "      <th>975</th>\n",
       "      <td>4.450414</td>\n",
       "      <td>-19.329332</td>\n",
       "      <td>-5.451057</td>\n",
       "      <td>0</td>\n",
       "    </tr>\n",
       "    <tr>\n",
       "      <th>976</th>\n",
       "      <td>2.597144</td>\n",
       "      <td>-21.202513</td>\n",
       "      <td>-2.372313</td>\n",
       "      <td>0</td>\n",
       "    </tr>\n",
       "    <tr>\n",
       "      <th>977</th>\n",
       "      <td>3.089397</td>\n",
       "      <td>-15.486772</td>\n",
       "      <td>-3.171502</td>\n",
       "      <td>0</td>\n",
       "    </tr>\n",
       "    <tr>\n",
       "      <th>978</th>\n",
       "      <td>2.591355</td>\n",
       "      <td>-17.475590</td>\n",
       "      <td>-3.039083</td>\n",
       "      <td>0</td>\n",
       "    </tr>\n",
       "    <tr>\n",
       "      <th>979</th>\n",
       "      <td>4.575789</td>\n",
       "      <td>-21.636261</td>\n",
       "      <td>-5.077421</td>\n",
       "      <td>0</td>\n",
       "    </tr>\n",
       "  </tbody>\n",
       "</table>\n",
       "<p>980 rows × 4 columns</p>\n",
       "</div>"
      ],
      "text/plain": [
       "            0          1         2  y\n",
       "0    2.025615 -17.453382 -2.335629  0\n",
       "1    2.531184  -9.890347 -3.949971  0\n",
       "2    1.587324 -13.035635 -3.257438  0\n",
       "3    2.749664  -9.918694 -6.867003  0\n",
       "4    2.155442 -15.885134 -3.019295  0\n",
       "..        ...        ...       ... ..\n",
       "975  4.450414 -19.329332 -5.451057  0\n",
       "976  2.597144 -21.202513 -2.372313  0\n",
       "977  3.089397 -15.486772 -3.171502  0\n",
       "978  2.591355 -17.475590 -3.039083  0\n",
       "979  4.575789 -21.636261 -5.077421  0\n",
       "\n",
       "[980 rows x 4 columns]"
      ]
     },
     "execution_count": 51,
     "metadata": {},
     "output_type": "execute_result"
    }
   ],
   "source": [
    "pd.DataFrame(lrnr.model(XX)).assign(y=yy).query('y==0')"
   ]
  },
  {
   "cell_type": "markdown",
   "id": "5f4de083-58c6-4410-9650-29d1ad9f07c1",
   "metadata": {},
   "source": [
    "- 대체적으로 첫번째 칼럼의 숫자들이 다른칼럼보다 크다. "
   ]
  },
  {
   "cell_type": "code",
   "execution_count": 52,
   "id": "462a91a9-0f94-49e5-ad1b-74ee57574e09",
   "metadata": {},
   "outputs": [
    {
     "data": {
      "text/html": [
       "<div>\n",
       "<style scoped>\n",
       "    .dataframe tbody tr th:only-of-type {\n",
       "        vertical-align: middle;\n",
       "    }\n",
       "\n",
       "    .dataframe tbody tr th {\n",
       "        vertical-align: top;\n",
       "    }\n",
       "\n",
       "    .dataframe thead th {\n",
       "        text-align: right;\n",
       "    }\n",
       "</style>\n",
       "<table border=\"1\" class=\"dataframe\">\n",
       "  <thead>\n",
       "    <tr style=\"text-align: right;\">\n",
       "      <th></th>\n",
       "      <th>0</th>\n",
       "      <th>1</th>\n",
       "      <th>2</th>\n",
       "      <th>y</th>\n",
       "    </tr>\n",
       "  </thead>\n",
       "  <tbody>\n",
       "    <tr>\n",
       "      <th>980</th>\n",
       "      <td>-7.629252</td>\n",
       "      <td>2.701625</td>\n",
       "      <td>-3.049654</td>\n",
       "      <td>1</td>\n",
       "    </tr>\n",
       "    <tr>\n",
       "      <th>981</th>\n",
       "      <td>-6.666027</td>\n",
       "      <td>2.027717</td>\n",
       "      <td>-4.440878</td>\n",
       "      <td>1</td>\n",
       "    </tr>\n",
       "    <tr>\n",
       "      <th>982</th>\n",
       "      <td>-7.120140</td>\n",
       "      <td>3.354897</td>\n",
       "      <td>-3.937105</td>\n",
       "      <td>1</td>\n",
       "    </tr>\n",
       "    <tr>\n",
       "      <th>983</th>\n",
       "      <td>-7.139010</td>\n",
       "      <td>2.058928</td>\n",
       "      <td>-2.954304</td>\n",
       "      <td>1</td>\n",
       "    </tr>\n",
       "    <tr>\n",
       "      <th>984</th>\n",
       "      <td>-6.999043</td>\n",
       "      <td>3.258377</td>\n",
       "      <td>-3.432081</td>\n",
       "      <td>1</td>\n",
       "    </tr>\n",
       "    <tr>\n",
       "      <th>...</th>\n",
       "      <td>...</td>\n",
       "      <td>...</td>\n",
       "      <td>...</td>\n",
       "      <td>...</td>\n",
       "    </tr>\n",
       "    <tr>\n",
       "      <th>2110</th>\n",
       "      <td>-7.406105</td>\n",
       "      <td>4.032059</td>\n",
       "      <td>-3.826451</td>\n",
       "      <td>1</td>\n",
       "    </tr>\n",
       "    <tr>\n",
       "      <th>2111</th>\n",
       "      <td>-6.172441</td>\n",
       "      <td>3.187883</td>\n",
       "      <td>-3.490717</td>\n",
       "      <td>1</td>\n",
       "    </tr>\n",
       "    <tr>\n",
       "      <th>2112</th>\n",
       "      <td>-7.035848</td>\n",
       "      <td>3.202726</td>\n",
       "      <td>-3.547020</td>\n",
       "      <td>1</td>\n",
       "    </tr>\n",
       "    <tr>\n",
       "      <th>2113</th>\n",
       "      <td>-7.149322</td>\n",
       "      <td>1.741414</td>\n",
       "      <td>-1.765136</td>\n",
       "      <td>1</td>\n",
       "    </tr>\n",
       "    <tr>\n",
       "      <th>2114</th>\n",
       "      <td>-5.775263</td>\n",
       "      <td>3.041395</td>\n",
       "      <td>-2.980052</td>\n",
       "      <td>1</td>\n",
       "    </tr>\n",
       "  </tbody>\n",
       "</table>\n",
       "<p>1135 rows × 4 columns</p>\n",
       "</div>"
      ],
      "text/plain": [
       "             0         1         2  y\n",
       "980  -7.629252  2.701625 -3.049654  1\n",
       "981  -6.666027  2.027717 -4.440878  1\n",
       "982  -7.120140  3.354897 -3.937105  1\n",
       "983  -7.139010  2.058928 -2.954304  1\n",
       "984  -6.999043  3.258377 -3.432081  1\n",
       "...        ...       ...       ... ..\n",
       "2110 -7.406105  4.032059 -3.826451  1\n",
       "2111 -6.172441  3.187883 -3.490717  1\n",
       "2112 -7.035848  3.202726 -3.547020  1\n",
       "2113 -7.149322  1.741414 -1.765136  1\n",
       "2114 -5.775263  3.041395 -2.980052  1\n",
       "\n",
       "[1135 rows x 4 columns]"
      ]
     },
     "execution_count": 52,
     "metadata": {},
     "output_type": "execute_result"
    }
   ],
   "source": [
    "pd.DataFrame(lrnr.model(XX)).assign(y=yy).query('y==1')"
   ]
  },
  {
   "cell_type": "markdown",
   "id": "ad3af27e-edb0-43dc-9bea-df0d77c97410",
   "metadata": {},
   "source": [
    "- 대체적으로 두번째 칼럼의 숫자들이 다른칼럼보다 크다. "
   ]
  },
  {
   "cell_type": "code",
   "execution_count": 53,
   "id": "71bd24c1-d4d6-495e-94bf-3870a536e257",
   "metadata": {},
   "outputs": [
    {
     "data": {
      "text/html": [
       "<div>\n",
       "<style scoped>\n",
       "    .dataframe tbody tr th:only-of-type {\n",
       "        vertical-align: middle;\n",
       "    }\n",
       "\n",
       "    .dataframe tbody tr th {\n",
       "        vertical-align: top;\n",
       "    }\n",
       "\n",
       "    .dataframe thead th {\n",
       "        text-align: right;\n",
       "    }\n",
       "</style>\n",
       "<table border=\"1\" class=\"dataframe\">\n",
       "  <thead>\n",
       "    <tr style=\"text-align: right;\">\n",
       "      <th></th>\n",
       "      <th>0</th>\n",
       "      <th>1</th>\n",
       "      <th>2</th>\n",
       "      <th>y</th>\n",
       "    </tr>\n",
       "  </thead>\n",
       "  <tbody>\n",
       "    <tr>\n",
       "      <th>2115</th>\n",
       "      <td>-7.452892</td>\n",
       "      <td>-7.137640</td>\n",
       "      <td>0.605079</td>\n",
       "      <td>2</td>\n",
       "    </tr>\n",
       "    <tr>\n",
       "      <th>2116</th>\n",
       "      <td>-5.262731</td>\n",
       "      <td>-7.798437</td>\n",
       "      <td>-1.708323</td>\n",
       "      <td>2</td>\n",
       "    </tr>\n",
       "    <tr>\n",
       "      <th>2117</th>\n",
       "      <td>-9.056837</td>\n",
       "      <td>-9.649239</td>\n",
       "      <td>1.557607</td>\n",
       "      <td>2</td>\n",
       "    </tr>\n",
       "    <tr>\n",
       "      <th>2118</th>\n",
       "      <td>-6.614496</td>\n",
       "      <td>-10.291727</td>\n",
       "      <td>1.293422</td>\n",
       "      <td>2</td>\n",
       "    </tr>\n",
       "    <tr>\n",
       "      <th>2119</th>\n",
       "      <td>-3.120885</td>\n",
       "      <td>-10.670292</td>\n",
       "      <td>-0.660188</td>\n",
       "      <td>2</td>\n",
       "    </tr>\n",
       "    <tr>\n",
       "      <th>...</th>\n",
       "      <td>...</td>\n",
       "      <td>...</td>\n",
       "      <td>...</td>\n",
       "      <td>...</td>\n",
       "    </tr>\n",
       "    <tr>\n",
       "      <th>3142</th>\n",
       "      <td>-9.030737</td>\n",
       "      <td>-8.673495</td>\n",
       "      <td>1.204605</td>\n",
       "      <td>2</td>\n",
       "    </tr>\n",
       "    <tr>\n",
       "      <th>3143</th>\n",
       "      <td>-3.569304</td>\n",
       "      <td>-10.748278</td>\n",
       "      <td>-0.645055</td>\n",
       "      <td>2</td>\n",
       "    </tr>\n",
       "    <tr>\n",
       "      <th>3144</th>\n",
       "      <td>-3.627095</td>\n",
       "      <td>-12.919289</td>\n",
       "      <td>1.046083</td>\n",
       "      <td>2</td>\n",
       "    </tr>\n",
       "    <tr>\n",
       "      <th>3145</th>\n",
       "      <td>-5.151307</td>\n",
       "      <td>-9.524368</td>\n",
       "      <td>0.068864</td>\n",
       "      <td>2</td>\n",
       "    </tr>\n",
       "    <tr>\n",
       "      <th>3146</th>\n",
       "      <td>-8.014889</td>\n",
       "      <td>-14.518770</td>\n",
       "      <td>2.732226</td>\n",
       "      <td>2</td>\n",
       "    </tr>\n",
       "  </tbody>\n",
       "</table>\n",
       "<p>1032 rows × 4 columns</p>\n",
       "</div>"
      ],
      "text/plain": [
       "             0          1         2  y\n",
       "2115 -7.452892  -7.137640  0.605079  2\n",
       "2116 -5.262731  -7.798437 -1.708323  2\n",
       "2117 -9.056837  -9.649239  1.557607  2\n",
       "2118 -6.614496 -10.291727  1.293422  2\n",
       "2119 -3.120885 -10.670292 -0.660188  2\n",
       "...        ...        ...       ... ..\n",
       "3142 -9.030737  -8.673495  1.204605  2\n",
       "3143 -3.569304 -10.748278 -0.645055  2\n",
       "3144 -3.627095 -12.919289  1.046083  2\n",
       "3145 -5.151307  -9.524368  0.068864  2\n",
       "3146 -8.014889 -14.518770  2.732226  2\n",
       "\n",
       "[1032 rows x 4 columns]"
      ]
     },
     "execution_count": 53,
     "metadata": {},
     "output_type": "execute_result"
    }
   ],
   "source": [
    "pd.DataFrame(lrnr.model(XX)).assign(y=yy).query('y==2')"
   ]
  },
  {
   "cell_type": "markdown",
   "id": "3f8684ea-8726-44ba-ba84-7793707551de",
   "metadata": {},
   "source": [
    "- 대체적으로 세번째 칼럼의 숫자들이 다른칼럼보다 크다. "
   ]
  },
  {
   "cell_type": "markdown",
   "id": "d8e10578-7a9e-477d-b037-b4dd25a4cd4a",
   "metadata": {},
   "source": [
    "`-` 예측하는방법? \n",
    "- 칼럼0의 숫자가 크다 -> y=0일 확률이 큼\n",
    "- 칼럼1의 숫자가 크다 -> y=1일 확률이 큼 \n",
    "- 칼럼2의 숫자가 크다 -> y=2일 확률이 큼"
   ]
  },
  {
   "cell_type": "markdown",
   "id": "51e381d3-ee21-4e35-9123-6c31103e0c44",
   "metadata": {
    "tags": []
   },
   "source": [
    "## 공부: Softmax "
   ]
  },
  {
   "cell_type": "markdown",
   "id": "ee52ab61-2ea4-436f-9d6f-3f180880ae9d",
   "metadata": {},
   "source": [
    "`-` 눈치: softmax를 쓰기 직전의 숫자들은 (n,k)꼴로 되어있음. 각 observation 마다 k개의 숫자가 있는데, 그중에서 유난히 큰 하나의 숫자가 있음. "
   ]
  },
  {
   "cell_type": "markdown",
   "id": "0fd4c23c-9eba-43b1-a3b2-40f2c1e51051",
   "metadata": {},
   "source": [
    "`-` torch.nn.Softmax() 손계산 "
   ]
  },
  {
   "cell_type": "markdown",
   "id": "3d01821c-d23e-4f8d-a3ba-bba44d26259a",
   "metadata": {},
   "source": [
    "(예시1) -- 잘못계산 "
   ]
  },
  {
   "cell_type": "code",
   "execution_count": 56,
   "id": "72af0ecb-53bc-40f5-a344-6fb3836f458e",
   "metadata": {},
   "outputs": [],
   "source": [
    "sftmax = torch.nn.Softmax(dim=0)"
   ]
  },
  {
   "cell_type": "code",
   "execution_count": 57,
   "id": "bfd273eb-c99d-4f8b-8825-452c7b418ef3",
   "metadata": {},
   "outputs": [
    {
     "data": {
      "text/plain": [
       "tensor([[-2.0000, -2.0000,  0.0000],\n",
       "        [ 3.1400,  3.1400,  3.1400],\n",
       "        [ 0.0000,  0.0000,  2.0000],\n",
       "        [ 2.0000,  2.0000,  4.0000],\n",
       "        [ 0.0000,  0.0000,  0.0000]])"
      ]
     },
     "execution_count": 57,
     "metadata": {},
     "output_type": "execute_result"
    }
   ],
   "source": [
    "_netout = torch.tensor([[-2.0,-2.0,0.0],\n",
    "                        [3.14,3.14,3.14],\n",
    "                        [0.0,0.0,2.0],\n",
    "                        [2.0,2.0,4.0],\n",
    "                        [0.0,0.0,0.0]])\n",
    "_netout"
   ]
  },
  {
   "cell_type": "code",
   "execution_count": 58,
   "id": "f778b833-8d35-4e26-89d4-e8dd16f8ddfa",
   "metadata": {},
   "outputs": [
    {
     "data": {
      "text/plain": [
       "tensor([[0.0041, 0.0041, 0.0115],\n",
       "        [0.7081, 0.7081, 0.2653],\n",
       "        [0.0306, 0.0306, 0.0848],\n",
       "        [0.2265, 0.2265, 0.6269],\n",
       "        [0.0306, 0.0306, 0.0115]])"
      ]
     },
     "execution_count": 58,
     "metadata": {},
     "output_type": "execute_result"
    }
   ],
   "source": [
    "sftmax(_netout) "
   ]
  },
  {
   "cell_type": "markdown",
   "id": "c6c1bb49-14de-48f7-bbfd-05f52421a265",
   "metadata": {},
   "source": [
    "(예시2) -- 이게 맞게 계산되는 것임 "
   ]
  },
  {
   "cell_type": "code",
   "execution_count": 59,
   "id": "2cbdfb8b-049d-46bf-8707-37dab346d088",
   "metadata": {},
   "outputs": [],
   "source": [
    "sftmax = torch.nn.Softmax(dim=1)"
   ]
  },
  {
   "cell_type": "code",
   "execution_count": 60,
   "id": "9c8b7430-2a01-4975-aa92-f4f29a5630a5",
   "metadata": {},
   "outputs": [
    {
     "data": {
      "text/plain": [
       "tensor([[-2.0000, -2.0000,  0.0000],\n",
       "        [ 3.1400,  3.1400,  3.1400],\n",
       "        [ 0.0000,  0.0000,  2.0000],\n",
       "        [ 2.0000,  2.0000,  4.0000],\n",
       "        [ 0.0000,  0.0000,  0.0000]])"
      ]
     },
     "execution_count": 60,
     "metadata": {},
     "output_type": "execute_result"
    }
   ],
   "source": [
    "_netout"
   ]
  },
  {
   "cell_type": "code",
   "execution_count": 62,
   "id": "3ceeb181-dab4-4214-a0b7-dc3978fa8b8e",
   "metadata": {},
   "outputs": [
    {
     "data": {
      "text/plain": [
       "tensor([[0.1065, 0.1065, 0.7870],\n",
       "        [0.3333, 0.3333, 0.3333],\n",
       "        [0.1065, 0.1065, 0.7870],\n",
       "        [0.1065, 0.1065, 0.7870],\n",
       "        [0.3333, 0.3333, 0.3333]])"
      ]
     },
     "execution_count": 62,
     "metadata": {},
     "output_type": "execute_result"
    }
   ],
   "source": [
    "sftmax(_netout)"
   ]
  },
  {
   "cell_type": "markdown",
   "id": "897dde3a-a581-4cc9-859f-77e43f41517c",
   "metadata": {},
   "source": [
    "(예시3) -- 차원을 명시안하면 맞게 계산해주고 경고 줌 "
   ]
  },
  {
   "cell_type": "code",
   "execution_count": 63,
   "id": "47d2a564-902a-4f05-bbc8-68cad148f718",
   "metadata": {},
   "outputs": [],
   "source": [
    "sftmax = torch.nn.Softmax()"
   ]
  },
  {
   "cell_type": "code",
   "execution_count": 64,
   "id": "b53cea7c-83f5-4bfd-8403-928cc1e76146",
   "metadata": {},
   "outputs": [
    {
     "data": {
      "text/plain": [
       "tensor([[-2.0000, -2.0000,  0.0000],\n",
       "        [ 3.1400,  3.1400,  3.1400],\n",
       "        [ 0.0000,  0.0000,  2.0000],\n",
       "        [ 2.0000,  2.0000,  4.0000],\n",
       "        [ 0.0000,  0.0000,  0.0000]])"
      ]
     },
     "execution_count": 64,
     "metadata": {},
     "output_type": "execute_result"
    }
   ],
   "source": [
    "_netout"
   ]
  },
  {
   "cell_type": "code",
   "execution_count": 65,
   "id": "d1f8b716-24b2-4ec9-8b25-275e1d9a5dc3",
   "metadata": {},
   "outputs": [
    {
     "name": "stderr",
     "output_type": "stream",
     "text": [
      "/home/cgb4/anaconda3/envs/py37/lib/python3.7/site-packages/ipykernel_launcher.py:1: UserWarning: Implicit dimension choice for softmax has been deprecated. Change the call to include dim=X as an argument.\n",
      "  \"\"\"Entry point for launching an IPython kernel.\n"
     ]
    },
    {
     "data": {
      "text/plain": [
       "tensor([[0.1065, 0.1065, 0.7870],\n",
       "        [0.3333, 0.3333, 0.3333],\n",
       "        [0.1065, 0.1065, 0.7870],\n",
       "        [0.1065, 0.1065, 0.7870],\n",
       "        [0.3333, 0.3333, 0.3333]])"
      ]
     },
     "execution_count": 65,
     "metadata": {},
     "output_type": "execute_result"
    }
   ],
   "source": [
    "sftmax(_netout)"
   ]
  },
  {
   "cell_type": "markdown",
   "id": "8d5302c7-5d60-486d-9ef2-4ddfd64c9acb",
   "metadata": {},
   "source": [
    "(예시4) -- 진짜 손계산 "
   ]
  },
  {
   "cell_type": "code",
   "execution_count": 66,
   "id": "f77bc8e3-82d3-4ace-89c0-eeeca757ebf9",
   "metadata": {},
   "outputs": [
    {
     "data": {
      "text/plain": [
       "tensor([[-2.0000, -2.0000,  0.0000],\n",
       "        [ 3.1400,  3.1400,  3.1400],\n",
       "        [ 0.0000,  0.0000,  2.0000],\n",
       "        [ 2.0000,  2.0000,  4.0000],\n",
       "        [ 0.0000,  0.0000,  0.0000]])"
      ]
     },
     "execution_count": 66,
     "metadata": {},
     "output_type": "execute_result"
    }
   ],
   "source": [
    "_netout "
   ]
  },
  {
   "cell_type": "code",
   "execution_count": 71,
   "id": "4c3145f6-ae88-46f4-8ee0-63495a80eaba",
   "metadata": {},
   "outputs": [
    {
     "data": {
      "text/plain": [
       "tensor([[ 0.1353,  0.1353,  1.0000],\n",
       "        [23.1039, 23.1039, 23.1039],\n",
       "        [ 1.0000,  1.0000,  7.3891],\n",
       "        [ 7.3891,  7.3891, 54.5981],\n",
       "        [ 1.0000,  1.0000,  1.0000]])"
      ]
     },
     "execution_count": 71,
     "metadata": {},
     "output_type": "execute_result"
    }
   ],
   "source": [
    "torch.exp(_netout)"
   ]
  },
  {
   "cell_type": "code",
   "execution_count": 72,
   "id": "5875293e-bec3-4a3d-a09b-7e04905c873e",
   "metadata": {},
   "outputs": [
    {
     "data": {
      "text/plain": [
       "(0.10648512513773022, 0.10648512513773022, 0.7870297497245397)"
      ]
     },
     "execution_count": 72,
     "metadata": {},
     "output_type": "execute_result"
    }
   ],
   "source": [
    "0.1353/(0.1353 + 0.1353 + 1.0000), 0.1353/(0.1353 + 0.1353 + 1.0000), 1.0000/(0.1353 + 0.1353 + 1.0000) # 첫 obs"
   ]
  },
  {
   "cell_type": "code",
   "execution_count": 81,
   "id": "a3f495e6-eb56-444d-861e-91ff2377e2cc",
   "metadata": {},
   "outputs": [
    {
     "data": {
      "text/plain": [
       "tensor([0.3333, 0.3333, 0.3333])"
      ]
     },
     "execution_count": 81,
     "metadata": {},
     "output_type": "execute_result"
    }
   ],
   "source": [
    "np.exp(_netout[1])/np.exp(_netout[1]).sum() # 두번째 obs "
   ]
  },
  {
   "cell_type": "code",
   "execution_count": 82,
   "id": "03fdbe55-2545-4e56-819a-0fd9d70bab8e",
   "metadata": {},
   "outputs": [
    {
     "data": {
      "text/plain": [
       "array([[0.10650698, 0.10650698, 0.78698605],\n",
       "       [0.33333334, 0.33333334, 0.33333334],\n",
       "       [0.10650699, 0.10650699, 0.78698605],\n",
       "       [0.10650698, 0.10650698, 0.78698605],\n",
       "       [0.33333334, 0.33333334, 0.33333334]], dtype=float32)"
      ]
     },
     "execution_count": 82,
     "metadata": {},
     "output_type": "execute_result"
    }
   ],
   "source": [
    "np.apply_along_axis(lambda x: np.exp(x) / np.exp(x).sum(),1,_netout)"
   ]
  },
  {
   "cell_type": "markdown",
   "id": "0b1aeff2-a9f9-48f2-996a-2fa7f00c1a60",
   "metadata": {},
   "source": [
    "## 공부: CrossEntropyLoss"
   ]
  },
  {
   "cell_type": "markdown",
   "id": "f6d5d103-d71a-4c53-b3a1-e016dbd82a83",
   "metadata": {},
   "source": [
    "### `#` ***torch.nn.CrossEntropyLoss() 손계산: one-hot version***"
   ]
  },
  {
   "cell_type": "code",
   "execution_count": 83,
   "id": "c0107313-9323-47f4-a0f1-48d27d25d89f",
   "metadata": {},
   "outputs": [],
   "source": [
    "loss_fn = torch.nn.CrossEntropyLoss()"
   ]
  },
  {
   "cell_type": "code",
   "execution_count": 84,
   "id": "9827f1a4-e5d2-4026-b8b0-96d91457e6e5",
   "metadata": {},
   "outputs": [
    {
     "data": {
      "text/plain": [
       "tensor([[-2.0000, -2.0000,  0.0000],\n",
       "        [ 3.1400,  3.1400,  3.1400],\n",
       "        [ 0.0000,  0.0000,  2.0000],\n",
       "        [ 2.0000,  2.0000,  4.0000],\n",
       "        [ 0.0000,  0.0000,  0.0000]])"
      ]
     },
     "execution_count": 84,
     "metadata": {},
     "output_type": "execute_result"
    }
   ],
   "source": [
    "_netout"
   ]
  },
  {
   "cell_type": "code",
   "execution_count": 90,
   "id": "9ccf2824-f948-4477-9b91-f8c0133cbf5b",
   "metadata": {},
   "outputs": [
    {
     "data": {
      "text/plain": [
       "tensor([[0., 0., 1.],\n",
       "        [0., 1., 0.],\n",
       "        [0., 0., 1.],\n",
       "        [0., 0., 1.],\n",
       "        [1., 0., 0.]])"
      ]
     },
     "execution_count": 90,
     "metadata": {},
     "output_type": "execute_result"
    }
   ],
   "source": [
    "_y_onehot = torch.tensor([[0,0,1],\n",
    "                          [0,1,0],\n",
    "                          [0,0,1],\n",
    "                          [0,0,1],\n",
    "                          [1,0,0]])*1.0\n",
    "_y_onehot"
   ]
  },
  {
   "cell_type": "code",
   "execution_count": 91,
   "id": "b214cdd3-abe4-4e7a-9075-49b07b7125f3",
   "metadata": {},
   "outputs": [
    {
     "data": {
      "text/plain": [
       "(tensor([[0.1065, 0.1065, 0.7870],\n",
       "         [0.3333, 0.3333, 0.3333],\n",
       "         [0.1065, 0.1065, 0.7870],\n",
       "         [0.1065, 0.1065, 0.7870],\n",
       "         [0.3333, 0.3333, 0.3333]]),\n",
       " tensor([[0., 0., 1.],\n",
       "         [0., 1., 0.],\n",
       "         [0., 0., 1.],\n",
       "         [0., 0., 1.],\n",
       "         [1., 0., 0.]]))"
      ]
     },
     "execution_count": 91,
     "metadata": {},
     "output_type": "execute_result"
    }
   ],
   "source": [
    "sftmax = torch.nn.Softmax(dim=1) \n",
    "sftmax(_netout), _y_onehot"
   ]
  },
  {
   "cell_type": "markdown",
   "id": "643ea7c4-1b47-4942-bcd7-19e7cbe75231",
   "metadata": {},
   "source": [
    "`-` 계산결과 "
   ]
  },
  {
   "cell_type": "code",
   "execution_count": 92,
   "id": "0a32cacf-43f9-402e-abd6-bf63caadf282",
   "metadata": {},
   "outputs": [
    {
     "data": {
      "text/plain": [
       "tensor(0.5832)"
      ]
     },
     "execution_count": 92,
     "metadata": {},
     "output_type": "execute_result"
    }
   ],
   "source": [
    "loss_fn(_netout,_y_onehot)"
   ]
  },
  {
   "cell_type": "code",
   "execution_count": 101,
   "id": "798b3d1b-b8c9-46ca-b29b-3d0dc98d33e4",
   "metadata": {},
   "outputs": [
    {
     "data": {
      "text/plain": [
       "tensor(0.5832)"
      ]
     },
     "execution_count": 101,
     "metadata": {},
     "output_type": "execute_result"
    }
   ],
   "source": [
    "- torch.sum(torch.log(sftmax(_netout)) * _y_onehot)/5 "
   ]
  },
  {
   "cell_type": "markdown",
   "id": "170ee16c-2a2b-46a4-8992-59b06f00a0bc",
   "metadata": {},
   "source": [
    "`-` 계산하는 방법도 중요한데 torch.nn.CrossEntropyLoss() 에는 softmax 활성화함수가 이미 포함되어 있다는 것을 확인하는 것이 더 중요함. "
   ]
  },
  {
   "cell_type": "markdown",
   "id": "b3962ffb-9baf-4b37-95df-bf8420dc0db6",
   "metadata": {},
   "source": [
    "`-` 따라서 torch.nn.CrossEntropyLoss() 는 사실 torch.nn.CEWithSoftmaxLoss() 정도로 바꾸는 것이 더 말이 되는 것 같다. "
   ]
  },
  {
   "cell_type": "markdown",
   "id": "2dcee925-e521-4306-bca3-3928372bcbd4",
   "metadata": {},
   "source": [
    "### `#` ***torch.nn.CrossEntropyLoss() 손계산: lenght $n$ vertor version***"
   ]
  },
  {
   "cell_type": "code",
   "execution_count": 102,
   "id": "efc28a60-3165-4270-b510-867ad3debef1",
   "metadata": {},
   "outputs": [
    {
     "data": {
      "text/plain": [
       "tensor([[-2.0000, -2.0000,  0.0000],\n",
       "        [ 3.1400,  3.1400,  3.1400],\n",
       "        [ 0.0000,  0.0000,  2.0000],\n",
       "        [ 2.0000,  2.0000,  4.0000],\n",
       "        [ 0.0000,  0.0000,  0.0000]])"
      ]
     },
     "execution_count": 102,
     "metadata": {},
     "output_type": "execute_result"
    }
   ],
   "source": [
    "_netout "
   ]
  },
  {
   "cell_type": "code",
   "execution_count": 108,
   "id": "fd6d1245-8b10-47e3-add9-fef5331bad6c",
   "metadata": {},
   "outputs": [],
   "source": [
    "_y = torch.tensor([2,1,2,2,0])"
   ]
  },
  {
   "cell_type": "code",
   "execution_count": 109,
   "id": "ee47f0d1-94cc-419c-b971-3b7bcd63904f",
   "metadata": {},
   "outputs": [
    {
     "data": {
      "text/plain": [
       "tensor(0.5832)"
      ]
     },
     "execution_count": 109,
     "metadata": {},
     "output_type": "execute_result"
    }
   ],
   "source": [
    "loss_fn(_netout,_y)"
   ]
  },
  {
   "cell_type": "markdown",
   "id": "b687f520-f1ac-4651-8c14-519a3cc1be4a",
   "metadata": {},
   "source": [
    "## 실습: $k=2$로 두면 이진분류도 가능"
   ]
  },
  {
   "cell_type": "markdown",
   "id": "47b82744-6adc-4500-893d-1e3a980dc34e",
   "metadata": {},
   "source": [
    "`-` download data "
   ]
  },
  {
   "cell_type": "code",
   "execution_count": 119,
   "id": "5a1afb86-1e56-4618-9379-d7156a8d5ed4",
   "metadata": {},
   "outputs": [],
   "source": [
    "path = untar_data(URLs.MNIST) "
   ]
  },
  {
   "cell_type": "markdown",
   "id": "e954fb96-323a-4bbe-ad89-17e3f1e14de4",
   "metadata": {},
   "source": [
    "training "
   ]
  },
  {
   "cell_type": "code",
   "execution_count": 192,
   "id": "efe098d8-7a3a-4f83-8241-a4fa6cc4e14e",
   "metadata": {
    "tags": []
   },
   "outputs": [],
   "source": [
    "X0 = torch.stack([torchvision.io.read_image(str(fname)) for fname in (path/'training/0').ls()])\n",
    "X1 = torch.stack([torchvision.io.read_image(str(fname)) for fname in (path/'training/1').ls()])\n",
    "X = torch.concat([X0,X1])/255\n",
    "y = torch.tensor([0]*len(X0) + [1]*len(X1))#.reshape(-1,1)"
   ]
  },
  {
   "cell_type": "code",
   "execution_count": 203,
   "id": "3ebfed2c-1c94-4a88-8dd2-283df0b5c744",
   "metadata": {},
   "outputs": [],
   "source": [
    "y_onehot = torch.nn.functional.one_hot(y).float()\n",
    "#y_onehot = torch.tensor(list(map(lambda x: [1,0] if x==0 else [0,1],y))).float()"
   ]
  },
  {
   "cell_type": "markdown",
   "id": "cd1c7cb6-8bec-4c34-972f-58f87d6404bf",
   "metadata": {},
   "source": [
    "test"
   ]
  },
  {
   "cell_type": "code",
   "execution_count": 204,
   "id": "43772bc8-f339-441b-ab21-d03ec24aa0b7",
   "metadata": {
    "tags": []
   },
   "outputs": [],
   "source": [
    "X0 = torch.stack([torchvision.io.read_image(str(fname)) for fname in (path/'testing/0').ls()])\n",
    "X1 = torch.stack([torchvision.io.read_image(str(fname)) for fname in (path/'testing/1').ls()])\n",
    "XX = torch.concat([X0,X1])/255\n",
    "yy = torch.tensor([0]*len(X0) + [1]*len(X1))#.reshape(-1,1)"
   ]
  },
  {
   "cell_type": "code",
   "execution_count": 205,
   "id": "0fde2cda-ea48-45f7-a5e7-814a212078c1",
   "metadata": {},
   "outputs": [],
   "source": [
    "yy_onehot = torch.nn.functional.one_hot(yy).float()\n",
    "#yy_onehot = torch.tensor(list(map(lambda x: [1,0] if x==0 else [0,1],yy))).float()"
   ]
  },
  {
   "cell_type": "markdown",
   "id": "4722ead7-41de-4907-a2d8-0772b767c402",
   "metadata": {},
   "source": [
    "`(1)` dls "
   ]
  },
  {
   "cell_type": "code",
   "execution_count": 206,
   "id": "9ce8cf2a-7bac-41cb-8593-a30feed7bbb0",
   "metadata": {},
   "outputs": [],
   "source": [
    "ds1 = torch.utils.data.TensorDataset(X,y_onehot) \n",
    "ds2 = torch.utils.data.TensorDataset(XX,yy_onehot) \n",
    "dl1 = torch.utils.data.DataLoader(ds1,batch_size=1862) # 에폭당 11번 iter\n",
    "dl2 = torch.utils.data.DataLoader(ds2,batch_size=3147) # \n",
    "dls = DataLoaders(dl1,dl2) "
   ]
  },
  {
   "cell_type": "markdown",
   "id": "d599b87f-05a7-40b4-89bf-185017e8c301",
   "metadata": {},
   "source": [
    "`(2)` lrnr "
   ]
  },
  {
   "cell_type": "code",
   "execution_count": 207,
   "id": "3a1ffbaf-fce3-41c0-8c4c-e415b4d4b07b",
   "metadata": {},
   "outputs": [],
   "source": [
    "net = torch.nn.Sequential(\n",
    "    torch.nn.Conv2d(1,16,(5,5)),\n",
    "    torch.nn.ReLU(),\n",
    "    torch.nn.MaxPool2d((2,2)),\n",
    "    torch.nn.Flatten(),\n",
    "    torch.nn.Linear(2304,2)\n",
    "    #torch.nn.Softmax()\n",
    ")\n",
    "loss_fn = torch.nn.CrossEntropyLoss()\n",
    "lrnr = Learner(dls,net,loss_fn) "
   ]
  },
  {
   "cell_type": "markdown",
   "id": "39505c6d-ff93-41a2-895c-3d0d6116a128",
   "metadata": {},
   "source": [
    "`(3)` 학습"
   ]
  },
  {
   "cell_type": "code",
   "execution_count": 214,
   "id": "9408185d-f96f-4879-b848-7f6f6a85b3e1",
   "metadata": {},
   "outputs": [
    {
     "data": {
      "text/html": [
       "\n",
       "<style>\n",
       "    /* Turns off some styling */\n",
       "    progress {\n",
       "        /* gets rid of default border in Firefox and Opera. */\n",
       "        border: none;\n",
       "        /* Needs to be in here for Safari polyfill so background images work as expected. */\n",
       "        background-size: auto;\n",
       "    }\n",
       "    progress:not([value]), progress:not([value])::-webkit-progress-bar {\n",
       "        background: repeating-linear-gradient(45deg, #7e7e7e, #7e7e7e 10px, #5c5c5c 10px, #5c5c5c 20px);\n",
       "    }\n",
       "    .progress-bar-interrupted, .progress-bar-interrupted::-webkit-progress-bar {\n",
       "        background: #F44336;\n",
       "    }\n",
       "</style>\n"
      ],
      "text/plain": [
       "<IPython.core.display.HTML object>"
      ]
     },
     "metadata": {},
     "output_type": "display_data"
    },
    {
     "data": {
      "text/html": [
       "<table border=\"1\" class=\"dataframe\">\n",
       "  <thead>\n",
       "    <tr style=\"text-align: left;\">\n",
       "      <th>epoch</th>\n",
       "      <th>train_loss</th>\n",
       "      <th>valid_loss</th>\n",
       "      <th>time</th>\n",
       "    </tr>\n",
       "  </thead>\n",
       "  <tbody>\n",
       "    <tr>\n",
       "      <td>0</td>\n",
       "      <td>0.018623</td>\n",
       "      <td>0.012110</td>\n",
       "      <td>00:00</td>\n",
       "    </tr>\n",
       "    <tr>\n",
       "      <td>1</td>\n",
       "      <td>0.017453</td>\n",
       "      <td>0.010544</td>\n",
       "      <td>00:00</td>\n",
       "    </tr>\n",
       "    <tr>\n",
       "      <td>2</td>\n",
       "      <td>0.016391</td>\n",
       "      <td>0.009324</td>\n",
       "      <td>00:00</td>\n",
       "    </tr>\n",
       "    <tr>\n",
       "      <td>3</td>\n",
       "      <td>0.015412</td>\n",
       "      <td>0.008343</td>\n",
       "      <td>00:00</td>\n",
       "    </tr>\n",
       "    <tr>\n",
       "      <td>4</td>\n",
       "      <td>0.014506</td>\n",
       "      <td>0.007542</td>\n",
       "      <td>00:00</td>\n",
       "    </tr>\n",
       "    <tr>\n",
       "      <td>5</td>\n",
       "      <td>0.013664</td>\n",
       "      <td>0.006874</td>\n",
       "      <td>00:00</td>\n",
       "    </tr>\n",
       "    <tr>\n",
       "      <td>6</td>\n",
       "      <td>0.012881</td>\n",
       "      <td>0.006318</td>\n",
       "      <td>00:00</td>\n",
       "    </tr>\n",
       "    <tr>\n",
       "      <td>7</td>\n",
       "      <td>0.012152</td>\n",
       "      <td>0.005849</td>\n",
       "      <td>00:00</td>\n",
       "    </tr>\n",
       "    <tr>\n",
       "      <td>8</td>\n",
       "      <td>0.011473</td>\n",
       "      <td>0.005448</td>\n",
       "      <td>00:00</td>\n",
       "    </tr>\n",
       "    <tr>\n",
       "      <td>9</td>\n",
       "      <td>0.010841</td>\n",
       "      <td>0.005103</td>\n",
       "      <td>00:00</td>\n",
       "    </tr>\n",
       "  </tbody>\n",
       "</table>"
      ],
      "text/plain": [
       "<IPython.core.display.HTML object>"
      ]
     },
     "metadata": {},
     "output_type": "display_data"
    }
   ],
   "source": [
    "lrnr.fit(10) "
   ]
  },
  {
   "cell_type": "markdown",
   "id": "76863d6d-b5d2-4e92-a49e-c2cbdc71f2e4",
   "metadata": {},
   "source": [
    "`(4)` 예측 및 시각화 "
   ]
  },
  {
   "cell_type": "code",
   "execution_count": 216,
   "id": "78883d9a-3add-4a32-ab47-8e44fe47291a",
   "metadata": {},
   "outputs": [
    {
     "data": {
      "text/plain": [
       "Sequential(\n",
       "  (0): Conv2d(1, 16, kernel_size=(5, 5), stride=(1, 1))\n",
       "  (1): ReLU()\n",
       "  (2): MaxPool2d(kernel_size=(2, 2), stride=(2, 2), padding=0, dilation=1, ceil_mode=False)\n",
       "  (3): Flatten(start_dim=1, end_dim=-1)\n",
       "  (4): Linear(in_features=2304, out_features=2, bias=True)\n",
       ")"
      ]
     },
     "execution_count": 216,
     "metadata": {},
     "output_type": "execute_result"
    }
   ],
   "source": [
    "lrnr.model.to(\"cpu\")"
   ]
  },
  {
   "cell_type": "code",
   "execution_count": 238,
   "id": "db465521-8f39-4d38-8c23-380f3ef2f455",
   "metadata": {},
   "outputs": [
    {
     "data": {
      "text/plain": [
       "Text(0.5, 0.98, 'Training Set')"
      ]
     },
     "execution_count": 238,
     "metadata": {},
     "output_type": "execute_result"
    },
    {
     "data": {
      "image/png": "[encoded data removed]",
      "text/plain": [
       "<Figure size 576x288 with 2 Axes>"
      ]
     },
     "metadata": {
      "needs_background": "light"
     },
     "output_type": "display_data"
    }
   ],
   "source": [
    "sftmax = torch.nn.Softmax(dim=1) \n",
    "sig = torch.nn.Sigmoid()\n",
    "fig,ax = plt.subplots(1,2,figsize=(8,4))\n",
    "ax[0].plot(net(X).diff(axis=1).data,',',color=\"C1\")\n",
    "ax[1].plot(y)\n",
    "ax[1].plot(sftmax(net(X))[:,1].data,',')\n",
    "#ax[1].plot(sig(net(X).diff(axis=1)).data,',')\n",
    "fig.suptitle(\"Training Set\",size=15)"
   ]
  },
  {
   "cell_type": "code",
   "execution_count": 239,
   "id": "92cd2812-943d-4f0c-bbbf-f36387528058",
   "metadata": {},
   "outputs": [
    {
     "data": {
      "text/plain": [
       "Text(0.5, 0.98, 'Test Set')"
      ]
     },
     "execution_count": 239,
     "metadata": {},
     "output_type": "execute_result"
    },
    {
     "data": {
      "image/png": "[encoded data removed]",
      "text/plain": [
       "<Figure size 576x288 with 2 Axes>"
      ]
     },
     "metadata": {
      "needs_background": "light"
     },
     "output_type": "display_data"
    }
   ],
   "source": [
    "fig,ax = plt.subplots(1,2,figsize=(8,4))\n",
    "ax[0].plot(net(XX).diff(axis=1).data,',',color=\"C1\")\n",
    "ax[1].plot(yy)\n",
    "ax[1].plot(sftmax(net(XX))[:,1].data,',')\n",
    "#ax[1].plot(sig(net(XX).diff(axis=1)).data,',')\n",
    "fig.suptitle(\"Test Set\",size=15)"
   ]
  },
  {
   "cell_type": "markdown",
   "id": "c4f2f0fa-8955-4849-b5c7-124404431433",
   "metadata": {},
   "source": [
    "`-` note: softmax(u1,u2)=[sig(u1-u2), sig(u2-u1)]=[1-sig(u2-u1),sig(u2-u1)]"
   ]
  },
  {
   "cell_type": "markdown",
   "id": "3f9aedf8-b37c-4746-9b6c-491dfb0dbb69",
   "metadata": {},
   "source": [
    "## 공부: 이진분류에서 소프트맥스 vs 시그모이드 "
   ]
  },
  {
   "cell_type": "markdown",
   "id": "d8de9640-53de-4062-94fb-8e887c7447cd",
   "metadata": {},
   "source": [
    "`-` 이진분류문제 = \"y=0 or y=1\" 을 맞추는 문제 = 성공과 실패를 맞추는 문제 = 성공확률과 실패확률을 추정하는 문제 "
   ]
  },
  {
   "cell_type": "markdown",
   "id": "8013c368-45ca-4225-b9dc-065f662e03e4",
   "metadata": {},
   "source": [
    "`-` softmax, sigmoid\n",
    "\n",
    "- softmax: (실패확률, 성공확률) 꼴로 결과가 나옴 // softmax는 실패확률과 성공확률을 둘다 추정한다. \n",
    "- sigmoid: (성공확률) 꼴로 결과가 나옴 // sigmoid는 성공확률만 추정한다. "
   ]
  },
  {
   "cell_type": "markdown",
   "id": "b8ef661b-ef9d-4fc4-99f6-e6a8ca8fc837",
   "metadata": {},
   "source": [
    "`-` 그런데 \"실패확률=1-성공확률\" 이므로 사실상 둘은 같은걸 추정하는 셈이다. (성공확률만 추정하면 실패확률은 저절로 추정되니까) "
   ]
  },
  {
   "cell_type": "markdown",
   "id": "dfeeda2a-e00e-441c-b6c7-d03f1d12f774",
   "metadata": {},
   "source": [
    "`-` 아래는 사실상 같은 모형이다. "
   ]
  },
  {
   "cell_type": "code",
   "execution_count": 8,
   "id": "a75cb232-1f02-4d03-96ea-0834337ef0e7",
   "metadata": {},
   "outputs": [
    {
     "data": {
      "image/svg+xml": [
       "<?xml version=\"1.0\" encoding=\"UTF-8\" standalone=\"no\"?>\n",
       "<!DOCTYPE svg PUBLIC \"-//W3C//DTD SVG 1.1//EN\"\n",
       " \"http://www.w3.org/Graphics/SVG/1.1/DTD/svg11.dtd\">\n",
       "<!-- Generated by graphviz version 2.50.0 (0)\n",
       " -->\n",
       "<!-- Title: G Pages: 1 -->\n",
       "<svg width=\"380pt\" height=\"261pt\"\n",
       " viewBox=\"0.00 0.00 380.09 261.00\" xmlns=\"http://www.w3.org/2000/svg\" xmlns:xlink=\"http://www.w3.org/1999/xlink\">\n",
       "<g id=\"graph0\" class=\"graph\" transform=\"scale(1 1) rotate(0) translate(4 257)\">\n",
       "<title>G</title>\n",
       "<polygon fill=\"white\" stroke=\"transparent\" points=\"-4,4 -4,-257 376.09,-257 376.09,4 -4,4\"/>\n",
       "<g id=\"clust1\" class=\"cluster\">\n",
       "<title>cluster_1</title>\n",
       "<polygon fill=\"lightgrey\" stroke=\"lightgrey\" points=\"8,-8 8,-245 78,-245 78,-8 8,-8\"/>\n",
       "<text text-anchor=\"middle\" x=\"43\" y=\"-229.8\" font-family=\"Times,serif\" font-size=\"14.00\">Layer ?</text>\n",
       "</g>\n",
       "<g id=\"clust2\" class=\"cluster\">\n",
       "<title>cluster_2</title>\n",
       "<polygon fill=\"lightgrey\" stroke=\"lightgrey\" points=\"98,-8 98,-245 227.09,-245 227.09,-8 98,-8\"/>\n",
       "<text text-anchor=\"middle\" x=\"162.54\" y=\"-229.8\" font-family=\"Times,serif\" font-size=\"14.00\">Layer: ReLU</text>\n",
       "</g>\n",
       "<g id=\"clust3\" class=\"cluster\">\n",
       "<title>cluster_3</title>\n",
       "<polygon fill=\"lightgrey\" stroke=\"lightgrey\" points=\"247.09,-62 247.09,-191 372.09,-191 372.09,-62 247.09,-62\"/>\n",
       "<text text-anchor=\"middle\" x=\"309.59\" y=\"-175.8\" font-family=\"Times,serif\" font-size=\"14.00\">Layer: Softmax</text>\n",
       "</g>\n",
       "<!-- ? -->\n",
       "<g id=\"node1\" class=\"node\">\n",
       "<title>?</title>\n",
       "<ellipse fill=\"none\" stroke=\"black\" cx=\"43\" cy=\"-196\" rx=\"27\" ry=\"18\"/>\n",
       "<text text-anchor=\"middle\" x=\"43\" y=\"-192.3\" font-family=\"Times,serif\" font-size=\"14.00\">?</text>\n",
       "</g>\n",
       "<!-- node1 -->\n",
       "<g id=\"node5\" class=\"node\">\n",
       "<title>node1</title>\n",
       "<ellipse fill=\"none\" stroke=\"black\" cx=\"162.54\" cy=\"-196\" rx=\"38.99\" ry=\"18\"/>\n",
       "<text text-anchor=\"middle\" x=\"162.54\" y=\"-192.3\" font-family=\"Times,serif\" font-size=\"14.00\">node1</text>\n",
       "</g>\n",
       "<!-- ?&#45;&gt;node1 -->\n",
       "<g id=\"edge1\" class=\"edge\">\n",
       "<title>?&#45;&gt;node1</title>\n",
       "<path fill=\"none\" stroke=\"black\" d=\"M70.09,-196C82.84,-196 98.59,-196 113.42,-196\"/>\n",
       "<polygon fill=\"black\" stroke=\"black\" points=\"113.48,-199.5 123.48,-196 113.48,-192.5 113.48,-199.5\"/>\n",
       "</g>\n",
       "<!-- node2 -->\n",
       "<g id=\"node6\" class=\"node\">\n",
       "<title>node2</title>\n",
       "<ellipse fill=\"none\" stroke=\"black\" cx=\"162.54\" cy=\"-142\" rx=\"38.99\" ry=\"18\"/>\n",
       "<text text-anchor=\"middle\" x=\"162.54\" y=\"-138.3\" font-family=\"Times,serif\" font-size=\"14.00\">node2</text>\n",
       "</g>\n",
       "<!-- ?&#45;&gt;node2 -->\n",
       "<g id=\"edge5\" class=\"edge\">\n",
       "<title>?&#45;&gt;node2</title>\n",
       "<path fill=\"none\" stroke=\"black\" d=\"M65.56,-186.1C82.19,-178.46 105.58,-167.71 125.1,-158.74\"/>\n",
       "<polygon fill=\"black\" stroke=\"black\" points=\"126.7,-161.86 134.33,-154.5 123.78,-155.5 126.7,-161.86\"/>\n",
       "</g>\n",
       "<!-- ... -->\n",
       "<g id=\"node7\" class=\"node\">\n",
       "<title>...</title>\n",
       "<ellipse fill=\"none\" stroke=\"black\" cx=\"162.54\" cy=\"-88\" rx=\"27\" ry=\"18\"/>\n",
       "<text text-anchor=\"middle\" x=\"162.54\" y=\"-84.3\" font-family=\"Times,serif\" font-size=\"14.00\">...</text>\n",
       "</g>\n",
       "<!-- ?&#45;&gt;... -->\n",
       "<g id=\"edge9\" class=\"edge\">\n",
       "<title>?&#45;&gt;...</title>\n",
       "<path fill=\"none\" stroke=\"black\" d=\"M59.85,-181.43C80.12,-162.81 115.36,-130.43 138.57,-109.11\"/>\n",
       "<polygon fill=\"black\" stroke=\"black\" points=\"140.95,-111.68 145.94,-102.33 136.21,-106.52 140.95,-111.68\"/>\n",
       "</g>\n",
       "<!-- node2304 -->\n",
       "<g id=\"node8\" class=\"node\">\n",
       "<title>node2304</title>\n",
       "<ellipse fill=\"none\" stroke=\"black\" cx=\"162.54\" cy=\"-34\" rx=\"56.59\" ry=\"18\"/>\n",
       "<text text-anchor=\"middle\" x=\"162.54\" y=\"-30.3\" font-family=\"Times,serif\" font-size=\"14.00\">node2304</text>\n",
       "</g>\n",
       "<!-- ?&#45;&gt;node2304 -->\n",
       "<g id=\"edge13\" class=\"edge\">\n",
       "<title>?&#45;&gt;node2304</title>\n",
       "<path fill=\"none\" stroke=\"black\" d=\"M55.7,-179.87C76.06,-151.81 118.18,-93.76 142.7,-59.97\"/>\n",
       "<polygon fill=\"black\" stroke=\"black\" points=\"145.79,-61.67 148.83,-51.52 140.12,-57.56 145.79,-61.67\"/>\n",
       "</g>\n",
       "<!-- ?? -->\n",
       "<g id=\"node2\" class=\"node\">\n",
       "<title>??</title>\n",
       "<ellipse fill=\"none\" stroke=\"black\" cx=\"43\" cy=\"-142\" rx=\"27\" ry=\"18\"/>\n",
       "<text text-anchor=\"middle\" x=\"43\" y=\"-138.3\" font-family=\"Times,serif\" font-size=\"14.00\">??</text>\n",
       "</g>\n",
       "<!-- ??&#45;&gt;node1 -->\n",
       "<g id=\"edge2\" class=\"edge\">\n",
       "<title>??&#45;&gt;node1</title>\n",
       "<path fill=\"none\" stroke=\"black\" d=\"M65.56,-151.9C82.19,-159.54 105.58,-170.29 125.1,-179.26\"/>\n",
       "<polygon fill=\"black\" stroke=\"black\" points=\"123.78,-182.5 134.33,-183.5 126.7,-176.14 123.78,-182.5\"/>\n",
       "</g>\n",
       "<!-- ??&#45;&gt;node2 -->\n",
       "<g id=\"edge6\" class=\"edge\">\n",
       "<title>??&#45;&gt;node2</title>\n",
       "<path fill=\"none\" stroke=\"black\" d=\"M70.09,-142C82.84,-142 98.59,-142 113.42,-142\"/>\n",
       "<polygon fill=\"black\" stroke=\"black\" points=\"113.48,-145.5 123.48,-142 113.48,-138.5 113.48,-145.5\"/>\n",
       "</g>\n",
       "<!-- ??&#45;&gt;... -->\n",
       "<g id=\"edge10\" class=\"edge\">\n",
       "<title>??&#45;&gt;...</title>\n",
       "<path fill=\"none\" stroke=\"black\" d=\"M65.56,-132.1C83.75,-123.74 110.03,-111.66 130.49,-102.26\"/>\n",
       "<polygon fill=\"black\" stroke=\"black\" points=\"132.1,-105.38 139.72,-98.02 129.18,-99.02 132.1,-105.38\"/>\n",
       "</g>\n",
       "<!-- ??&#45;&gt;node2304 -->\n",
       "<g id=\"edge14\" class=\"edge\">\n",
       "<title>??&#45;&gt;node2304</title>\n",
       "<path fill=\"none\" stroke=\"black\" d=\"M59.85,-127.43C79.22,-109.64 112.26,-79.28 135.41,-58.01\"/>\n",
       "<polygon fill=\"black\" stroke=\"black\" points=\"137.85,-60.52 142.85,-51.18 133.11,-55.37 137.85,-60.52\"/>\n",
       "</g>\n",
       "<!-- .. -->\n",
       "<g id=\"node3\" class=\"node\">\n",
       "<title>..</title>\n",
       "<ellipse fill=\"none\" stroke=\"black\" cx=\"43\" cy=\"-88\" rx=\"27\" ry=\"18\"/>\n",
       "<text text-anchor=\"middle\" x=\"43\" y=\"-84.3\" font-family=\"Times,serif\" font-size=\"14.00\">..</text>\n",
       "</g>\n",
       "<!-- ..&#45;&gt;node1 -->\n",
       "<g id=\"edge3\" class=\"edge\">\n",
       "<title>..&#45;&gt;node1</title>\n",
       "<path fill=\"none\" stroke=\"black\" d=\"M59.85,-102.57C79.56,-120.67 113.42,-151.78 136.61,-173.09\"/>\n",
       "<polygon fill=\"black\" stroke=\"black\" points=\"134.3,-175.72 144.03,-179.91 139.04,-170.57 134.3,-175.72\"/>\n",
       "</g>\n",
       "<!-- ..&#45;&gt;node2 -->\n",
       "<g id=\"edge7\" class=\"edge\">\n",
       "<title>..&#45;&gt;node2</title>\n",
       "<path fill=\"none\" stroke=\"black\" d=\"M65.56,-97.9C82.19,-105.54 105.58,-116.29 125.1,-125.26\"/>\n",
       "<polygon fill=\"black\" stroke=\"black\" points=\"123.78,-128.5 134.33,-129.5 126.7,-122.14 123.78,-128.5\"/>\n",
       "</g>\n",
       "<!-- ..&#45;&gt;... -->\n",
       "<g id=\"edge11\" class=\"edge\">\n",
       "<title>..&#45;&gt;...</title>\n",
       "<path fill=\"none\" stroke=\"black\" d=\"M70.09,-88C86.37,-88 107.56,-88 125.45,-88\"/>\n",
       "<polygon fill=\"black\" stroke=\"black\" points=\"125.53,-91.5 135.53,-88 125.53,-84.5 125.53,-91.5\"/>\n",
       "</g>\n",
       "<!-- ..&#45;&gt;node2304 -->\n",
       "<g id=\"edge15\" class=\"edge\">\n",
       "<title>..&#45;&gt;node2304</title>\n",
       "<path fill=\"none\" stroke=\"black\" d=\"M65.56,-78.1C80.87,-71.06 101.9,-61.4 120.37,-52.91\"/>\n",
       "<polygon fill=\"black\" stroke=\"black\" points=\"121.85,-56.09 129.48,-48.73 118.93,-49.73 121.85,-56.09\"/>\n",
       "</g>\n",
       "<!-- ??? -->\n",
       "<g id=\"node4\" class=\"node\">\n",
       "<title>???</title>\n",
       "<ellipse fill=\"none\" stroke=\"black\" cx=\"43\" cy=\"-34\" rx=\"27\" ry=\"18\"/>\n",
       "<text text-anchor=\"middle\" x=\"43\" y=\"-30.3\" font-family=\"Times,serif\" font-size=\"14.00\">???</text>\n",
       "</g>\n",
       "<!-- ???&#45;&gt;node1 -->\n",
       "<g id=\"edge4\" class=\"edge\">\n",
       "<title>???&#45;&gt;node1</title>\n",
       "<path fill=\"none\" stroke=\"black\" d=\"M55.7,-50.13C76.17,-78.34 118.62,-136.85 143.09,-170.56\"/>\n",
       "<polygon fill=\"black\" stroke=\"black\" points=\"140.48,-172.93 149.19,-178.97 146.15,-168.82 140.48,-172.93\"/>\n",
       "</g>\n",
       "<!-- ???&#45;&gt;node2 -->\n",
       "<g id=\"edge8\" class=\"edge\">\n",
       "<title>???&#45;&gt;node2</title>\n",
       "<path fill=\"none\" stroke=\"black\" d=\"M59.85,-48.57C79.56,-66.67 113.42,-97.78 136.61,-119.09\"/>\n",
       "<polygon fill=\"black\" stroke=\"black\" points=\"134.3,-121.72 144.03,-125.91 139.04,-116.57 134.3,-121.72\"/>\n",
       "</g>\n",
       "<!-- ???&#45;&gt;... -->\n",
       "<g id=\"edge12\" class=\"edge\">\n",
       "<title>???&#45;&gt;...</title>\n",
       "<path fill=\"none\" stroke=\"black\" d=\"M65.56,-43.9C83.75,-52.26 110.03,-64.34 130.49,-73.74\"/>\n",
       "<polygon fill=\"black\" stroke=\"black\" points=\"129.18,-76.98 139.72,-77.98 132.1,-70.62 129.18,-76.98\"/>\n",
       "</g>\n",
       "<!-- ???&#45;&gt;node2304 -->\n",
       "<g id=\"edge16\" class=\"edge\">\n",
       "<title>???&#45;&gt;node2304</title>\n",
       "<path fill=\"none\" stroke=\"black\" d=\"M70.09,-34C77.75,-34 86.51,-34 95.49,-34\"/>\n",
       "<polygon fill=\"black\" stroke=\"black\" points=\"95.69,-37.5 105.69,-34 95.69,-30.5 95.69,-37.5\"/>\n",
       "</g>\n",
       "<!-- y1 -->\n",
       "<g id=\"node9\" class=\"node\">\n",
       "<title>y1</title>\n",
       "<ellipse fill=\"none\" stroke=\"black\" cx=\"309.09\" cy=\"-142\" rx=\"27\" ry=\"18\"/>\n",
       "<text text-anchor=\"middle\" x=\"309.09\" y=\"-138.3\" font-family=\"Times,serif\" font-size=\"14.00\">y1</text>\n",
       "</g>\n",
       "<!-- node1&#45;&gt;y1 -->\n",
       "<g id=\"edge17\" class=\"edge\">\n",
       "<title>node1&#45;&gt;y1</title>\n",
       "<path fill=\"none\" stroke=\"black\" d=\"M193.49,-184.81C217.48,-175.85 251.06,-163.3 275.68,-154.11\"/>\n",
       "<polygon fill=\"black\" stroke=\"black\" points=\"277.15,-157.3 285.29,-150.52 274.7,-150.74 277.15,-157.3\"/>\n",
       "</g>\n",
       "<!-- y2 -->\n",
       "<g id=\"node10\" class=\"node\">\n",
       "<title>y2</title>\n",
       "<ellipse fill=\"none\" stroke=\"black\" cx=\"309.09\" cy=\"-88\" rx=\"27\" ry=\"18\"/>\n",
       "<text text-anchor=\"middle\" x=\"309.09\" y=\"-84.3\" font-family=\"Times,serif\" font-size=\"14.00\">y2</text>\n",
       "</g>\n",
       "<!-- node1&#45;&gt;y2 -->\n",
       "<g id=\"edge21\" class=\"edge\">\n",
       "<title>node1&#45;&gt;y2</title>\n",
       "<path fill=\"none\" stroke=\"black\" d=\"M183.95,-180.76C209.76,-161.47 254.23,-128.24 282.35,-107.23\"/>\n",
       "<polygon fill=\"black\" stroke=\"black\" points=\"284.6,-109.92 290.51,-101.13 280.41,-104.32 284.6,-109.92\"/>\n",
       "</g>\n",
       "<!-- node2&#45;&gt;y1 -->\n",
       "<g id=\"edge18\" class=\"edge\">\n",
       "<title>node2&#45;&gt;y1</title>\n",
       "<path fill=\"none\" stroke=\"black\" d=\"M201.9,-142C223.51,-142 250.35,-142 271.64,-142\"/>\n",
       "<polygon fill=\"black\" stroke=\"black\" points=\"271.9,-145.5 281.9,-142 271.9,-138.5 271.9,-145.5\"/>\n",
       "</g>\n",
       "<!-- node2&#45;&gt;y2 -->\n",
       "<g id=\"edge22\" class=\"edge\">\n",
       "<title>node2&#45;&gt;y2</title>\n",
       "<path fill=\"none\" stroke=\"black\" d=\"M193.49,-130.81C217.48,-121.85 251.06,-109.3 275.68,-100.11\"/>\n",
       "<polygon fill=\"black\" stroke=\"black\" points=\"277.15,-103.3 285.29,-96.52 274.7,-96.74 277.15,-103.3\"/>\n",
       "</g>\n",
       "<!-- ...&#45;&gt;y1 -->\n",
       "<g id=\"edge19\" class=\"edge\">\n",
       "<title>...&#45;&gt;y1</title>\n",
       "<path fill=\"none\" stroke=\"black\" d=\"M186.45,-96.56C210.55,-105.56 248.69,-119.81 275.84,-129.95\"/>\n",
       "<polygon fill=\"black\" stroke=\"black\" points=\"274.7,-133.26 285.29,-133.48 277.15,-126.71 274.7,-133.26\"/>\n",
       "</g>\n",
       "<!-- ...&#45;&gt;y2 -->\n",
       "<g id=\"edge23\" class=\"edge\">\n",
       "<title>...&#45;&gt;y2</title>\n",
       "<path fill=\"none\" stroke=\"black\" d=\"M189.72,-88C212.6,-88 246.06,-88 271.58,-88\"/>\n",
       "<polygon fill=\"black\" stroke=\"black\" points=\"271.62,-91.5 281.62,-88 271.62,-84.5 271.62,-91.5\"/>\n",
       "</g>\n",
       "<!-- node2304&#45;&gt;y1 -->\n",
       "<g id=\"edge20\" class=\"edge\">\n",
       "<title>node2304&#45;&gt;y1</title>\n",
       "<path fill=\"none\" stroke=\"black\" d=\"M185.81,-50.64C211.68,-69.97 254.31,-101.82 281.79,-122.35\"/>\n",
       "<polygon fill=\"black\" stroke=\"black\" points=\"280.03,-125.4 290.14,-128.59 284.22,-119.8 280.03,-125.4\"/>\n",
       "</g>\n",
       "<!-- node2304&#45;&gt;y2 -->\n",
       "<g id=\"edge24\" class=\"edge\">\n",
       "<title>node2304&#45;&gt;y2</title>\n",
       "<path fill=\"none\" stroke=\"black\" d=\"M200.02,-47.63C223.33,-56.34 253.29,-67.53 275.75,-75.92\"/>\n",
       "<polygon fill=\"black\" stroke=\"black\" points=\"274.59,-79.22 285.19,-79.44 277.04,-72.67 274.59,-79.22\"/>\n",
       "</g>\n",
       "</g>\n",
       "</svg>\n"
      ],
      "text/plain": [
       "<graphviz.sources.Source at 0x7f90d56f3090>"
      ]
     },
     "execution_count": 8,
     "metadata": {},
     "output_type": "execute_result"
    }
   ],
   "source": [
    "#|code-fold: true\n",
    "gv('''\n",
    "splines=line\n",
    "subgraph cluster_1{\n",
    "    style=filled;\n",
    "    color=lightgrey;\n",
    "    \"?\"\n",
    "    \"??\"\n",
    "    \"..\"\n",
    "    \"???\"\n",
    "    label = \"Layer ?\"\n",
    "}\n",
    "subgraph cluster_2{\n",
    "    style=filled;\n",
    "    color=lightgrey;\n",
    "    \"?\" -> \"node1\"\n",
    "    \"??\" -> \"node1\"\n",
    "    \"..\" -> \"node1\"\n",
    "    \"???\" -> \"node1\"\n",
    "    \n",
    "    \"?\" -> \"node2\"\n",
    "    \"??\" -> \"node2\"\n",
    "    \"..\" -> \"node2\"\n",
    "    \"???\" -> \"node2\"\n",
    "    \n",
    "    \"?\" -> \"...\"\n",
    "    \"??\" -> \"...\"\n",
    "    \"..\" -> \"...\"\n",
    "    \"???\" -> \"...\"\n",
    "    \n",
    "    \"?\" -> \"node2304\"\n",
    "    \"??\" -> \"node2304\"\n",
    "    \"..\" -> \"node2304\"\n",
    "    \"???\" -> \"node2304\"\n",
    "\n",
    "    label = \"Layer: ReLU\"\n",
    "}\n",
    "subgraph cluster_3{\n",
    "    style=filled;\n",
    "    color=lightgrey;\n",
    "    \"node1\" -> \"y1\"\n",
    "    \"node2\" -> \"y1\"\n",
    "    \"...\" -> \"y1\"\n",
    "    \"node2304\" -> \"y1\"\n",
    "    \n",
    "    \"node1\" -> \"y2\"\n",
    "    \"node2\" -> \"y2\"\n",
    "    \"...\" -> \"y2\"\n",
    "    \"node2304\" -> \"y2\"    \n",
    "    label = \"Layer: Softmax\"\n",
    "}\n",
    "''')"
   ]
  },
  {
   "cell_type": "code",
   "execution_count": 7,
   "id": "777fd535-4590-41c2-81b7-a7b37aa52fc1",
   "metadata": {},
   "outputs": [
    {
     "data": {
      "image/svg+xml": [
       "<?xml version=\"1.0\" encoding=\"UTF-8\" standalone=\"no\"?>\n",
       "<!DOCTYPE svg PUBLIC \"-//W3C//DTD SVG 1.1//EN\"\n",
       " \"http://www.w3.org/Graphics/SVG/1.1/DTD/svg11.dtd\">\n",
       "<!-- Generated by graphviz version 2.50.0 (0)\n",
       " -->\n",
       "<!-- Title: G Pages: 1 -->\n",
       "<svg width=\"380pt\" height=\"261pt\"\n",
       " viewBox=\"0.00 0.00 380.09 261.00\" xmlns=\"http://www.w3.org/2000/svg\" xmlns:xlink=\"http://www.w3.org/1999/xlink\">\n",
       "<g id=\"graph0\" class=\"graph\" transform=\"scale(1 1) rotate(0) translate(4 257)\">\n",
       "<title>G</title>\n",
       "<polygon fill=\"white\" stroke=\"transparent\" points=\"-4,4 -4,-257 376.09,-257 376.09,4 -4,4\"/>\n",
       "<g id=\"clust1\" class=\"cluster\">\n",
       "<title>cluster_1</title>\n",
       "<polygon fill=\"lightgrey\" stroke=\"lightgrey\" points=\"8,-8 8,-245 78,-245 78,-8 8,-8\"/>\n",
       "<text text-anchor=\"middle\" x=\"43\" y=\"-229.8\" font-family=\"Times,serif\" font-size=\"14.00\">Layer ?</text>\n",
       "</g>\n",
       "<g id=\"clust2\" class=\"cluster\">\n",
       "<title>cluster_2</title>\n",
       "<polygon fill=\"lightgrey\" stroke=\"lightgrey\" points=\"98,-8 98,-245 227.09,-245 227.09,-8 98,-8\"/>\n",
       "<text text-anchor=\"middle\" x=\"162.54\" y=\"-229.8\" font-family=\"Times,serif\" font-size=\"14.00\">Layer: ReLU</text>\n",
       "</g>\n",
       "<g id=\"clust3\" class=\"cluster\">\n",
       "<title>cluster_3</title>\n",
       "<polygon fill=\"lightgrey\" stroke=\"lightgrey\" points=\"247.09,-89 247.09,-164 372.09,-164 372.09,-89 247.09,-89\"/>\n",
       "<text text-anchor=\"middle\" x=\"309.59\" y=\"-148.8\" font-family=\"Times,serif\" font-size=\"14.00\">Layer: Sigmoid</text>\n",
       "</g>\n",
       "<!-- ? -->\n",
       "<g id=\"node1\" class=\"node\">\n",
       "<title>?</title>\n",
       "<ellipse fill=\"none\" stroke=\"black\" cx=\"43\" cy=\"-196\" rx=\"27\" ry=\"18\"/>\n",
       "<text text-anchor=\"middle\" x=\"43\" y=\"-192.3\" font-family=\"Times,serif\" font-size=\"14.00\">?</text>\n",
       "</g>\n",
       "<!-- node1 -->\n",
       "<g id=\"node5\" class=\"node\">\n",
       "<title>node1</title>\n",
       "<ellipse fill=\"none\" stroke=\"black\" cx=\"162.54\" cy=\"-196\" rx=\"38.99\" ry=\"18\"/>\n",
       "<text text-anchor=\"middle\" x=\"162.54\" y=\"-192.3\" font-family=\"Times,serif\" font-size=\"14.00\">node1</text>\n",
       "</g>\n",
       "<!-- ?&#45;&gt;node1 -->\n",
       "<g id=\"edge1\" class=\"edge\">\n",
       "<title>?&#45;&gt;node1</title>\n",
       "<path fill=\"none\" stroke=\"black\" d=\"M70.09,-196C82.84,-196 98.59,-196 113.42,-196\"/>\n",
       "<polygon fill=\"black\" stroke=\"black\" points=\"113.48,-199.5 123.48,-196 113.48,-192.5 113.48,-199.5\"/>\n",
       "</g>\n",
       "<!-- node2 -->\n",
       "<g id=\"node6\" class=\"node\">\n",
       "<title>node2</title>\n",
       "<ellipse fill=\"none\" stroke=\"black\" cx=\"162.54\" cy=\"-142\" rx=\"38.99\" ry=\"18\"/>\n",
       "<text text-anchor=\"middle\" x=\"162.54\" y=\"-138.3\" font-family=\"Times,serif\" font-size=\"14.00\">node2</text>\n",
       "</g>\n",
       "<!-- ?&#45;&gt;node2 -->\n",
       "<g id=\"edge5\" class=\"edge\">\n",
       "<title>?&#45;&gt;node2</title>\n",
       "<path fill=\"none\" stroke=\"black\" d=\"M65.56,-186.1C82.19,-178.46 105.58,-167.71 125.1,-158.74\"/>\n",
       "<polygon fill=\"black\" stroke=\"black\" points=\"126.7,-161.86 134.33,-154.5 123.78,-155.5 126.7,-161.86\"/>\n",
       "</g>\n",
       "<!-- ... -->\n",
       "<g id=\"node7\" class=\"node\">\n",
       "<title>...</title>\n",
       "<ellipse fill=\"none\" stroke=\"black\" cx=\"162.54\" cy=\"-88\" rx=\"27\" ry=\"18\"/>\n",
       "<text text-anchor=\"middle\" x=\"162.54\" y=\"-84.3\" font-family=\"Times,serif\" font-size=\"14.00\">...</text>\n",
       "</g>\n",
       "<!-- ?&#45;&gt;... -->\n",
       "<g id=\"edge9\" class=\"edge\">\n",
       "<title>?&#45;&gt;...</title>\n",
       "<path fill=\"none\" stroke=\"black\" d=\"M59.85,-181.43C80.12,-162.81 115.36,-130.43 138.57,-109.11\"/>\n",
       "<polygon fill=\"black\" stroke=\"black\" points=\"140.95,-111.68 145.94,-102.33 136.21,-106.52 140.95,-111.68\"/>\n",
       "</g>\n",
       "<!-- node2304 -->\n",
       "<g id=\"node8\" class=\"node\">\n",
       "<title>node2304</title>\n",
       "<ellipse fill=\"none\" stroke=\"black\" cx=\"162.54\" cy=\"-34\" rx=\"56.59\" ry=\"18\"/>\n",
       "<text text-anchor=\"middle\" x=\"162.54\" y=\"-30.3\" font-family=\"Times,serif\" font-size=\"14.00\">node2304</text>\n",
       "</g>\n",
       "<!-- ?&#45;&gt;node2304 -->\n",
       "<g id=\"edge13\" class=\"edge\">\n",
       "<title>?&#45;&gt;node2304</title>\n",
       "<path fill=\"none\" stroke=\"black\" d=\"M55.7,-179.87C76.06,-151.81 118.18,-93.76 142.7,-59.97\"/>\n",
       "<polygon fill=\"black\" stroke=\"black\" points=\"145.79,-61.67 148.83,-51.52 140.12,-57.56 145.79,-61.67\"/>\n",
       "</g>\n",
       "<!-- ?? -->\n",
       "<g id=\"node2\" class=\"node\">\n",
       "<title>??</title>\n",
       "<ellipse fill=\"none\" stroke=\"black\" cx=\"43\" cy=\"-142\" rx=\"27\" ry=\"18\"/>\n",
       "<text text-anchor=\"middle\" x=\"43\" y=\"-138.3\" font-family=\"Times,serif\" font-size=\"14.00\">??</text>\n",
       "</g>\n",
       "<!-- ??&#45;&gt;node1 -->\n",
       "<g id=\"edge2\" class=\"edge\">\n",
       "<title>??&#45;&gt;node1</title>\n",
       "<path fill=\"none\" stroke=\"black\" d=\"M65.56,-151.9C82.19,-159.54 105.58,-170.29 125.1,-179.26\"/>\n",
       "<polygon fill=\"black\" stroke=\"black\" points=\"123.78,-182.5 134.33,-183.5 126.7,-176.14 123.78,-182.5\"/>\n",
       "</g>\n",
       "<!-- ??&#45;&gt;node2 -->\n",
       "<g id=\"edge6\" class=\"edge\">\n",
       "<title>??&#45;&gt;node2</title>\n",
       "<path fill=\"none\" stroke=\"black\" d=\"M70.09,-142C82.84,-142 98.59,-142 113.42,-142\"/>\n",
       "<polygon fill=\"black\" stroke=\"black\" points=\"113.48,-145.5 123.48,-142 113.48,-138.5 113.48,-145.5\"/>\n",
       "</g>\n",
       "<!-- ??&#45;&gt;... -->\n",
       "<g id=\"edge10\" class=\"edge\">\n",
       "<title>??&#45;&gt;...</title>\n",
       "<path fill=\"none\" stroke=\"black\" d=\"M65.56,-132.1C83.75,-123.74 110.03,-111.66 130.49,-102.26\"/>\n",
       "<polygon fill=\"black\" stroke=\"black\" points=\"132.1,-105.38 139.72,-98.02 129.18,-99.02 132.1,-105.38\"/>\n",
       "</g>\n",
       "<!-- ??&#45;&gt;node2304 -->\n",
       "<g id=\"edge14\" class=\"edge\">\n",
       "<title>??&#45;&gt;node2304</title>\n",
       "<path fill=\"none\" stroke=\"black\" d=\"M59.85,-127.43C79.22,-109.64 112.26,-79.28 135.41,-58.01\"/>\n",
       "<polygon fill=\"black\" stroke=\"black\" points=\"137.85,-60.52 142.85,-51.18 133.11,-55.37 137.85,-60.52\"/>\n",
       "</g>\n",
       "<!-- .. -->\n",
       "<g id=\"node3\" class=\"node\">\n",
       "<title>..</title>\n",
       "<ellipse fill=\"none\" stroke=\"black\" cx=\"43\" cy=\"-88\" rx=\"27\" ry=\"18\"/>\n",
       "<text text-anchor=\"middle\" x=\"43\" y=\"-84.3\" font-family=\"Times,serif\" font-size=\"14.00\">..</text>\n",
       "</g>\n",
       "<!-- ..&#45;&gt;node1 -->\n",
       "<g id=\"edge3\" class=\"edge\">\n",
       "<title>..&#45;&gt;node1</title>\n",
       "<path fill=\"none\" stroke=\"black\" d=\"M59.85,-102.57C79.56,-120.67 113.42,-151.78 136.61,-173.09\"/>\n",
       "<polygon fill=\"black\" stroke=\"black\" points=\"134.3,-175.72 144.03,-179.91 139.04,-170.57 134.3,-175.72\"/>\n",
       "</g>\n",
       "<!-- ..&#45;&gt;node2 -->\n",
       "<g id=\"edge7\" class=\"edge\">\n",
       "<title>..&#45;&gt;node2</title>\n",
       "<path fill=\"none\" stroke=\"black\" d=\"M65.56,-97.9C82.19,-105.54 105.58,-116.29 125.1,-125.26\"/>\n",
       "<polygon fill=\"black\" stroke=\"black\" points=\"123.78,-128.5 134.33,-129.5 126.7,-122.14 123.78,-128.5\"/>\n",
       "</g>\n",
       "<!-- ..&#45;&gt;... -->\n",
       "<g id=\"edge11\" class=\"edge\">\n",
       "<title>..&#45;&gt;...</title>\n",
       "<path fill=\"none\" stroke=\"black\" d=\"M70.09,-88C86.37,-88 107.56,-88 125.45,-88\"/>\n",
       "<polygon fill=\"black\" stroke=\"black\" points=\"125.53,-91.5 135.53,-88 125.53,-84.5 125.53,-91.5\"/>\n",
       "</g>\n",
       "<!-- ..&#45;&gt;node2304 -->\n",
       "<g id=\"edge15\" class=\"edge\">\n",
       "<title>..&#45;&gt;node2304</title>\n",
       "<path fill=\"none\" stroke=\"black\" d=\"M65.56,-78.1C80.87,-71.06 101.9,-61.4 120.37,-52.91\"/>\n",
       "<polygon fill=\"black\" stroke=\"black\" points=\"121.85,-56.09 129.48,-48.73 118.93,-49.73 121.85,-56.09\"/>\n",
       "</g>\n",
       "<!-- ??? -->\n",
       "<g id=\"node4\" class=\"node\">\n",
       "<title>???</title>\n",
       "<ellipse fill=\"none\" stroke=\"black\" cx=\"43\" cy=\"-34\" rx=\"27\" ry=\"18\"/>\n",
       "<text text-anchor=\"middle\" x=\"43\" y=\"-30.3\" font-family=\"Times,serif\" font-size=\"14.00\">???</text>\n",
       "</g>\n",
       "<!-- ???&#45;&gt;node1 -->\n",
       "<g id=\"edge4\" class=\"edge\">\n",
       "<title>???&#45;&gt;node1</title>\n",
       "<path fill=\"none\" stroke=\"black\" d=\"M55.7,-50.13C76.17,-78.34 118.62,-136.85 143.09,-170.56\"/>\n",
       "<polygon fill=\"black\" stroke=\"black\" points=\"140.48,-172.93 149.19,-178.97 146.15,-168.82 140.48,-172.93\"/>\n",
       "</g>\n",
       "<!-- ???&#45;&gt;node2 -->\n",
       "<g id=\"edge8\" class=\"edge\">\n",
       "<title>???&#45;&gt;node2</title>\n",
       "<path fill=\"none\" stroke=\"black\" d=\"M59.85,-48.57C79.56,-66.67 113.42,-97.78 136.61,-119.09\"/>\n",
       "<polygon fill=\"black\" stroke=\"black\" points=\"134.3,-121.72 144.03,-125.91 139.04,-116.57 134.3,-121.72\"/>\n",
       "</g>\n",
       "<!-- ???&#45;&gt;... -->\n",
       "<g id=\"edge12\" class=\"edge\">\n",
       "<title>???&#45;&gt;...</title>\n",
       "<path fill=\"none\" stroke=\"black\" d=\"M65.56,-43.9C83.75,-52.26 110.03,-64.34 130.49,-73.74\"/>\n",
       "<polygon fill=\"black\" stroke=\"black\" points=\"129.18,-76.98 139.72,-77.98 132.1,-70.62 129.18,-76.98\"/>\n",
       "</g>\n",
       "<!-- ???&#45;&gt;node2304 -->\n",
       "<g id=\"edge16\" class=\"edge\">\n",
       "<title>???&#45;&gt;node2304</title>\n",
       "<path fill=\"none\" stroke=\"black\" d=\"M70.09,-34C77.75,-34 86.51,-34 95.49,-34\"/>\n",
       "<polygon fill=\"black\" stroke=\"black\" points=\"95.69,-37.5 105.69,-34 95.69,-30.5 95.69,-37.5\"/>\n",
       "</g>\n",
       "<!-- y -->\n",
       "<g id=\"node9\" class=\"node\">\n",
       "<title>y</title>\n",
       "<ellipse fill=\"none\" stroke=\"black\" cx=\"309.09\" cy=\"-115\" rx=\"27\" ry=\"18\"/>\n",
       "<text text-anchor=\"middle\" x=\"309.09\" y=\"-111.3\" font-family=\"Times,serif\" font-size=\"14.00\">y</text>\n",
       "</g>\n",
       "<!-- node1&#45;&gt;y -->\n",
       "<g id=\"edge17\" class=\"edge\">\n",
       "<title>node1&#45;&gt;y</title>\n",
       "<path fill=\"none\" stroke=\"black\" d=\"M188.07,-182.26C213.14,-168.21 252.09,-146.38 278.78,-131.43\"/>\n",
       "<polygon fill=\"black\" stroke=\"black\" points=\"280.65,-134.39 287.66,-126.45 277.23,-128.28 280.65,-134.39\"/>\n",
       "</g>\n",
       "<!-- node2&#45;&gt;y -->\n",
       "<g id=\"edge18\" class=\"edge\">\n",
       "<title>node2&#45;&gt;y</title>\n",
       "<path fill=\"none\" stroke=\"black\" d=\"M198.9,-135.4C221.27,-131.22 250.09,-125.83 272.5,-121.65\"/>\n",
       "<polygon fill=\"black\" stroke=\"black\" points=\"273.43,-125.04 282.61,-119.76 272.14,-118.15 273.43,-125.04\"/>\n",
       "</g>\n",
       "<!-- ...&#45;&gt;y -->\n",
       "<g id=\"edge19\" class=\"edge\">\n",
       "<title>...&#45;&gt;y</title>\n",
       "<path fill=\"none\" stroke=\"black\" d=\"M188.72,-92.7C212,-97.05 246.83,-103.56 272.86,-108.42\"/>\n",
       "<polygon fill=\"black\" stroke=\"black\" points=\"272.24,-111.86 282.72,-110.26 273.53,-104.98 272.24,-111.86\"/>\n",
       "</g>\n",
       "<!-- node2304&#45;&gt;y -->\n",
       "<g id=\"edge20\" class=\"edge\">\n",
       "<title>node2304&#45;&gt;y</title>\n",
       "<path fill=\"none\" stroke=\"black\" d=\"M191.41,-49.62C216.55,-63.7 253.38,-84.34 278.91,-98.65\"/>\n",
       "<polygon fill=\"black\" stroke=\"black\" points=\"277.33,-101.77 287.76,-103.61 280.75,-95.67 277.33,-101.77\"/>\n",
       "</g>\n",
       "</g>\n",
       "</svg>\n"
      ],
      "text/plain": [
       "<graphviz.sources.Source at 0x7f90d57e4950>"
      ]
     },
     "execution_count": 7,
     "metadata": {},
     "output_type": "execute_result"
    }
   ],
   "source": [
    "#|code-fold: true\n",
    "gv('''\n",
    "splines=line\n",
    "subgraph cluster_1{\n",
    "    style=filled;\n",
    "    color=lightgrey;\n",
    "    \"?\"\n",
    "    \"??\"\n",
    "    \"..\"\n",
    "    \"???\"\n",
    "    label = \"Layer ?\"\n",
    "}\n",
    "subgraph cluster_2{\n",
    "    style=filled;\n",
    "    color=lightgrey;\n",
    "    \"?\" -> \"node1\"\n",
    "    \"??\" -> \"node1\"\n",
    "    \"..\" -> \"node1\"\n",
    "    \"???\" -> \"node1\"\n",
    "    \n",
    "    \"?\" -> \"node2\"\n",
    "    \"??\" -> \"node2\"\n",
    "    \"..\" -> \"node2\"\n",
    "    \"???\" -> \"node2\"\n",
    "    \n",
    "    \"?\" -> \"...\"\n",
    "    \"??\" -> \"...\"\n",
    "    \"..\" -> \"...\"\n",
    "    \"???\" -> \"...\"\n",
    "    \n",
    "    \"?\" -> \"node2304\"\n",
    "    \"??\" -> \"node2304\"\n",
    "    \"..\" -> \"node2304\"\n",
    "    \"???\" -> \"node2304\"\n",
    "\n",
    "    label = \"Layer: ReLU\"\n",
    "}\n",
    "subgraph cluster_3{\n",
    "    style=filled;\n",
    "    color=lightgrey;\n",
    "    \"node1\" -> \"y\"\n",
    "    \"node2\" -> \"y\"\n",
    "    \"...\" -> \"y\"\n",
    "    \"node2304\" -> \"y\"\n",
    "    label = \"Layer: Sigmoid\"\n",
    "}\n",
    "''')"
   ]
  },
  {
   "cell_type": "markdown",
   "id": "5c80b76d-116e-47a1-8dae-153fa518cc55",
   "metadata": {},
   "source": [
    "`-` 둘은 사실상 같은 효과를 주는 모형인데 학습할 파라메터는 sigmoid의 경우가 더 적다. $\\to$ sigmoid를 사용하는 모형이 비용은 싸고 효과는 동일하다는 말 $\\to$ 이진분류 한정해서는 softmax를 쓰지말고 sigmoid를 써야함. \n",
    "\n",
    "- softmax가 갑자기 너무 안좋아보이는데 sigmoid는 k개의 클래스로 확장이 불가능한 반면 softmax는 확장이 용이하다는 장점이 있음 "
   ]
  },
  {
   "cell_type": "markdown",
   "id": "d1b43f28-8ac1-406e-9e38-480b974b50c3",
   "metadata": {},
   "source": [
    "## 소프트맥스 vs 시그모이드 정리 "
   ]
  },
  {
   "cell_type": "markdown",
   "id": "7139e297-e9e2-49a0-860f-8cedc5d93090",
   "metadata": {},
   "source": [
    "`-` 결론 \n",
    "\n",
    "1. 소프트맥스는 시그모이드의 확장이다. \n",
    "2. 클래스의 수가 2개일 경우에는 (Sigmoid, BCEloss) 조합을 사용해야 하고 클래스의 수가 2개보다 클 경우에는 (Softmax, CrossEntropyLoss) 를 사용해야 한다. \n"
   ]
  },
  {
   "cell_type": "markdown",
   "id": "0bbde787-4d6c-43b8-ae65-2397bd216e31",
   "metadata": {},
   "source": [
    "`-` 그런데 사실.. 클래스의 수가 2개일 경우일때 (Softmax, CrossEntropyLoss)를 사용해도 그렇게 큰일나는것은 아니다. (흑백이미지를 칼라잉크로 출력하는 느낌) "
   ]
  },
  {
   "cell_type": "markdown",
   "id": "f41b18e8-3132-47d3-a787-6d4af743470b",
   "metadata": {},
   "source": [
    "***참고***\n",
    "\n",
    "|$y$|분포가정|마지막층의 활성화함수|손실함수|\n",
    "|:--:|:--:|:--:|:--:|\n",
    "|3.45, 4.43, ... (연속형) |정규분포|None (or Identity)|MSE|\n",
    "|0 or 1|이항분포 with $n=1$ (=베르누이) |Sigmoid| BCE|\n",
    "|[0,0,1], [0,1,0], [1,0,0]| 다항분포 with $n=1$|Softmax| Cross Entropy |"
   ]
  },
  {
   "cell_type": "markdown",
   "id": "75d2a7e9-0af0-4bf5-bfa0-a534503497b1",
   "metadata": {},
   "source": [
    "# fastai metric 사용 "
   ]
  },
  {
   "cell_type": "markdown",
   "id": "3ad16bba-9a9d-419f-a94f-d5d3ed39735b",
   "metadata": {},
   "source": [
    "## 데이터준비"
   ]
  },
  {
   "cell_type": "markdown",
   "id": "003e6427-1179-4f7b-8f63-efcfa292b66c",
   "metadata": {},
   "source": [
    "`-` download data "
   ]
  },
  {
   "cell_type": "code",
   "execution_count": 244,
   "id": "9149dbbb-84ee-41c1-bc95-c194873ff0cc",
   "metadata": {},
   "outputs": [],
   "source": [
    "path = untar_data(URLs.MNIST)"
   ]
  },
  {
   "cell_type": "markdown",
   "id": "8e1617de-3e7c-47f0-991c-49acbfb9a0a4",
   "metadata": {},
   "source": [
    "`-` training set "
   ]
  },
  {
   "cell_type": "code",
   "execution_count": 245,
   "id": "bf21c291-cc90-4fad-adaf-907c29c7162c",
   "metadata": {},
   "outputs": [],
   "source": [
    "X0 = torch.stack([torchvision.io.read_image(str(fname)) for fname in (path/'training/0').ls()])\n",
    "X1 = torch.stack([torchvision.io.read_image(str(fname)) for fname in (path/'training/1').ls()])\n",
    "X = torch.concat([X0,X1])/255\n",
    "y = torch.tensor([0.0]*len(X0) + [1.0]*len(X1)).reshape(-1,1)"
   ]
  },
  {
   "cell_type": "markdown",
   "id": "faad1b20-9853-4754-9ea8-53eb3896ffa9",
   "metadata": {},
   "source": [
    "`-` test set "
   ]
  },
  {
   "cell_type": "code",
   "execution_count": 246,
   "id": "d1e57ed8-d3e1-4a4d-89d0-9028cf5c0346",
   "metadata": {},
   "outputs": [],
   "source": [
    "X0 = torch.stack([torchvision.io.read_image(str(fname)) for fname in (path/'testing/0').ls()])\n",
    "X1 = torch.stack([torchvision.io.read_image(str(fname)) for fname in (path/'testing/1').ls()])\n",
    "XX = torch.concat([X0,X1])/255\n",
    "yy = torch.tensor([0.0]*len(X0) + [1.0]*len(X1)).reshape(-1,1)"
   ]
  },
  {
   "cell_type": "code",
   "execution_count": 247,
   "id": "2767367b-4861-41de-a4d6-e08b728e47cf",
   "metadata": {},
   "outputs": [
    {
     "data": {
      "text/plain": [
       "(torch.Size([12665, 1, 28, 28]),\n",
       " torch.Size([2115, 1, 28, 28]),\n",
       " torch.Size([12665, 1]),\n",
       " torch.Size([2115, 1]))"
      ]
     },
     "execution_count": 247,
     "metadata": {},
     "output_type": "execute_result"
    }
   ],
   "source": [
    "X.shape,XX.shape,y.shape,yy.shape"
   ]
  },
  {
   "cell_type": "markdown",
   "id": "a10343b1-ee38-4eff-889d-333c8c4cffa2",
   "metadata": {},
   "source": [
    "## 사용자정의 메트릭이용 "
   ]
  },
  {
   "cell_type": "markdown",
   "id": "9b4cca54-bdc1-41d2-9de8-00b59d7fa061",
   "metadata": {},
   "source": [
    "`(1)` dls 만들기"
   ]
  },
  {
   "cell_type": "code",
   "execution_count": 248,
   "id": "bfe0f20d-8980-4937-99bc-47ae571548e9",
   "metadata": {},
   "outputs": [],
   "source": [
    "ds1 = torch.utils.data.TensorDataset(X,y)\n",
    "ds2 = torch.utils.data.TensorDataset(XX,yy)\n",
    "dl1 = torch.utils.data.DataLoader(ds1,batch_size=1266) \n",
    "dl2 = torch.utils.data.DataLoader(ds2,batch_size=2115) \n",
    "dls = DataLoaders(dl1,dl2) "
   ]
  },
  {
   "cell_type": "markdown",
   "id": "655352a9-9086-47c5-afab-0c674dc87282",
   "metadata": {},
   "source": [
    "`(2)` lrnr 생성 "
   ]
  },
  {
   "cell_type": "code",
   "execution_count": 249,
   "id": "b309d1a1-6aa5-47a1-beee-d03e3d1d3134",
   "metadata": {},
   "outputs": [],
   "source": [
    "net = torch.nn.Sequential(\n",
    "    torch.nn.Conv2d(1,16,(5,5)),\n",
    "    torch.nn.ReLU(),\n",
    "    torch.nn.MaxPool2d((2,2)),\n",
    "    torch.nn.Flatten(),\n",
    "    torch.nn.Linear(2304,1),\n",
    "    torch.nn.Sigmoid()\n",
    ")\n",
    "loss_fn = torch.nn.BCELoss() "
   ]
  },
  {
   "cell_type": "code",
   "execution_count": 257,
   "id": "54709edc-2ba4-4a47-a441-05923bdc439f",
   "metadata": {},
   "outputs": [],
   "source": [
    "def acc(yhat,y) : \n",
    "    return ((yhat>0.5)==y).float().mean()"
   ]
  },
  {
   "cell_type": "code",
   "execution_count": 258,
   "id": "12b7f206-7ee7-4b44-9e39-41ffb0e1c584",
   "metadata": {},
   "outputs": [],
   "source": [
    "def err(yhat,y):\n",
    "    return 1-((yhat>0.5)==y).float().mean()"
   ]
  },
  {
   "cell_type": "code",
   "execution_count": 259,
   "id": "9cbbfc1a-6c88-4e2f-b564-c00307743872",
   "metadata": {},
   "outputs": [],
   "source": [
    "lrnr = Learner(dls,net,loss_fn,metrics=[acc,err])"
   ]
  },
  {
   "cell_type": "markdown",
   "id": "0b1bda94-d8bb-47cb-8ec4-42305fed5e7e",
   "metadata": {},
   "source": [
    "`(3)` 학습"
   ]
  },
  {
   "cell_type": "code",
   "execution_count": 260,
   "id": "0b6b130b-bdec-4d28-8ca1-fba498a3ad93",
   "metadata": {},
   "outputs": [
    {
     "data": {
      "text/html": [
       "\n",
       "<style>\n",
       "    /* Turns off some styling */\n",
       "    progress {\n",
       "        /* gets rid of default border in Firefox and Opera. */\n",
       "        border: none;\n",
       "        /* Needs to be in here for Safari polyfill so background images work as expected. */\n",
       "        background-size: auto;\n",
       "    }\n",
       "    progress:not([value]), progress:not([value])::-webkit-progress-bar {\n",
       "        background: repeating-linear-gradient(45deg, #7e7e7e, #7e7e7e 10px, #5c5c5c 10px, #5c5c5c 20px);\n",
       "    }\n",
       "    .progress-bar-interrupted, .progress-bar-interrupted::-webkit-progress-bar {\n",
       "        background: #F44336;\n",
       "    }\n",
       "</style>\n"
      ],
      "text/plain": [
       "<IPython.core.display.HTML object>"
      ]
     },
     "metadata": {},
     "output_type": "display_data"
    },
    {
     "data": {
      "text/html": [
       "<table border=\"1\" class=\"dataframe\">\n",
       "  <thead>\n",
       "    <tr style=\"text-align: left;\">\n",
       "      <th>epoch</th>\n",
       "      <th>train_loss</th>\n",
       "      <th>valid_loss</th>\n",
       "      <th>acc</th>\n",
       "      <th>err</th>\n",
       "      <th>time</th>\n",
       "    </tr>\n",
       "  </thead>\n",
       "  <tbody>\n",
       "    <tr>\n",
       "      <td>0</td>\n",
       "      <td>0.930635</td>\n",
       "      <td>0.633062</td>\n",
       "      <td>0.463357</td>\n",
       "      <td>0.536643</td>\n",
       "      <td>00:00</td>\n",
       "    </tr>\n",
       "    <tr>\n",
       "      <td>1</td>\n",
       "      <td>0.700525</td>\n",
       "      <td>0.435254</td>\n",
       "      <td>0.989125</td>\n",
       "      <td>0.010875</td>\n",
       "      <td>00:00</td>\n",
       "    </tr>\n",
       "    <tr>\n",
       "      <td>2</td>\n",
       "      <td>0.562099</td>\n",
       "      <td>0.293302</td>\n",
       "      <td>0.992435</td>\n",
       "      <td>0.007565</td>\n",
       "      <td>00:00</td>\n",
       "    </tr>\n",
       "    <tr>\n",
       "      <td>3</td>\n",
       "      <td>0.453646</td>\n",
       "      <td>0.169834</td>\n",
       "      <td>0.992908</td>\n",
       "      <td>0.007092</td>\n",
       "      <td>00:00</td>\n",
       "    </tr>\n",
       "    <tr>\n",
       "      <td>4</td>\n",
       "      <td>0.360984</td>\n",
       "      <td>0.098153</td>\n",
       "      <td>0.994326</td>\n",
       "      <td>0.005674</td>\n",
       "      <td>00:00</td>\n",
       "    </tr>\n",
       "    <tr>\n",
       "      <td>5</td>\n",
       "      <td>0.286862</td>\n",
       "      <td>0.062732</td>\n",
       "      <td>0.993853</td>\n",
       "      <td>0.006147</td>\n",
       "      <td>00:00</td>\n",
       "    </tr>\n",
       "    <tr>\n",
       "      <td>6</td>\n",
       "      <td>0.229778</td>\n",
       "      <td>0.044261</td>\n",
       "      <td>0.994799</td>\n",
       "      <td>0.005201</td>\n",
       "      <td>00:00</td>\n",
       "    </tr>\n",
       "    <tr>\n",
       "      <td>7</td>\n",
       "      <td>0.185838</td>\n",
       "      <td>0.032975</td>\n",
       "      <td>0.995745</td>\n",
       "      <td>0.004255</td>\n",
       "      <td>00:00</td>\n",
       "    </tr>\n",
       "    <tr>\n",
       "      <td>8</td>\n",
       "      <td>0.151484</td>\n",
       "      <td>0.025062</td>\n",
       "      <td>0.996217</td>\n",
       "      <td>0.003783</td>\n",
       "      <td>00:00</td>\n",
       "    </tr>\n",
       "    <tr>\n",
       "      <td>9</td>\n",
       "      <td>0.124157</td>\n",
       "      <td>0.019350</td>\n",
       "      <td>0.996690</td>\n",
       "      <td>0.003310</td>\n",
       "      <td>00:00</td>\n",
       "    </tr>\n",
       "  </tbody>\n",
       "</table>"
      ],
      "text/plain": [
       "<IPython.core.display.HTML object>"
      ]
     },
     "metadata": {},
     "output_type": "display_data"
    }
   ],
   "source": [
    "lrnr.fit(10)"
   ]
  },
  {
   "cell_type": "markdown",
   "id": "78a5c659-7d82-480c-aaae-8c3e46e4dd54",
   "metadata": {},
   "source": [
    "`(4)` 예측\n",
    "\n",
    "- 생략"
   ]
  },
  {
   "cell_type": "markdown",
   "id": "d1c72003-7ed5-45c0-9e54-f09b99a5b337",
   "metadata": {},
   "source": [
    "## fastai지원 메트릭이용-- 잘못된사용 "
   ]
  },
  {
   "cell_type": "markdown",
   "id": "0ad7ac2e-5b8b-4a63-bb0c-d6bc603fa2c4",
   "metadata": {},
   "source": [
    "`(1)` dls 만들기"
   ]
  },
  {
   "cell_type": "code",
   "execution_count": 263,
   "id": "d1d2cfe0-bca6-417b-82df-f110d7eac22e",
   "metadata": {},
   "outputs": [],
   "source": [
    "ds1 = torch.utils.data.TensorDataset(X,y)\n",
    "ds2 = torch.utils.data.TensorDataset(XX,yy)\n",
    "dl1 = torch.utils.data.DataLoader(ds1,batch_size=1266) \n",
    "dl2 = torch.utils.data.DataLoader(ds2,batch_size=2115) \n",
    "dls = DataLoaders(dl1,dl2) "
   ]
  },
  {
   "cell_type": "markdown",
   "id": "50730a6b-9edb-428f-bd27-598edce24fb6",
   "metadata": {},
   "source": [
    "`(2)` lrnr 생성 "
   ]
  },
  {
   "cell_type": "code",
   "execution_count": 264,
   "id": "f65b5074-dd5d-4043-a2c9-947f2a383aca",
   "metadata": {},
   "outputs": [],
   "source": [
    "net = torch.nn.Sequential(\n",
    "    torch.nn.Conv2d(1,16,(5,5)),\n",
    "    torch.nn.ReLU(),\n",
    "    torch.nn.MaxPool2d((2,2)),\n",
    "    torch.nn.Flatten(),\n",
    "    torch.nn.Linear(2304,1),\n",
    "    torch.nn.Sigmoid()\n",
    ")\n",
    "loss_fn = torch.nn.BCELoss()\n",
    "lrnr = Learner(dls,net,loss_fn,metrics=[accuracy,error_rate])"
   ]
  },
  {
   "cell_type": "code",
   "execution_count": 265,
   "id": "b2905aa8-d964-49f6-9ec4-65bb51715e45",
   "metadata": {},
   "outputs": [
    {
     "data": {
      "text/plain": [
       "\u001b[0;31mSignature:\u001b[0m \u001b[0maccuracy\u001b[0m\u001b[0;34m(\u001b[0m\u001b[0minp\u001b[0m\u001b[0;34m,\u001b[0m \u001b[0mtarg\u001b[0m\u001b[0;34m,\u001b[0m \u001b[0maxis\u001b[0m\u001b[0;34m=\u001b[0m\u001b[0;34m-\u001b[0m\u001b[0;36m1\u001b[0m\u001b[0;34m)\u001b[0m\u001b[0;34m\u001b[0m\u001b[0;34m\u001b[0m\u001b[0m\n",
       "\u001b[0;31mSource:\u001b[0m   \n",
       "\u001b[0;32mdef\u001b[0m \u001b[0maccuracy\u001b[0m\u001b[0;34m(\u001b[0m\u001b[0minp\u001b[0m\u001b[0;34m,\u001b[0m \u001b[0mtarg\u001b[0m\u001b[0;34m,\u001b[0m \u001b[0maxis\u001b[0m\u001b[0;34m=\u001b[0m\u001b[0;34m-\u001b[0m\u001b[0;36m1\u001b[0m\u001b[0;34m)\u001b[0m\u001b[0;34m:\u001b[0m\u001b[0;34m\u001b[0m\n",
       "\u001b[0;34m\u001b[0m    \u001b[0;34m\"Compute accuracy with `targ` when `pred` is bs * n_classes\"\u001b[0m\u001b[0;34m\u001b[0m\n",
       "\u001b[0;34m\u001b[0m    \u001b[0mpred\u001b[0m\u001b[0;34m,\u001b[0m\u001b[0mtarg\u001b[0m \u001b[0;34m=\u001b[0m \u001b[0mflatten_check\u001b[0m\u001b[0;34m(\u001b[0m\u001b[0minp\u001b[0m\u001b[0;34m.\u001b[0m\u001b[0margmax\u001b[0m\u001b[0;34m(\u001b[0m\u001b[0mdim\u001b[0m\u001b[0;34m=\u001b[0m\u001b[0maxis\u001b[0m\u001b[0;34m)\u001b[0m\u001b[0;34m,\u001b[0m \u001b[0mtarg\u001b[0m\u001b[0;34m)\u001b[0m\u001b[0;34m\u001b[0m\n",
       "\u001b[0;34m\u001b[0m    \u001b[0;32mreturn\u001b[0m \u001b[0;34m(\u001b[0m\u001b[0mpred\u001b[0m \u001b[0;34m==\u001b[0m \u001b[0mtarg\u001b[0m\u001b[0;34m)\u001b[0m\u001b[0;34m.\u001b[0m\u001b[0mfloat\u001b[0m\u001b[0;34m(\u001b[0m\u001b[0;34m)\u001b[0m\u001b[0;34m.\u001b[0m\u001b[0mmean\u001b[0m\u001b[0;34m(\u001b[0m\u001b[0;34m)\u001b[0m\u001b[0;34m\u001b[0m\u001b[0;34m\u001b[0m\u001b[0m\n",
       "\u001b[0;31mFile:\u001b[0m      ~/anaconda3/envs/py37/lib/python3.7/site-packages/fastai/metrics.py\n",
       "\u001b[0;31mType:\u001b[0m      function\n"
      ]
     },
     "metadata": {},
     "output_type": "display_data"
    }
   ],
   "source": [
    "accuracy??"
   ]
  },
  {
   "cell_type": "code",
   "execution_count": 266,
   "id": "486b648a-705b-4db8-9a40-916acb4830cb",
   "metadata": {},
   "outputs": [
    {
     "data": {
      "text/plain": [
       "\u001b[0;31mSignature:\u001b[0m \u001b[0merror_rate\u001b[0m\u001b[0;34m(\u001b[0m\u001b[0minp\u001b[0m\u001b[0;34m,\u001b[0m \u001b[0mtarg\u001b[0m\u001b[0;34m,\u001b[0m \u001b[0maxis\u001b[0m\u001b[0;34m=\u001b[0m\u001b[0;34m-\u001b[0m\u001b[0;36m1\u001b[0m\u001b[0;34m)\u001b[0m\u001b[0;34m\u001b[0m\u001b[0;34m\u001b[0m\u001b[0m\n",
       "\u001b[0;31mSource:\u001b[0m   \n",
       "\u001b[0;32mdef\u001b[0m \u001b[0merror_rate\u001b[0m\u001b[0;34m(\u001b[0m\u001b[0minp\u001b[0m\u001b[0;34m,\u001b[0m \u001b[0mtarg\u001b[0m\u001b[0;34m,\u001b[0m \u001b[0maxis\u001b[0m\u001b[0;34m=\u001b[0m\u001b[0;34m-\u001b[0m\u001b[0;36m1\u001b[0m\u001b[0;34m)\u001b[0m\u001b[0;34m:\u001b[0m\u001b[0;34m\u001b[0m\n",
       "\u001b[0;34m\u001b[0m    \u001b[0;34m\"1 - `accuracy`\"\u001b[0m\u001b[0;34m\u001b[0m\n",
       "\u001b[0;34m\u001b[0m    \u001b[0;32mreturn\u001b[0m \u001b[0;36m1\u001b[0m \u001b[0;34m-\u001b[0m \u001b[0maccuracy\u001b[0m\u001b[0;34m(\u001b[0m\u001b[0minp\u001b[0m\u001b[0;34m,\u001b[0m \u001b[0mtarg\u001b[0m\u001b[0;34m,\u001b[0m \u001b[0maxis\u001b[0m\u001b[0;34m=\u001b[0m\u001b[0maxis\u001b[0m\u001b[0;34m)\u001b[0m\u001b[0;34m\u001b[0m\u001b[0;34m\u001b[0m\u001b[0m\n",
       "\u001b[0;31mFile:\u001b[0m      ~/anaconda3/envs/py37/lib/python3.7/site-packages/fastai/metrics.py\n",
       "\u001b[0;31mType:\u001b[0m      function\n"
      ]
     },
     "metadata": {},
     "output_type": "display_data"
    }
   ],
   "source": [
    "error_rate??"
   ]
  },
  {
   "cell_type": "markdown",
   "id": "bc2302ca-c7d7-4295-ab6d-4221adf06c4c",
   "metadata": {},
   "source": [
    "`(3)` 학습"
   ]
  },
  {
   "cell_type": "code",
   "execution_count": 267,
   "id": "942bef4d-3e70-4f97-989e-7e832d626137",
   "metadata": {},
   "outputs": [
    {
     "data": {
      "text/html": [
       "\n",
       "<style>\n",
       "    /* Turns off some styling */\n",
       "    progress {\n",
       "        /* gets rid of default border in Firefox and Opera. */\n",
       "        border: none;\n",
       "        /* Needs to be in here for Safari polyfill so background images work as expected. */\n",
       "        background-size: auto;\n",
       "    }\n",
       "    progress:not([value]), progress:not([value])::-webkit-progress-bar {\n",
       "        background: repeating-linear-gradient(45deg, #7e7e7e, #7e7e7e 10px, #5c5c5c 10px, #5c5c5c 20px);\n",
       "    }\n",
       "    .progress-bar-interrupted, .progress-bar-interrupted::-webkit-progress-bar {\n",
       "        background: #F44336;\n",
       "    }\n",
       "</style>\n"
      ],
      "text/plain": [
       "<IPython.core.display.HTML object>"
      ]
     },
     "metadata": {},
     "output_type": "display_data"
    },
    {
     "data": {
      "text/html": [
       "<table border=\"1\" class=\"dataframe\">\n",
       "  <thead>\n",
       "    <tr style=\"text-align: left;\">\n",
       "      <th>epoch</th>\n",
       "      <th>train_loss</th>\n",
       "      <th>valid_loss</th>\n",
       "      <th>accuracy</th>\n",
       "      <th>error_rate</th>\n",
       "      <th>time</th>\n",
       "    </tr>\n",
       "  </thead>\n",
       "  <tbody>\n",
       "    <tr>\n",
       "      <td>0</td>\n",
       "      <td>0.958819</td>\n",
       "      <td>0.638672</td>\n",
       "      <td>0.463357</td>\n",
       "      <td>0.536643</td>\n",
       "      <td>00:00</td>\n",
       "    </tr>\n",
       "    <tr>\n",
       "      <td>1</td>\n",
       "      <td>0.698769</td>\n",
       "      <td>0.425380</td>\n",
       "      <td>0.463357</td>\n",
       "      <td>0.536643</td>\n",
       "      <td>00:00</td>\n",
       "    </tr>\n",
       "    <tr>\n",
       "      <td>2</td>\n",
       "      <td>0.556408</td>\n",
       "      <td>0.278437</td>\n",
       "      <td>0.463357</td>\n",
       "      <td>0.536643</td>\n",
       "      <td>00:00</td>\n",
       "    </tr>\n",
       "    <tr>\n",
       "      <td>3</td>\n",
       "      <td>0.447104</td>\n",
       "      <td>0.153257</td>\n",
       "      <td>0.463357</td>\n",
       "      <td>0.536643</td>\n",
       "      <td>00:00</td>\n",
       "    </tr>\n",
       "    <tr>\n",
       "      <td>4</td>\n",
       "      <td>0.352915</td>\n",
       "      <td>0.088516</td>\n",
       "      <td>0.463357</td>\n",
       "      <td>0.536643</td>\n",
       "      <td>00:00</td>\n",
       "    </tr>\n",
       "    <tr>\n",
       "      <td>5</td>\n",
       "      <td>0.278620</td>\n",
       "      <td>0.056958</td>\n",
       "      <td>0.463357</td>\n",
       "      <td>0.536643</td>\n",
       "      <td>00:00</td>\n",
       "    </tr>\n",
       "    <tr>\n",
       "      <td>6</td>\n",
       "      <td>0.221951</td>\n",
       "      <td>0.040489</td>\n",
       "      <td>0.463357</td>\n",
       "      <td>0.536643</td>\n",
       "      <td>00:00</td>\n",
       "    </tr>\n",
       "    <tr>\n",
       "      <td>7</td>\n",
       "      <td>0.178791</td>\n",
       "      <td>0.030974</td>\n",
       "      <td>0.463357</td>\n",
       "      <td>0.536643</td>\n",
       "      <td>00:00</td>\n",
       "    </tr>\n",
       "    <tr>\n",
       "      <td>8</td>\n",
       "      <td>0.145480</td>\n",
       "      <td>0.024886</td>\n",
       "      <td>0.463357</td>\n",
       "      <td>0.536643</td>\n",
       "      <td>00:00</td>\n",
       "    </tr>\n",
       "    <tr>\n",
       "      <td>9</td>\n",
       "      <td>0.119392</td>\n",
       "      <td>0.020659</td>\n",
       "      <td>0.463357</td>\n",
       "      <td>0.536643</td>\n",
       "      <td>00:00</td>\n",
       "    </tr>\n",
       "  </tbody>\n",
       "</table>"
      ],
      "text/plain": [
       "<IPython.core.display.HTML object>"
      ]
     },
     "metadata": {},
     "output_type": "display_data"
    }
   ],
   "source": [
    "lrnr.fit(10)"
   ]
  },
  {
   "cell_type": "markdown",
   "id": "c09200b8-d082-4158-b495-55a8ac5303ea",
   "metadata": {},
   "source": [
    "- 이상하다..? "
   ]
  },
  {
   "cell_type": "markdown",
   "id": "0c6d2497-6f07-4504-b6f9-1e8488cb258a",
   "metadata": {},
   "source": [
    "`(4)` 예측 "
   ]
  },
  {
   "cell_type": "code",
   "execution_count": 268,
   "id": "a072dbca-449b-4d58-905a-f9475befa5e4",
   "metadata": {},
   "outputs": [
    {
     "data": {
      "text/plain": [
       "Sequential(\n",
       "  (0): Conv2d(1, 16, kernel_size=(5, 5), stride=(1, 1))\n",
       "  (1): ReLU()\n",
       "  (2): MaxPool2d(kernel_size=(2, 2), stride=(2, 2), padding=0, dilation=1, ceil_mode=False)\n",
       "  (3): Flatten(start_dim=1, end_dim=-1)\n",
       "  (4): Linear(in_features=2304, out_features=1, bias=True)\n",
       "  (5): Sigmoid()\n",
       ")"
      ]
     },
     "execution_count": 268,
     "metadata": {},
     "output_type": "execute_result"
    }
   ],
   "source": [
    "lrnr.model.to(\"cpu\")"
   ]
  },
  {
   "cell_type": "code",
   "execution_count": 269,
   "id": "dd9f238c-186e-4dc6-9c95-8700f86b07ba",
   "metadata": {},
   "outputs": [
    {
     "data": {
      "text/plain": [
       "[<matplotlib.lines.Line2D at 0x7fd1ecea95d0>]"
      ]
     },
     "execution_count": 269,
     "metadata": {},
     "output_type": "execute_result"
    },
    {
     "data": {
      "image/png": "[encoded data removed]",
      "text/plain": [
       "<Figure size 432x288 with 1 Axes>"
      ]
     },
     "metadata": {
      "needs_background": "light"
     },
     "output_type": "display_data"
    }
   ],
   "source": [
    "plt.plot(yy)\n",
    "plt.plot(lrnr.model(XX).data,'.')"
   ]
  },
  {
   "cell_type": "markdown",
   "id": "2d649ddc-fee0-44b2-926b-fa1b8bdf3e31",
   "metadata": {},
   "source": [
    "- 맞추는건 잘 맞추는데? "
   ]
  },
  {
   "cell_type": "markdown",
   "id": "ecf08808-7565-4051-be53-9db1774196dd",
   "metadata": {},
   "source": [
    "## fastai지원 메트릭이용-- 올바른 사용(1)"
   ]
  },
  {
   "cell_type": "markdown",
   "id": "45b1ce1f-e91d-4ca3-bee1-fd4c85f884fa",
   "metadata": {},
   "source": [
    "`-` 가정\n",
    "\n",
    "- X의 형태는 (n,채널,픽셀,픽셀)로 가정한다. \n",
    "- y의 형태는 (n,) 벡터이다. 즉 $n\\times 1$ 이 아니라 그냥 길이가 $n$인 벡터로 가정한다. \n",
    "- y의 각 원소는 0,1,2,3,... 와 같이 카테고리를 의미하는 숫자이어야 하며 이 숫자는 int형으로 저장되어야 한다. \n",
    "- loss function은 CrossEntropyLoss()를 쓴다고 가정한다. (따라서 네트워크의 최종레이어는 torch.nn.Linear(?,클래스의수) 꼴이 되어야 한다.)"
   ]
  },
  {
   "cell_type": "markdown",
   "id": "41b93e0e-5626-4448-83a4-e14f73c8fcda",
   "metadata": {},
   "source": [
    "`(1)` dls 만들기"
   ]
  },
  {
   "cell_type": "code",
   "execution_count": 273,
   "id": "2068e939-357c-40ea-b97e-d68acff113d3",
   "metadata": {},
   "outputs": [
    {
     "data": {
      "text/plain": [
       "(tensor([0, 0, 0,  ..., 1, 1, 1]), tensor([0, 0, 0,  ..., 1, 1, 1]))"
      ]
     },
     "execution_count": 273,
     "metadata": {},
     "output_type": "execute_result"
    }
   ],
   "source": [
    "y.to(torch.int64).reshape(-1),yy.to(torch.int64).reshape(-1)"
   ]
  },
  {
   "cell_type": "code",
   "execution_count": 275,
   "id": "b7c30bee-ed7e-471c-be52-2ee8004a74d5",
   "metadata": {},
   "outputs": [],
   "source": [
    "ds1 = torch.utils.data.TensorDataset(X,y.to(torch.int64).reshape(-1))\n",
    "ds2 = torch.utils.data.TensorDataset(XX,yy.to(torch.int64).reshape(-1))\n",
    "dl1 = torch.utils.data.DataLoader(ds1,batch_size=1266) \n",
    "dl2 = torch.utils.data.DataLoader(ds2,batch_size=2115) \n",
    "dls = DataLoaders(dl1,dl2) "
   ]
  },
  {
   "cell_type": "markdown",
   "id": "5d35d772-656d-4068-9d65-a7af8889c71f",
   "metadata": {},
   "source": [
    "`(2)` lrnr 생성 "
   ]
  },
  {
   "cell_type": "code",
   "execution_count": 277,
   "id": "f6d910a3-c6be-4e02-af68-8e9b0f0c1d23",
   "metadata": {},
   "outputs": [],
   "source": [
    "net = torch.nn.Sequential(\n",
    "    torch.nn.Conv2d(1,16,(5,5)),\n",
    "    torch.nn.ReLU(),\n",
    "    torch.nn.MaxPool2d((2,2)),\n",
    "    torch.nn.Flatten(),\n",
    "    torch.nn.Linear(2304,2),\n",
    ")\n",
    "loss_fn = torch.nn.CrossEntropyLoss()\n",
    "lrnr = Learner(dls,net,loss_fn,metrics=[accuracy,error_rate])"
   ]
  },
  {
   "cell_type": "markdown",
   "id": "6af51242-ee1e-4090-b61b-6d109ab2b532",
   "metadata": {},
   "source": [
    "`(3)` 학습"
   ]
  },
  {
   "cell_type": "code",
   "execution_count": 278,
   "id": "6e1258a1-ad26-470a-b5c1-42cdeea76d69",
   "metadata": {},
   "outputs": [
    {
     "data": {
      "text/html": [
       "\n",
       "<style>\n",
       "    /* Turns off some styling */\n",
       "    progress {\n",
       "        /* gets rid of default border in Firefox and Opera. */\n",
       "        border: none;\n",
       "        /* Needs to be in here for Safari polyfill so background images work as expected. */\n",
       "        background-size: auto;\n",
       "    }\n",
       "    progress:not([value]), progress:not([value])::-webkit-progress-bar {\n",
       "        background: repeating-linear-gradient(45deg, #7e7e7e, #7e7e7e 10px, #5c5c5c 10px, #5c5c5c 20px);\n",
       "    }\n",
       "    .progress-bar-interrupted, .progress-bar-interrupted::-webkit-progress-bar {\n",
       "        background: #F44336;\n",
       "    }\n",
       "</style>\n"
      ],
      "text/plain": [
       "<IPython.core.display.HTML object>"
      ]
     },
     "metadata": {},
     "output_type": "display_data"
    },
    {
     "data": {
      "text/html": [
       "<table border=\"1\" class=\"dataframe\">\n",
       "  <thead>\n",
       "    <tr style=\"text-align: left;\">\n",
       "      <th>epoch</th>\n",
       "      <th>train_loss</th>\n",
       "      <th>valid_loss</th>\n",
       "      <th>accuracy</th>\n",
       "      <th>error_rate</th>\n",
       "      <th>time</th>\n",
       "    </tr>\n",
       "  </thead>\n",
       "  <tbody>\n",
       "    <tr>\n",
       "      <td>0</td>\n",
       "      <td>1.083689</td>\n",
       "      <td>0.592268</td>\n",
       "      <td>0.463357</td>\n",
       "      <td>0.536643</td>\n",
       "      <td>00:00</td>\n",
       "    </tr>\n",
       "    <tr>\n",
       "      <td>1</td>\n",
       "      <td>0.674220</td>\n",
       "      <td>0.340684</td>\n",
       "      <td>0.963593</td>\n",
       "      <td>0.036407</td>\n",
       "      <td>00:00</td>\n",
       "    </tr>\n",
       "    <tr>\n",
       "      <td>2</td>\n",
       "      <td>0.510727</td>\n",
       "      <td>0.152380</td>\n",
       "      <td>0.991489</td>\n",
       "      <td>0.008511</td>\n",
       "      <td>00:00</td>\n",
       "    </tr>\n",
       "    <tr>\n",
       "      <td>3</td>\n",
       "      <td>0.380071</td>\n",
       "      <td>0.069530</td>\n",
       "      <td>0.997163</td>\n",
       "      <td>0.002837</td>\n",
       "      <td>00:00</td>\n",
       "    </tr>\n",
       "    <tr>\n",
       "      <td>4</td>\n",
       "      <td>0.284898</td>\n",
       "      <td>0.038776</td>\n",
       "      <td>0.997163</td>\n",
       "      <td>0.002837</td>\n",
       "      <td>00:00</td>\n",
       "    </tr>\n",
       "    <tr>\n",
       "      <td>5</td>\n",
       "      <td>0.217856</td>\n",
       "      <td>0.025257</td>\n",
       "      <td>0.997163</td>\n",
       "      <td>0.002837</td>\n",
       "      <td>00:00</td>\n",
       "    </tr>\n",
       "    <tr>\n",
       "      <td>6</td>\n",
       "      <td>0.169902</td>\n",
       "      <td>0.018588</td>\n",
       "      <td>0.997163</td>\n",
       "      <td>0.002837</td>\n",
       "      <td>00:00</td>\n",
       "    </tr>\n",
       "    <tr>\n",
       "      <td>7</td>\n",
       "      <td>0.134621</td>\n",
       "      <td>0.014637</td>\n",
       "      <td>0.998582</td>\n",
       "      <td>0.001418</td>\n",
       "      <td>00:00</td>\n",
       "    </tr>\n",
       "    <tr>\n",
       "      <td>8</td>\n",
       "      <td>0.107967</td>\n",
       "      <td>0.012024</td>\n",
       "      <td>0.998582</td>\n",
       "      <td>0.001418</td>\n",
       "      <td>00:00</td>\n",
       "    </tr>\n",
       "    <tr>\n",
       "      <td>9</td>\n",
       "      <td>0.087427</td>\n",
       "      <td>0.010147</td>\n",
       "      <td>0.998582</td>\n",
       "      <td>0.001418</td>\n",
       "      <td>00:00</td>\n",
       "    </tr>\n",
       "  </tbody>\n",
       "</table>"
      ],
      "text/plain": [
       "<IPython.core.display.HTML object>"
      ]
     },
     "metadata": {},
     "output_type": "display_data"
    }
   ],
   "source": [
    "lrnr.fit(10)"
   ]
  },
  {
   "cell_type": "markdown",
   "id": "262a3fc3-406f-4ca8-a29c-7f73f72bd15c",
   "metadata": {},
   "source": [
    "## fastai지원 메트릭이용-- 올바른 사용(2)"
   ]
  },
  {
   "cell_type": "markdown",
   "id": "d8a47b09-2769-49c1-b161-d351e4408f29",
   "metadata": {},
   "source": [
    "`-` 가정 \n",
    "\n",
    "- X의 형태는 (n,채널,픽셀,픽셀)로 가정한다. \n",
    "- y의 형태는 (n,클래스의수)로 가정한다. 즉 y가 one_hot 인코딩된 형태로 가정한다. \n",
    "- y의 각 원소는 0 혹은 1이다. \n",
    "- loss function은 CrossEntropyLoss()를 쓴다고 가정한다. (따라서 네트워크의 최종레이어는 torch.nn.Linear(?,클래스의수) 꼴이 되어야 한다.)"
   ]
  },
  {
   "cell_type": "markdown",
   "id": "cb242dc6-12a1-49ce-8248-db4bf1667a0a",
   "metadata": {},
   "source": [
    "`(1)` dls 만들기"
   ]
  },
  {
   "cell_type": "code",
   "execution_count": 281,
   "id": "f83ce93e-96b6-4037-9c88-ceef3cc0350d",
   "metadata": {},
   "outputs": [],
   "source": [
    "y_onehot = torch.tensor(list(map(lambda x: [1.0,0.0] if x==0 else [0.0,1.0], y)))\n",
    "yy_onehot = torch.tensor(list(map(lambda x: [1.0,0.0] if x==0 else [0.0,1.0], yy)))\n",
    "# y_onehot = torch.nn.functional.one_hot(y.reshape(-1).to(torch.int64)).to(torch.float32)\n",
    "# yy_onehot = torch.nn.functional.one_hot(yy.reshape(-1).to(torch.int64)).to(torch.float32)"
   ]
  },
  {
   "cell_type": "code",
   "execution_count": 294,
   "id": "bef13ba4-6a21-40de-80fa-a6da21be160f",
   "metadata": {},
   "outputs": [],
   "source": [
    "ds1 = torch.utils.data.TensorDataset(X,y_onehot)\n",
    "ds2 = torch.utils.data.TensorDataset(XX,yy_onehot)\n",
    "dl1 = torch.utils.data.DataLoader(ds1,batch_size=1266) \n",
    "dl2 = torch.utils.data.DataLoader(ds2,batch_size=2115) \n",
    "dls = DataLoaders(dl1,dl2) "
   ]
  },
  {
   "cell_type": "markdown",
   "id": "3aa987f5-c1f0-414a-b75a-6ea38d8ce38c",
   "metadata": {},
   "source": [
    "`(2)` lrnr 생성 "
   ]
  },
  {
   "cell_type": "code",
   "execution_count": 301,
   "id": "cbf958b9-93e6-482a-ab02-4744e5b36985",
   "metadata": {},
   "outputs": [],
   "source": [
    "net = torch.nn.Sequential(\n",
    "    torch.nn.Conv2d(1,16,(5,5)),\n",
    "    torch.nn.ReLU(),\n",
    "    torch.nn.MaxPool2d((2,2)),\n",
    "    torch.nn.Flatten(),\n",
    "    torch.nn.Linear(2304,2),\n",
    "    #torch.nn.Softmax()\n",
    ")\n",
    "loss_fn = torch.nn.CrossEntropyLoss() \n",
    "lrnr = Learner(dls,net,loss_fn,metrics=[accuracy_multi])"
   ]
  },
  {
   "cell_type": "markdown",
   "id": "744733d6-81dd-4b66-b0f8-1e8227d90d58",
   "metadata": {},
   "source": [
    "`(3)` 학습"
   ]
  },
  {
   "cell_type": "code",
   "execution_count": 303,
   "id": "56cc9b09-4374-434f-8e8e-7d48e19821ae",
   "metadata": {},
   "outputs": [
    {
     "data": {
      "text/html": [
       "\n",
       "<style>\n",
       "    /* Turns off some styling */\n",
       "    progress {\n",
       "        /* gets rid of default border in Firefox and Opera. */\n",
       "        border: none;\n",
       "        /* Needs to be in here for Safari polyfill so background images work as expected. */\n",
       "        background-size: auto;\n",
       "    }\n",
       "    progress:not([value]), progress:not([value])::-webkit-progress-bar {\n",
       "        background: repeating-linear-gradient(45deg, #7e7e7e, #7e7e7e 10px, #5c5c5c 10px, #5c5c5c 20px);\n",
       "    }\n",
       "    .progress-bar-interrupted, .progress-bar-interrupted::-webkit-progress-bar {\n",
       "        background: #F44336;\n",
       "    }\n",
       "</style>\n"
      ],
      "text/plain": [
       "<IPython.core.display.HTML object>"
      ]
     },
     "metadata": {},
     "output_type": "display_data"
    },
    {
     "data": {
      "text/html": [
       "<table border=\"1\" class=\"dataframe\">\n",
       "  <thead>\n",
       "    <tr style=\"text-align: left;\">\n",
       "      <th>epoch</th>\n",
       "      <th>train_loss</th>\n",
       "      <th>valid_loss</th>\n",
       "      <th>accuracy_multi</th>\n",
       "      <th>time</th>\n",
       "    </tr>\n",
       "  </thead>\n",
       "  <tbody>\n",
       "    <tr>\n",
       "      <td>0</td>\n",
       "      <td>1.073728</td>\n",
       "      <td>0.608127</td>\n",
       "      <td>0.463357</td>\n",
       "      <td>00:00</td>\n",
       "    </tr>\n",
       "    <tr>\n",
       "      <td>1</td>\n",
       "      <td>0.683059</td>\n",
       "      <td>0.328684</td>\n",
       "      <td>0.982979</td>\n",
       "      <td>00:00</td>\n",
       "    </tr>\n",
       "    <tr>\n",
       "      <td>2</td>\n",
       "      <td>0.508058</td>\n",
       "      <td>0.156030</td>\n",
       "      <td>0.990780</td>\n",
       "      <td>00:00</td>\n",
       "    </tr>\n",
       "    <tr>\n",
       "      <td>3</td>\n",
       "      <td>0.378242</td>\n",
       "      <td>0.071232</td>\n",
       "      <td>0.995272</td>\n",
       "      <td>00:00</td>\n",
       "    </tr>\n",
       "    <tr>\n",
       "      <td>4</td>\n",
       "      <td>0.284064</td>\n",
       "      <td>0.041114</td>\n",
       "      <td>0.995981</td>\n",
       "      <td>00:00</td>\n",
       "    </tr>\n",
       "    <tr>\n",
       "      <td>5</td>\n",
       "      <td>0.217714</td>\n",
       "      <td>0.027780</td>\n",
       "      <td>0.996217</td>\n",
       "      <td>00:00</td>\n",
       "    </tr>\n",
       "    <tr>\n",
       "      <td>6</td>\n",
       "      <td>0.170183</td>\n",
       "      <td>0.021023</td>\n",
       "      <td>0.995981</td>\n",
       "      <td>00:00</td>\n",
       "    </tr>\n",
       "    <tr>\n",
       "      <td>7</td>\n",
       "      <td>0.135240</td>\n",
       "      <td>0.016962</td>\n",
       "      <td>0.996927</td>\n",
       "      <td>00:00</td>\n",
       "    </tr>\n",
       "    <tr>\n",
       "      <td>8</td>\n",
       "      <td>0.108881</td>\n",
       "      <td>0.014204</td>\n",
       "      <td>0.997400</td>\n",
       "      <td>00:00</td>\n",
       "    </tr>\n",
       "    <tr>\n",
       "      <td>9</td>\n",
       "      <td>0.088585</td>\n",
       "      <td>0.012181</td>\n",
       "      <td>0.997872</td>\n",
       "      <td>00:00</td>\n",
       "    </tr>\n",
       "  </tbody>\n",
       "</table>"
      ],
      "text/plain": [
       "<IPython.core.display.HTML object>"
      ]
     },
     "metadata": {},
     "output_type": "display_data"
    }
   ],
   "source": [
    "lrnr.fit(10)"
   ]
  }
 ],
 "metadata": {
  "kernelspec": {
   "display_name": "Python 3 (ipykernel)",
   "language": "python",
   "name": "python3"
  },
  "language_info": {
   "codemirror_mode": {
    "name": "ipython",
    "version": 3
   },
   "file_extension": ".py",
   "mimetype": "text/x-python",
   "name": "python",
   "nbconvert_exporter": "python",
   "pygments_lexer": "ipython3",
   "version": "3.7.13"
  }
 },
 "nbformat": 4,
 "nbformat_minor": 5
}
